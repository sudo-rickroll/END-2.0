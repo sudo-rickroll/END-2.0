{
  "nbformat": 4,
  "nbformat_minor": 0,
  "metadata": {
    "colab": {
      "name": "Sentiment Analysis using LSTM RNN.ipynb",
      "provenance": [],
      "collapsed_sections": []
    },
    "kernelspec": {
      "name": "python3",
      "display_name": "Python 3"
    },
    "language_info": {
      "name": "python"
    },
    "accelerator": "GPU"
  },
  "cells": [
    {
      "cell_type": "code",
      "metadata": {
        "colab": {
          "base_uri": "https://localhost:8080/"
        },
        "id": "FqH8vMqTpuca",
        "outputId": "9a78df8b-e8c0-4561-ca58-7a6d5e52e508"
      },
      "source": [
        "!pip install pytreebank"
      ],
      "execution_count": 1,
      "outputs": [
        {
          "output_type": "stream",
          "text": [
            "Collecting pytreebank\n",
            "  Downloading https://files.pythonhosted.org/packages/e0/12/626ead6f6c0a0a9617396796b965961e9dfa5e78b36c17a81ea4c43554b1/pytreebank-0.2.7.tar.gz\n",
            "Building wheels for collected packages: pytreebank\n",
            "  Building wheel for pytreebank (setup.py) ... \u001b[?25l\u001b[?25hdone\n",
            "  Created wheel for pytreebank: filename=pytreebank-0.2.7-cp37-none-any.whl size=37070 sha256=4ec3bfafd96c784282cd267c8955a1685a814a89aced9ae48f2ea46dda3da367\n",
            "  Stored in directory: /root/.cache/pip/wheels/e0/b6/91/e9edcdbf464f623628d5c3aa9de28888c726e270b9a29f2368\n",
            "Successfully built pytreebank\n",
            "Installing collected packages: pytreebank\n",
            "Successfully installed pytreebank-0.2.7\n"
          ],
          "name": "stdout"
        }
      ]
    },
    {
      "cell_type": "code",
      "metadata": {
        "id": "Qnj4UlH-qBvX"
      },
      "source": [
        "import pytreebank\n",
        "import pandas as pd"
      ],
      "execution_count": 2,
      "outputs": []
    },
    {
      "cell_type": "code",
      "metadata": {
        "id": "NaxbfTwEp_53"
      },
      "source": [
        "dataset = pytreebank.load_sst()"
      ],
      "execution_count": 3,
      "outputs": []
    },
    {
      "cell_type": "code",
      "metadata": {
        "colab": {
          "base_uri": "https://localhost:8080/"
        },
        "id": "xJD91a6Jfd3l",
        "outputId": "fa40a963-7e69-4c2f-9878-683de8f9e4bc"
      },
      "source": [
        "dataset['test'][456].to_labeled_lines()[0]"
      ],
      "execution_count": 4,
      "outputs": [
        {
          "output_type": "execute_result",
          "data": {
            "text/plain": [
              "(3,\n",
              " 'Jason X has cheesy effects and a hoary plot , but its macabre , self-deprecating sense of humor makes up for a lot .')"
            ]
          },
          "metadata": {
            "tags": []
          },
          "execution_count": 4
        }
      ]
    },
    {
      "cell_type": "code",
      "metadata": {
        "colab": {
          "base_uri": "https://localhost:8080/"
        },
        "id": "dGa1aGf-8FoX",
        "outputId": "f0fb99f4-1ae6-4c7b-a623-2cd1ac62bfa7"
      },
      "source": [
        "len(dataset['train']), len(dataset['test']), len(dataset['dev'])"
      ],
      "execution_count": 5,
      "outputs": [
        {
          "output_type": "execute_result",
          "data": {
            "text/plain": [
              "(8544, 2210, 1101)"
            ]
          },
          "metadata": {
            "tags": []
          },
          "execution_count": 5
        }
      ]
    },
    {
      "cell_type": "code",
      "metadata": {
        "colab": {
          "base_uri": "https://localhost:8080/"
        },
        "id": "zCskhn69s1Q1",
        "outputId": "d1973467-a23e-43d6-a3bb-e49447f35c88"
      },
      "source": [
        "[dataset.keys()]"
      ],
      "execution_count": 6,
      "outputs": [
        {
          "output_type": "execute_result",
          "data": {
            "text/plain": [
              "[dict_keys(['train', 'test', 'dev'])]"
            ]
          },
          "metadata": {
            "tags": []
          },
          "execution_count": 6
        }
      ]
    },
    {
      "cell_type": "code",
      "metadata": {
        "id": "_iCSczZbuGLx"
      },
      "source": [
        "train_df = pd.DataFrame({'sentence' : [dataset['train'][i].to_labeled_lines()[0][1] for i in range(len(dataset['train']))], 'labels' : [dataset['train'][i].to_labeled_lines()[0][0] for i in range(len(dataset['train']))]})\n",
        "test_df = pd.DataFrame({'sentence' : [dataset['test'][i].to_labeled_lines()[0][1] for i in range(len(dataset['test']))], 'labels' : [dataset['test'][i].to_labeled_lines()[0][0] for i in range(len(dataset['test']))]})\n",
        "val_df = pd.DataFrame({'sentence' : [dataset['dev'][i].to_labeled_lines()[0][1] for i in range(len(dataset['dev']))], 'labels' : [dataset['dev'][i].to_labeled_lines()[0][0] for i in range(len(dataset['dev']))]})\n",
        "df = pd.concat([train_df, test_df, val_df]).reset_index()\n",
        "df.drop('index', axis=1, inplace=True)\n",
        "#df.set_index('labels', inplace=True)\n"
      ],
      "execution_count": 7,
      "outputs": []
    },
    {
      "cell_type": "code",
      "metadata": {
        "colab": {
          "base_uri": "https://localhost:8080/",
          "height": 203
        },
        "id": "dexdcqMPaX0H",
        "outputId": "a7564ca6-5f88-4033-80ab-59663f25aa35"
      },
      "source": [
        "df.tail()"
      ],
      "execution_count": 8,
      "outputs": [
        {
          "output_type": "execute_result",
          "data": {
            "text/html": [
              "<div>\n",
              "<style scoped>\n",
              "    .dataframe tbody tr th:only-of-type {\n",
              "        vertical-align: middle;\n",
              "    }\n",
              "\n",
              "    .dataframe tbody tr th {\n",
              "        vertical-align: top;\n",
              "    }\n",
              "\n",
              "    .dataframe thead th {\n",
              "        text-align: right;\n",
              "    }\n",
              "</style>\n",
              "<table border=\"1\" class=\"dataframe\">\n",
              "  <thead>\n",
              "    <tr style=\"text-align: right;\">\n",
              "      <th></th>\n",
              "      <th>sentence</th>\n",
              "      <th>labels</th>\n",
              "    </tr>\n",
              "  </thead>\n",
              "  <tbody>\n",
              "    <tr>\n",
              "      <th>11850</th>\n",
              "      <td>it seems to me the film is about the art of ri...</td>\n",
              "      <td>1</td>\n",
              "    </tr>\n",
              "    <tr>\n",
              "      <th>11851</th>\n",
              "      <td>It 's just disappointingly superficial -- a mo...</td>\n",
              "      <td>1</td>\n",
              "    </tr>\n",
              "    <tr>\n",
              "      <th>11852</th>\n",
              "      <td>The title not only describes its main characte...</td>\n",
              "      <td>1</td>\n",
              "    </tr>\n",
              "    <tr>\n",
              "      <th>11853</th>\n",
              "      <td>Sometimes it feels as if it might have been ma...</td>\n",
              "      <td>2</td>\n",
              "    </tr>\n",
              "    <tr>\n",
              "      <th>11854</th>\n",
              "      <td>Schaeffer has to find some hook on which to ha...</td>\n",
              "      <td>1</td>\n",
              "    </tr>\n",
              "  </tbody>\n",
              "</table>\n",
              "</div>"
            ],
            "text/plain": [
              "                                                sentence  labels\n",
              "11850  it seems to me the film is about the art of ri...       1\n",
              "11851  It 's just disappointingly superficial -- a mo...       1\n",
              "11852  The title not only describes its main characte...       1\n",
              "11853  Sometimes it feels as if it might have been ma...       2\n",
              "11854  Schaeffer has to find some hook on which to ha...       1"
            ]
          },
          "metadata": {
            "tags": []
          },
          "execution_count": 8
        }
      ]
    },
    {
      "cell_type": "code",
      "metadata": {
        "colab": {
          "base_uri": "https://localhost:8080/"
        },
        "id": "HzM9yhgoD6J5",
        "outputId": "c4593d3c-315a-4003-c1e8-867af03cd867"
      },
      "source": [
        "df.loc[9000]"
      ],
      "execution_count": 9,
      "outputs": [
        {
          "output_type": "execute_result",
          "data": {
            "text/plain": [
              "sentence    Jason X has cheesy effects and a hoary plot , ...\n",
              "labels                                                      3\n",
              "Name: 9000, dtype: object"
            ]
          },
          "metadata": {
            "tags": []
          },
          "execution_count": 9
        }
      ]
    },
    {
      "cell_type": "code",
      "metadata": {
        "colab": {
          "base_uri": "https://localhost:8080/"
        },
        "id": "rE-ylf6C6BJD",
        "outputId": "3c39874f-605d-411b-8b43-3707c331231d"
      },
      "source": [
        "df.shape"
      ],
      "execution_count": 10,
      "outputs": [
        {
          "output_type": "execute_result",
          "data": {
            "text/plain": [
              "(11855, 2)"
            ]
          },
          "metadata": {
            "tags": []
          },
          "execution_count": 10
        }
      ]
    },
    {
      "cell_type": "code",
      "metadata": {
        "colab": {
          "base_uri": "https://localhost:8080/"
        },
        "id": "dkxhrQox6Ju3",
        "outputId": "125e8a99-9563-4c7e-ce08-aa768ce3104a"
      },
      "source": [
        "df.labels.value_counts()"
      ],
      "execution_count": 11,
      "outputs": [
        {
          "output_type": "execute_result",
          "data": {
            "text/plain": [
              "1    3140\n",
              "3    3111\n",
              "2    2242\n",
              "4    1852\n",
              "0    1510\n",
              "Name: labels, dtype: int64"
            ]
          },
          "metadata": {
            "tags": []
          },
          "execution_count": 11
        }
      ]
    },
    {
      "cell_type": "code",
      "metadata": {
        "id": "2reTNPc3v9RW"
      },
      "source": [
        "df_train = df[:int(0.7*len(df))]\n",
        "df_val = df[len(df_train):]"
      ],
      "execution_count": 42,
      "outputs": []
    },
    {
      "cell_type": "code",
      "metadata": {
        "colab": {
          "base_uri": "https://localhost:8080/"
        },
        "id": "RAaabTiLxwBv",
        "outputId": "6c8dc3f5-4c93-4807-9058-9fc0d0607256"
      },
      "source": [
        "df_train.head(), df_val.head()"
      ],
      "execution_count": 25,
      "outputs": [
        {
          "output_type": "execute_result",
          "data": {
            "text/plain": [
              "(                                            sentence  labels\n",
              " 0  The Rock is destined to be the 21st Century 's...       3\n",
              " 1  The gorgeously elaborate continuation of `` Th...       4\n",
              " 2  Singer/composer Bryan Adams contributes a slew...       3\n",
              " 3  You 'd think by now America would have had eno...       2\n",
              " 4               Yet the act is still charming here .       3,\n",
              "                                                sentence  labels\n",
              " 8298  A prison comedy that never really busts out of...       1\n",
              " 8299  The movie is obviously a labour of love so How...       2\n",
              " 8300            This is n't a movie ; it 's a symptom .       1\n",
              " 8301  What we have is a character faced with the pos...       0\n",
              " 8302                 If only it were , well , funnier .       1)"
            ]
          },
          "metadata": {
            "tags": []
          },
          "execution_count": 25
        }
      ]
    },
    {
      "cell_type": "code",
      "metadata": {
        "colab": {
          "base_uri": "https://localhost:8080/"
        },
        "id": "ma2WESJtwP1A",
        "outputId": "a9ce7b61-2014-4053-ec76-8a5d1e6faf6f"
      },
      "source": [
        "len(df_train), len(df_val)"
      ],
      "execution_count": 26,
      "outputs": [
        {
          "output_type": "execute_result",
          "data": {
            "text/plain": [
              "(8298, 3557)"
            ]
          },
          "metadata": {
            "tags": []
          },
          "execution_count": 26
        }
      ]
    },
    {
      "cell_type": "code",
      "metadata": {
        "colab": {
          "base_uri": "https://localhost:8080/"
        },
        "id": "dde379vj1MZD",
        "outputId": "126fe700-6f22-4cb0-b3cf-120067361f3d"
      },
      "source": [
        "! pip install googletrans==3.1.0a0"
      ],
      "execution_count": 27,
      "outputs": [
        {
          "output_type": "stream",
          "text": [
            "Collecting googletrans==3.1.0a0\n",
            "  Downloading https://files.pythonhosted.org/packages/19/3d/4e3a1609bf52f2f7b00436cc751eb977e27040665dde2bd57e7152989672/googletrans-3.1.0a0.tar.gz\n",
            "Collecting httpx==0.13.3\n",
            "\u001b[?25l  Downloading https://files.pythonhosted.org/packages/54/b4/698b284c6aed4d7c2b4fe3ba5df1fcf6093612423797e76fbb24890dd22f/httpx-0.13.3-py3-none-any.whl (55kB)\n",
            "\u001b[K     |████████████████████████████████| 61kB 3.2MB/s \n",
            "\u001b[?25hCollecting hstspreload\n",
            "\u001b[?25l  Downloading https://files.pythonhosted.org/packages/dd/50/606213e12fb49c5eb667df0936223dcaf461f94e215ea60244b2b1e9b039/hstspreload-2020.12.22-py3-none-any.whl (994kB)\n",
            "\u001b[K     |████████████████████████████████| 1.0MB 10.0MB/s \n",
            "\u001b[?25hCollecting rfc3986<2,>=1.3\n",
            "  Downloading https://files.pythonhosted.org/packages/c4/e5/63ca2c4edf4e00657584608bee1001302bbf8c5f569340b78304f2f446cb/rfc3986-1.5.0-py2.py3-none-any.whl\n",
            "Requirement already satisfied: certifi in /usr/local/lib/python3.7/dist-packages (from httpx==0.13.3->googletrans==3.1.0a0) (2020.12.5)\n",
            "Requirement already satisfied: idna==2.* in /usr/local/lib/python3.7/dist-packages (from httpx==0.13.3->googletrans==3.1.0a0) (2.10)\n",
            "Collecting httpcore==0.9.*\n",
            "\u001b[?25l  Downloading https://files.pythonhosted.org/packages/dd/d5/e4ff9318693ac6101a2095e580908b591838c6f33df8d3ee8dd953ba96a8/httpcore-0.9.1-py3-none-any.whl (42kB)\n",
            "\u001b[K     |████████████████████████████████| 51kB 6.0MB/s \n",
            "\u001b[?25hRequirement already satisfied: chardet==3.* in /usr/local/lib/python3.7/dist-packages (from httpx==0.13.3->googletrans==3.1.0a0) (3.0.4)\n",
            "Collecting sniffio\n",
            "  Downloading https://files.pythonhosted.org/packages/52/b0/7b2e028b63d092804b6794595871f936aafa5e9322dcaaad50ebf67445b3/sniffio-1.2.0-py3-none-any.whl\n",
            "Collecting h11<0.10,>=0.8\n",
            "\u001b[?25l  Downloading https://files.pythonhosted.org/packages/5a/fd/3dad730b0f95e78aeeb742f96fa7bbecbdd56a58e405d3da440d5bfb90c6/h11-0.9.0-py2.py3-none-any.whl (53kB)\n",
            "\u001b[K     |████████████████████████████████| 61kB 5.7MB/s \n",
            "\u001b[?25hCollecting h2==3.*\n",
            "\u001b[?25l  Downloading https://files.pythonhosted.org/packages/25/de/da019bcc539eeab02f6d45836f23858ac467f584bfec7a526ef200242afe/h2-3.2.0-py2.py3-none-any.whl (65kB)\n",
            "\u001b[K     |████████████████████████████████| 71kB 9.0MB/s \n",
            "\u001b[?25hCollecting hpack<4,>=3.0\n",
            "  Downloading https://files.pythonhosted.org/packages/8a/cc/e53517f4a1e13f74776ca93271caef378dadec14d71c61c949d759d3db69/hpack-3.0.0-py2.py3-none-any.whl\n",
            "Collecting hyperframe<6,>=5.2.0\n",
            "  Downloading https://files.pythonhosted.org/packages/19/0c/bf88182bcb5dce3094e2f3e4fe20db28a9928cb7bd5b08024030e4b140db/hyperframe-5.2.0-py2.py3-none-any.whl\n",
            "Building wheels for collected packages: googletrans\n",
            "  Building wheel for googletrans (setup.py) ... \u001b[?25l\u001b[?25hdone\n",
            "  Created wheel for googletrans: filename=googletrans-3.1.0a0-cp37-none-any.whl size=16368 sha256=0bcf801cbf3ee54f283a37dec8f958c858bd0e5120cf0a370ccd2ec8465f79f1\n",
            "  Stored in directory: /root/.cache/pip/wheels/27/7a/a0/aff3babbb775549ce6813cb8fa7ff3c0848c4dc62c20f8fdac\n",
            "Successfully built googletrans\n",
            "Installing collected packages: hstspreload, rfc3986, sniffio, h11, hpack, hyperframe, h2, httpcore, httpx, googletrans\n",
            "Successfully installed googletrans-3.1.0a0 h11-0.9.0 h2-3.2.0 hpack-3.0.0 hstspreload-2020.12.22 httpcore-0.9.1 httpx-0.13.3 hyperframe-5.2.0 rfc3986-1.5.0 sniffio-1.2.0\n"
          ],
          "name": "stdout"
        }
      ]
    },
    {
      "cell_type": "code",
      "metadata": {
        "colab": {
          "base_uri": "https://localhost:8080/"
        },
        "id": "tZ0pN7JQtqc2",
        "outputId": "626f99b4-1378-4e4c-df3e-cfc9b7d0e2d7"
      },
      "source": [
        "import random\n",
        "import googletrans\n",
        "\n",
        "translator = googletrans.Translator()\n",
        "indexes = random.choices(list(range(len(df_train))), k = len(df_train)//16)                         \n",
        "sentence = [df_train['sentence'][i] for i in indexes]\n",
        "\n",
        "available_langs = list(googletrans.LANGUAGES.keys()) \n",
        "trans_lang = random.choice(available_langs) \n",
        "print(f\"Translating to {googletrans.LANGUAGES[trans_lang]}\")\n",
        "\n",
        "translations = translator.translate(sentence, dest=trans_lang) \n",
        "t_text = [t.text for t in translations]\n",
        "print(t_text)\n",
        "\n",
        "translations_en_random = translator.translate(t_text, src=trans_lang, dest='en') \n",
        "en_text = [t.text for t in translations_en_random]\n",
        "print(en_text)"
      ],
      "execution_count": 35,
      "outputs": [
        {
          "output_type": "stream",
          "text": [
            "Translating to khmer\n",
            "[\"There 's something poignant about an artist of 90-plus years taking the effort to share his impressions of life and loss and time and art with us .\", 'The film proves unrelentingly grim -- and equally engrossing .', \"Chris Columbus ' sequel is faster , livelier and a good deal funnier than his original .\", \"It 's enough to watch Huppert scheming , with her small , intelligent eyes as steady as any noir villain , and to enjoy the perfectly pitched web of tension that Chabrol spins .\", 'The movie would seem less of a trifle if Ms. Sugarman followed through on her defiance of the saccharine .', 'Happy Times maintains an appealing veneer without becoming too cute about it .', 'This is a movie that refreshes the mind and spirit along with the body , so original is its content , look , and style .', \"Because Eight Legged Freaks is partly an homage to Them , Tarantula and other low - budget B-movie thrillers of the 1950s and '60s , the movie is a silly ( but not sophomoric ) romp through horror and hellish conditions .\", 'A living testament to the power of the eccentric and the strange .', \"Triple X is a double agent , and he 's one bad dude .\", \"Eddie Murphy and Owen Wilson have a cute partnership in I Spy , but the movie around them is so often nearly nothing that their charm does n't do a load of good .\", \"Releasing a film with the word ` dog ' in its title in January lends itself to easy jokes and insults , and Snow Dogs deserves every single one of them .\", \"` Would n't it be nice if all guys got a taste of what it 's like on the other side of the bra ? '\", \"The central character is n't complex enough to hold our interest .\", \"Does n't do more than expand a TV show to movie length .\", 'Blithely anachronistic and slyly achronological .', 'A small fortune in salaries and stunt cars might have been saved if the director , Tom Dey , had spliced together bits and pieces of Midnight Run and 48 Hours ( and , for that matter , Shrek ) .', \"An enormously entertaining movie , like nothing we 've ever seen before , and yet completely familiar .\", \"Astonishing is n't the word -- neither is incompetent , incoherent or just plain crap .\", 'Certain to be distasteful to children and adults alike , Eight Crazy Nights is a total misfire .', 'As Schmidt , Nicholson walks with a slow , deliberate gait , chooses his words carefully and subdues his natural exuberance .', 'Be prepared to cling to the edge of your seat , tense with suspense .', 'Like being invited to a classy dinner soiree and not knowing anyone .', 'Transcends its agenda to deliver awe-inspiring , at times sublime , visuals and offer a fascinating glimpse into the subculture of extreme athletes whose derring-do puts the X into the games .', 'Certainly .', \"Quitting delivers a sucker-punch , and its impact is all the greater beause director Zhang 's last film , the cuddly Shower , was a non-threatening multi-character piece centered around a public bath house .\", 'Certainly the performances are worthwhile .', \"The film affords us intriguing glimpses of the insights gleaned from a lifetime of spiritual inquiry , but Ram Dass : Fierce Grace does n't organize it with any particular insight .\", \"If you grew up on Scooby -- you 'll love this movie .\", \"Schneider 's mugging is relentless and his constant need to suddenly transpose himself into another character undermines the story 's continuity and progression .\", \"Only in its final surprising shots does Rabbit-Proof Fence find the authority it 's looking for .\", 'Everything was as superficial as the forced New Jersey lowbrow accent Uma had .', \"( Carvey 's ) characters are both overplayed and exaggerated , but then again , subtlety has never been his trademark .\", 'Becomes a fascinating study of isolation and frustration that successfully recreates both the physical setting and emotional tensions of the Papin sisters .', '( Creates ) the worst kind of mythologizing , the kind that sacrifices real heroism and abject suffering for melodrama .', \"It 's hard to imagine any recent film , independent or otherwise , that makes as much of a mess as this one .\", \"Nakata 's technique is to imply terror by suggestion , rather than the overuse of special effects .\", 'A comedy that swings and jostles to the rhythms of life .', 'Maybe not a classic , but a movie the kids will want to see over and over again .', \"Schrader examines Crane 's decline with unblinking candor .\", '... an eerily suspenseful , deeply absorbing piece that works as a treatise on spirituality as well as a solid sci-fi thriller .', 'Symbolically , Warm Water Under a Red Bridge is a celebration of feminine energy , a tribute to the power of women to heal .', 'Piercingly affecting ... while clearly a manipulative film , emerges as powerful rather than cloying .', 'Deadly dull , pointless meditation on losers in a gone-to-seed hotel .', '( Siegel ) and co-writers Lisa Bazadona and Grace Woodard have relied too much on convention in creating the characters who surround Frankie .', \"Chouraqui brings documentary-like credibility to the horrors of the killing field and the barbarism of ` ethnic cleansing . '\", 'A typically observant , carefully nuanced and intimate French coming-of-age film that is an encouraging debut feature but has a needlessly downbeat ending that is too heavy for all that has preceded it .', 'The filmmakers want nothing else than to show us a good time , and in their cheap , B movie way , they succeed .', \"You do n't want to call the cops .\", \"Would 've been nice if the screenwriters had trusted audiences to understand a complex story , and left off the film 's predictable denouement .\", 'The only camouflage Carvey should now be considering is a paper bag to wear over his head when he goes out into public , to avoid being recognized as the man who bilked unsuspecting moviegoers .', 'My Wife is an Actress has its moments in looking at the comic effects of jealousy .', 'It thankfully goes easy on the reel/real world dichotomy that ( Jaglom ) pursued with such enervating determination in Venice/Venice .', 'A mesmerizing cinematic poem from the first frame to the last .', \"An affectionately goofy satire that 's unafraid to throw elbows when necessary ...\", 'Some fine acting , but ultimately a movie with no reason for being .', \"Gaping plot holes sink this ` sub ' - standard thriller and drag audience enthusiasm to crush depth .\", 'Wallace directs with such patronising reverence , it turns the stomach .', 'Hard , endearing , caring , warm .', \"He gets his secretary to fax it . ''\", 'I had more fun watching Spy than I had with most of the big summer movies .', \"Parker can not sustain the buoyant energy level of the film 's city beginnings into its country conclusion '\", \"Dull , a road-trip movie that 's surprisingly short of both adventure and song .\", \"Glizty but formulaic and silly ... Cagney 's ` top of the world ' has been replaced by the bottom of the barrel .\", 'One of those films that seems tailor made to air on pay cable to offer some modest amusements when one has nothing else to watch .', 'Though her fans will assuredly have their funny bones tickled , others will find their humor-seeking dollars best spent elsewhere .', 'Somehow Ms. Griffiths and Mr. Pryce bring off this wild Welsh whimsy .', 'It is a popcorn film , not a must-own , or even a must-see .', \"It 's not a great monster movie .\", 'After you laugh once ( maybe twice ) , you will have completely forgotten the movie by the time you get back to your car in the parking lot .', \"It 's a testament to De Niro and director Michael Caton-Jones that by movie 's end , we accept the characters and the film , flaws and all .\", 'Halfway through the movie , the humor dwindles .', \"Schneidermeister ... Makin ' a fool of himself ... Losin ' his fan base ...\", 'If not a home run , then at least a solid base hit .', 'Philosophically , intellectually and logistically a mess .', \"It 's a glorious spectacle like those D.W. Griffith made in the early days of silent film .\", 'Even as the hero of the story rediscovers his passion in life , the mood remains oddly detached .', 'A moving and important film .', 'A good music documentary , probably one of the best since The Last Waltz .', 'Ah , yes , that would be me : fighting off the urge to doze .', 'Lurid and less than lucid work .', 'With very little to add beyond the dark visions already relayed by superb recent predecessors like Swimming With Sharks and The Player , this latest skewering ... may put off insiders and outsiders alike .', \"What should have been a cutting Hollywood satire is instead about as fresh as last week 's issue of Variety .\", 'The cumulative effect of the movie is repulsive and depressing .', \"The script 's snazzy dialogue establishes a realistic atmosphere that involves us in the unfolding crisis , but the lazy plotting ensures that little of our emotional investment pays off .\", 'An encouraging effort from McCrudden', 'The unexpected thing is that its dying , in this shower of black-and-white psychedelia , is quite beautiful .', \"You 'd be hard put to find a movie character more unattractive or odorous ( than Leon ) .\", 'An intimate contemplation of two marvelously messy lives .', \"Connoisseurs of Chinese film will be pleased to discover that Tian 's meticulous talent has not withered during his enforced hiatus .\", 'A beautifully observed character piece .', 'A perfect example of rancid , well-intentioned , but shamelessly manipulative movie making .', 'Needed a little less bling-bling and a lot more romance .', 'So could young romantics out on a date .', \"It 's rare that a movie can be as intelligent as this one is in every regard except its storyline ; everything that 's good is ultimately scuttled by a plot that 's just too boring and obvious .\", 'The fascination comes in the power of the Huston performance , which seems so larger than life and yet so fragile , and in the way the Ivan character accepts the news of his illness so quickly but still finds himself unable to react .', 'Wait for it to hit cable .', \"The truth about Charlie is that it 's a brazenly misguided project .\", 'A film that should be relegated to a dark video store corner is somehow making its way instead to theaters .', \"The video work is so grainy and rough , so dependent on being ` naturalistic ' rather than carefully lit and set up , that it 's exhausting to watch .\", 'Saved from being merely way-cool by a basic , credible compassion .', 'Gets the look and the period trappings right , but it otherwise drowns in a sea of visual and verbal clichés .', \"Nair 's cast is so large it 's Altman-esque , but she deftly spins the multiple stories in a vibrant and intoxicating fashion .\", 'There is only so much baked cardboard I need to chew .', 'A culture-clash comedy that , in addition to being very funny , captures some of the discomfort and embarrassment of being a bumbling American in Europe .', 'Millions of dollars heaped upon a project of such vast proportions need to reap more rewards than spiffy bluescreen technique and stylish weaponry .', \"He may have meant the Internet short Saving Ryan 's Privates .\", 'This often-hilarious farce manages to generate the belly laughs of lowbrow comedy without sacrificing its high-minded appeal .', \"Not kids , who do n't need the lesson in repugnance .\", 'But it is entertaining on an inferior level .', 'I guess it just goes to show that if you give a filmmaker an unlimited amount of phony blood , nothing good can happen .', \"But this time , the old MIB label stands for Milder Is n't Better .\", \"Too bad Maggio could n't come up with a better script .\", 'Whereas the extremely competent hitman films such as Pulp Fiction and Get Shorty resonate a sardonic verve to their caustic purpose for existing , Who Is Cletis Tout ?', 'It takes a really long , slow and dreary time to dope out what TUCK EVERLASTING is about .', 'A reminder that beyond all the hype and recent digital glitz , Spielberg knows how to tell us about people .', 'A very depressing movie of many missed opportunities .', \"It 's funny .\", 'No , I hate it .', 'This is a monumental achievement in practically every facet of inept filmmaking : joyless , idiotic , annoying , heavy-handed , visually atrocious , and often downright creepy .', 'The characters are never more than sketches ... which leaves any true emotional connection or identification frustratingly out of reach .', \"Carrying this wafer-thin movie on his nimble shoulders , Chan wades through putrid writing , direction and timing with a smile that says , ` If I stay positive , maybe I can channel one of my greatest pictures , Drunken Master . '\", 'Secret Ballot is a funny , puzzling movie ambiguous enough to be engaging and oddly moving .', 'Watching junk like this induces a kind of abstract guilt , as if you were paying dues for good books unread , fine music never heard .', \"With a tone as variable as the cinematography , Schaeffer 's film never settles into the light-footed enchantment the material needs , and the characters ' quirks and foibles never jell into charm .\", \"Parker should be commended for taking a fresh approach to familiar material , but his determination to remain true to the original text leads him to adopt a somewhat mannered tone ... that ultimately dulls the human tragedy at the story 's core .\", 'Not only a reminder of how they used to make movies , but also how they sometimes still can be made .', \"Where 's the movie here ?\", 'Astonishing ... ( frames ) profound ethical and philosophical questions in the form of dazzling pop entertainment .', \"One of the best of a growing strain of daring films ... that argue that any sexual relationship that does n't hurt anyone and works for its participants is a relationship that is worthy of our respect .\", \"Performances are potent , and the women 's stories are ably intercut and involving .\", \"What more can be expected from a college comedy that 's target audience has n't graduated from junior high school ?\", \"It 's hard to believe that something so short could be so flabby .\", \"Though uniformly well acted , especially by young Ballesta and Galan ( a first-time actor ) , writer/director Achero Manas 's film is schematic and obvious .\", \"Informative , intriguing , observant , often touching ... gives a human face to what 's often discussed in purely abstract terms .\", \"The nicest thing that can be said about Stealing Harvard ( which might have been called Freddy Gets Molested by a Dog ) is that it 's not as obnoxious as Tom Green 's Freddie Got Fingered .\", 'Bluer than the Atlantic and more biologically detailed than an autopsy , the movie ... is , also , frequently hilarious .', 'Easily the most thoughtful fictional examination of the root causes of anti-Semitism ever seen on screen .', 'Sometimes there are very , very good reasons for certain movies to be sealed in a jar and left on a remote shelf indefinitely .', 'Tom Green and an Ivy League college should never appear together on a marquee , especially when the payoff is an unschooled comedy like Stealing Harvard , which fails to keep 80 minutes from seeming like 800 .', 'Screenwriter Dan Schneider and director Shawn Levy substitute volume and primary colors for humor and bite .', 'Together , Miller , Kuras and the actresses make Personal Velocity into an intricate , intimate and intelligent journey .', \"You do n't know whether to admire the film 's stately nature and call it classicism or be exasperated by a noticeable lack of pace .\", 'Seems like someone going through the motions .', \"I have a new favorite musical -- and I 'm not even a fan of the genre\", \"Like Vardalos and Corbett , who play their roles with vibrant charm , the film , directed by Joel Zwick , is heartfelt and hilarious in ways you ca n't fake .\", '`` ... something appears to have been lost in the translation this time .', \"` Synthetic ' is the best description of this well-meaning , beautifully produced film that sacrifices its promise for a high-powered star pedigree .\", \"Impostor ca n't think of a thing to do with these characters except have them run through dark tunnels , fight off various anonymous attackers , and evade elaborate surveillance technologies .\", 'A pleasant and engaging enough sit , but in trying to have the best of both worlds it ends up falling short as a whole .', \"It 's like an all-star salute to Disney 's cheesy commercialism .\", 'unpretentious , charming , quirky , original', \"The engagingly primitive animated special effects contribute to a mood that 's sustained through the surprisingly somber conclusion .\", \"Like being able to hit on a 15-year old when you 're over 100 .\", 'Stale and clichéd to a fault .', 'The film is a confusing melange of tones and styles , one moment a romantic trifle and the next a turgid drama .', \"It 's horribly depressing and not very well done .\", 'Even a hardened voyeur would require the patience of Job to get through this interminable , shapeless documentary about the swinging subculture .', 'One of the most slyly exquisite anti-adult movies ever made .', 'It was only a matter of time before some savvy producer saw the potential success inherent in the mixture of Bullock Bubble and Hugh Goo .', 'A sub-formulaic slap in the face to seasonal cheer .', 'An unencouraging threefold expansion on the former MTV series , accompanying the stunt-hungry dimwits in a random series of collected gags , pranks , pratfalls , dares , injuries , etc. .', 'Starts promisingly but disintegrates into a dreary , humorless soap opera .', 'A mesmerizing cinematic poem from the first frame to the last .', 'A movie I loved on first sight and , even more important , love in remembrance .', \"A real audience-pleaser that will strike a chord with anyone who 's ever waited in a doctor 's office , emergency room , hospital bed or insurance company office .\", 'The riveting performances by the incredibly flexible cast make Love a joy to behold .', 'Gently humorous and touching .', 'Absorbing character study by André Turpin .', \"All the movie 's narrative gymnastics ca n't disguise the fact that it 's inauthentic at its core and that its story just is n't worth telling .\", \"There 's a lot of good material here , but there 's also a lot of redundancy and unsuccessful crudeness accompanying it .\", 'For this sort of thing to work , we need agile performers , but the proficient , dull Sorvino has no light touch , and Rodan is out of his league .', 'It has fun with the quirks of family life , but it also treats the subject with fondness and respect .', \"The dragons are the real stars of Reign of Fire and you wo n't be disappointed .\", 'Told just proficiently enough to trounce its overly comfortable trappings .', \"Davis ' candid , archly funny and deeply authentic take on intimate relationships comes to fruition in her sophomore effort .\", \"There must be an audience that enjoys the Friday series , but I would n't be interested in knowing any of them personally .\", \"This is one of Mr. Chabrol 's subtlest works , but also one of his most uncanny .\", 'Goldmember is funny enough to justify the embarrassment of bringing a barf bag to the moviehouse .', \"They 're just a couple of cops in Copmovieland , these two , but in Narc , they find new routes through a familiar neighborhood .\", 'A moving story of determination and the human spirit .', \"This English-language version ... does full honor to Miyazaki 's teeming and often unsettling landscape , and to the conflicted complexity of his characters .\", \"This is not one of the movies you 'd want to watch if you only had a week to live .\", \"It 's bright , pristine style and bold colors make it as much fun as reading an oversized picture book before bedtime .\", \"Like Kissing Jessica Stein , Amy 's Orgasm has a key strength in its willingness to explore its principal characters with honesty , insight and humor .\", \"Hawke 's film , a boring , pretentious waste of nearly two hours , does n't tell you anything except that the Chelsea Hotel today is populated by whiny , pathetic , starving and untalented artistes .\", \"Post 9/11 the philosophical message of `` Personal Freedom First '' might not be as palatable as intended .\", \"It might be ` easier ' to watch on video at home , but that should n't stop die-hard French film connoisseurs from going out and enjoying the big-screen experience .\", \"Matches neorealism 's impact by showing the humanity of a war-torn land filled with people who just want to live their lives .\", 'The leaping story line , shaped by director Peter Kosminsky into sharp slivers and cutting impressions , shows all the signs of rich detail condensed into a few evocative images and striking character traits .', 'I wanted more .', 'Comedian , like its subjects , delivers the goods and audiences will have a fun , no-frills ride .', 'An Inuit masterpiece that will give you goosebumps as its uncanny tale of love , communal discord , and justice unfolds .', 'Affectionately reminds us that , in any language , the huge stuff in life can usually be traced back to the little things .', '( Cuarón has ) created a substantive movie out of several cliched movie structures : the road movie , the coming-of-age movie , and the teenage sex comedy .', \"The sequel plays out like a flimsy excuse to give Blade fans another look at Wesley Snipes ' iconic hero doing battle with dozens of bad guys -- at once .\", \"It 's uninteresting .\", 'When the heroes were actually under 40 ?', \"A tired , unnecessary retread ... a stale copy of a picture that was n't all that great to begin with .\", \"Loosely speaking , we 're in All of Me territory again , and , strictly speaking , Schneider is no Steve Martin .\", \"The most amazing super-sized dosage of goofball stunts any `` Jackass '' fan could want .\", \"For a film about explosions and death and spies , `` Ballistic : Ecks vs. Sever '' seems as safe as a children 's film .\", 'They crush each other under cars , throw each other out windows , electrocute and dismember their victims in full consciousness .', 'I have not been this disappointed by a movie in a long time .', 'But it is entertaining on an inferior level .', \"Eisenstein lacks considerable brio for a film about one of cinema 's directorial giants .\", 'Superbly photographed and staged by Mendes with a series of riveting set pieces the likes of which mainstream audiences have rarely seen .', 'Sayles ... once again strands his superb performers in the same old story .', 'But I do .', 'Between them , De Niro and Murphy make Showtime the most savory and hilarious guilty pleasure of many a recent movie season .', 'Jackson shamefully strolls through this mess with a smug grin , inexplicably wearing a kilt and carrying a bag of golf clubs over one shoulder .', 'While kids will probably eat the whole thing up , most adults will be way ahead of the plot .', 'In gleefully , thumpingly hyperbolic terms , it covers just about every cliche in the compendium about crass , jaded movie types and the phony baloney movie biz .', \"Veterans of the dating wars will smirk uneasily at the film 's nightmare versions of everyday sex-in-the-city misadventures .\", \"Though few will argue that it ranks with the best of Herzog 's works , Invincible shows he 's back in form , with an astoundingly rich film .\", 'The large-format film is well suited to capture these musicians in full regalia and the incredible IMAX sound system lets you feel the beat down to your toes .', \"All in all , an interesting look at the life of the campaign-trail press , especially ones that do n't really care for the candidate they 're forced to follow .\", 'More than their unique residences , Home Movie is about the people who live in them , who have carved their own comfortable niche in the world and have been kind enough to share it .', 'This film is too busy hitting all of its assigned marks to take on any life of its own .', \"The Lady and the Duke is a smart , romantic drama that dares to depict the French Revolution from the aristocrats ' perspective .\", \"Try as you might to scrutinize the ethics of Kaufman 's approach , somehow it all comes together to create a very compelling , sensitive , intelligent and almost cohesive piece of film entertainment .\", 'As saccharine as it is disposable .', 'This is for the most part a useless movie , even with a great director at the helm .', \"If you 're really renting this you 're not interested in discretion in your entertainment choices , you 're interested in Anne Geddes , John Grisham , and Thomas Kincaid .\", \"Isabelle Huppert excels as the enigmatic Mika and Anna Mouglalis is a stunning new young talent in one of Chabrol 's most intense psychological mysteries .\", 'An ugly , revolting movie .', \"Open-ended and composed of layer upon layer , Talk to Her is a cinephile 's feast , an invitation to countless interpretations .\", \"Filmmakers David Weissman and Bill Weber benefit enormously from the Cockettes ' camera craziness -- not only did they film performances , but they did the same at home .\", 'A little melodramatic , but with enough hope to keep you engaged .', 'waydowntown may not be an important movie , or even a good one , but it provides a nice change of mindless pace in collision with the hot Oscar season currently underway .', \"Brosnan 's finest non-Bondish performance yet fails to overcome the film 's manipulative sentimentality and annoying stereotypes .\", 'The Transporter bombards the viewer with so many explosions and side snap kicks that it ends up being surprisingly dull .', \"A violent initiation rite for the audience , as much as it is for Angelique , the ( opening ) dance guarantees Karmen 's enthronement among the cinema 's memorable women .\", 'Mediocre fable from Burkina Faso .', \"Beautifully shot , delicately scored and powered by a set of heartfelt performances , it 's a lyrical endeavour .\", 'Each story is built on a potentially interesting idea , but the first two are ruined by amateurish writing and acting , while the third feels limited by its short running time .', \"The film 's stagecrafts are intimate and therefore bolder than the otherwise calculated artifice that defines and overwhelms the film 's production design .\", \"`` Feardotcom '' has the makings of an interesting meditation on the ethereal nature of the internet and the otherworldly energies it could channel , but it simply becomes a routine shocker .\", 'The story plays out slowly , but the characters are intriguing and realistic .', 'Another entertaining romp from Robert Rodriguez .', \"Watching this film , one is left with the inescapable conclusion that Hitchens ' obsession with Kissinger is , at bottom , a sophisticated flower child 's desire to purge the world of the tooth and claw of human power .\", 'It has the air of a surprisingly juvenile lark , a pop-influenced prank whose charms are immediately apparent and wear thin with repetition .', '... a hokey piece of nonsense that tries too hard to be emotional .', 'The writing is clever and the cast is appealing .', 'With not a lot of help from the screenplay ( proficient , but singularly cursory ) , ( Testud ) acts with the feral intensity of the young Bette Davis .', 'overburdened with complicated plotting and banal dialogue', 'Captures the raw comic energy of one of our most flamboyant female comics .', 'It is also beautifully acted .', \"tale will be all too familiar for anyone who 's seen George Roy Hill 's 1973 film , `` The Sting . ''\", \"This is an interesting movie ! ''\", \"Birthday Girl does n't try to surprise us with plot twists , but rather seems to enjoy its own transparency .\", 'Enigma lacks it .', \"LaBute ca n't avoid a fatal mistake in the modern era : He 's changed the male academic from a lower-class Brit to an American , a choice that upsets the novel 's exquisite balance and shreds the fabric of the film .\", \"Any film that does n't even in passing mention political prisoners , poverty and the boat loads of people who try to escape the country is less a documentary and more propaganda by way of a valentine sealed with a kiss .\", 'Most of the characters come off as pantomimesque sterotypes .', 'We assume he had a bad run in the market or a costly divorce , because there is no earthly reason other than money why this distinguished actor would stoop so low .', \"... you can be forgiven for realizing that you 've spent the past 20 minutes looking at your watch and waiting for Frida to just die already .\", \"From the opening strains of the Average White Band 's `` Pick up the Pieces '' , you can feel the love .\", 'To get at the root psychology of this film would require many sessions on the couch of Dr. Freud .', \"Its cast full of caffeinated comedy performances more than make up for its logical loopholes , which fly by so fast there 's no time to think about them anyway .\", \"It all looks and plays like a $ 40 million version of a game you 're more likely to enjoy on a computer .\", '... unlikable , uninteresting , unfunny , and completely , utterly inept .', 'No matter how much he runs around and acts like a doofus , accepting a 50-year-old in the role is creepy in a Michael Jackson sort of way .', 'Feels like a cold old man going through the motions .', 'With few respites , Marshall keeps the energy humming , and his edits , unlike those in Moulin Rouge , are crisp and purposeful without overdoing it .', 'Parents beware ; this is downright movie penance .', 'It is hard not to be especially grateful for freedom after a film like this .', \"No better or worse than ` Truth or Consequences , N.M. ' or any other interchangeable actioner with imbecilic Mafia toolbags botching a routine assignment in a Western backwater .\", 'A particularly joyless , and exceedingly dull , period coming-of-age tale .', 'The niftiest trick perpetrated by The Importance of Being Earnest is the alchemical transmogrification of Wilde into Austen -- and a Hollywood-ized Austen at that .', 'My Wife is an Actress has its moments in looking at the comic effects of jealousy .', 'An interesting psychological game of cat-and-mouse , three-dimensional characters and believable performances all add up to a satisfying crime drama .', 'Trailer park Magnolia : too long , too cutesy , too sure of its own importance , and possessed of that peculiar tension of being too dense & about nothing at all .', 'The more you think about the movie , the more you will probably like it .', \"In ( screenwriter ) Charlie Kaufman 's world , truth and fiction are equally strange , and his for the taking .\", 'is a question for philosophers , not filmmakers ; all the filmmakers need to do is engage an audience .', \"The things this movie tries to get the audience to buy just wo n't fly with most intelligent viewers .\", 'There is one surefire way to get a nomination for a best-foreign-film Oscar : Make a movie about whimsical folk who learn a nonchallenging , life-affirming lesson while walking around a foreign city with stunning architecture .', \"I do n't think most of the people who loved the 1989 Paradiso will prefer this new version .\", \"Putting the primitive murderer inside a high-tech space station unleashes a Pandora 's Box of special effects that run the gamut from cheesy to cheesier to cheesiest .\", \"Finally , the French-produced `` Read My Lips '' is a movie that understands characters must come first .\", \"It 's the unsettling images of a war-ravaged land that prove more potent and riveting than the unlikely story of Sarah and Harrison .\", \"A few nonbelievers may rethink their attitudes when they see the joy the characters take in this creed , but skeptics are n't likely to enter the theater .\", 'Monte Cristo smartly emphasizes the well-wrought story and omits needless chase scenes and swordfights as the revenge unfolds .', 'A cheap scam put together by some cynical creeps at Revolution Studios and Imagine Entertainment to make the suckers out there surrender $ 9 and 93 minutes of unrecoverable life .', \"Director-writer Bille August ... depicts this relationship with economical grace , letting his superb actors convey Martin 's deterioration and Barbara 's sadness -- and , occasionally , anger .\", 'And it is .', \"tale will be all too familiar for anyone who 's seen George Roy Hill 's 1973 film , `` The Sting . ''\", \"A raunchy and frequently hilarious follow-up to the gifted Korean American stand-up 's I 'm the One That I Want .\", 'Such a bad movie that its luckiest viewers will be seated next to one of those ignorant pinheads who talk throughout the show .', 'A delightful little film that revels in its own simplicity , Mostly Martha will leave you with a smile on your face and a grumble in your stomach .', \"That ` Alabama ' manages to be pleasant in spite of its predictability and occasional slowness is due primarily to the perkiness of Witherspoon ( who is always a joy to watch , even when her material is not first-rate ) ...\", 'A macabre and very stylized Swedish fillm about a modern city where all the religious and civic virtues that hold society in place are in tatters .', 'The film is predictable in the reassuring manner of a beautifully sung holiday carol .', \"( `` Safe Conduct '' ) is a long movie at 163 minutes but it fills the time with drama , romance , tragedy , bravery , political intrigue , partisans and sabotage .\", 'A close-to-solid espionage thriller with the misfortune of being released a few decades too late .', 'Instead , she sees it as a chance to revitalize what is and always has been remarkable about clung-to traditions .', 'In The New Guy , even the bull gets recycled .', '... begins with promise , but runs aground after being snared in its own tangled plot .', \"According to Wendigo , ` nature ' loves the members of the upper class almost as much as they love themselves .\", \"There are a couple of things that elevate `` Glory '' above most of its ilk , most notably the mere presence of Duvall .\", \"But it 's hard to imagine a more generic effort in the genre .\", \"The director 's many dodges and turns add up to little more than a screenful of gamesmanship that 's low on both suspense and payoff .\", 'An example of quiet , confident craftsmanship that tells a sweet , charming tale of intergalactic friendship .', \"All the small moments and flashbacks do n't add up to much more than trite observations on the human condition .\", 'Fails so fundamentally on every conventional level that it achieves some kind of goofy grandeur .', 'No film could possibly be more contemptuous of the single female population .', 'More sophisticated and literate than such pictures usually are ... an amusing little catch .', \"Here 's yet another cool crime movie that actually manages to bring something new into the mix .\", \"There 's an energy to Y Tu Mamá También .\", \"The Irwins ' scenes are fascinating ; the movie as a whole is cheap junk and an insult to their death-defying efforts .\", 'As giddy and whimsical and relevant today as it was 270 years ago .', 'But the actors make this worth a peek .', \"In the end , there is n't much to it .\", \"The film 's sense of imagery gives it a terrible strength , but it 's propelled by the acting .\", \"Despite its Hawaiian setting , the science-fiction trimmings and some moments of rowdy slapstick , the basic plot of `` Lilo '' could have been pulled from a tear-stained vintage Shirley Temple script .\", 'I love the opening scenes of a wintry New York City in 1899 .', \"There 's no getting around the fact that this is Revenge Of The Nerds Revisited -- again .\", 'A powerful performance from Mel Gibson and a brutal 90-minute battle sequence that does everything but issue you a dog-tag and an M-16 .', \"Henry Bean 's thoughtful screenplay provides no easy answers , but offers a compelling investigation of faith versus intellect\", 'About as enjoyable , I would imagine , as searching for a quarter in a giant pile of elephant feces ... positively dreadful .', \"Like The Rugrats movies , The Wild Thornberrys Movie does n't offer much more than the series , but its emphasis on caring for animals and respecting other cultures is particularly welcome .\", 'Knows how to make our imagination wonder .', 'Director Claude Chabrol has become the master of innuendo .', 'If you are into splatter movies , then you will probably have a reasonably good time with The Salton Sea .', 'This is a movie so insecure about its capacity to excite that it churns up not one but two flagrantly fake thunderstorms to underscore the action .', \"Clint Eastwood 's Blood Work is a lot like a well-made PB & J sandwich : familiar , fairly uneventful and boasting no real surprises -- but still quite tasty and inviting all the same .\", \"Cherish would 've worked a lot better had it been a short film .\", \"The search for redemption makes for a touching love story , mainly because Blanchett and Ribisi compellingly tap into a spiritual aspect of their characters ' suffering .\", 'He thinks the film is just as much a document about him as it is about the subject .', \"It 's a visual delight and a decent popcorn adventure , as long as you do n't try to look too deep into the story\", 'A dark-as-pitch comedy that frequently veers into corny sentimentality , probably would not improve much after a therapeutic zap of shock treatment .', 'A romance ?', \"We started to wonder if ... some unpaid intern had just typed ` Chris Rock , ' ` Anthony Hopkins ' and ` terrorists ' into some Univac-like script machine .\", 'The script is too mainstream and the psychology too textbook to intrigue .', 'For all of its insights into the dream world of teen life , and its electronic expression through cyber culture , the film gives no quarter to anyone seeking to pull a cohesive story out of its 2 1/2 - hour running time .', \"Another trumpet blast that there may be a New Mexican Cinema a-bornin ' . '\", \"Parris ' performance is credible and remarkably mature .\", 'The script is high on squaddie banter , low on shocks .', 'This is a gorgeous film - vivid with color , music and life .', 'Largely , this is a movie that also does it by the numbers .', \"One of the most original American productions this year , you 'll find yourself remembering this refreshing visit to a Sunshine State .\", \"About the best thing you could say about Narc is that it 's a rock-solid little genre picture .\", 'At once emotional and richly analytical , the Cosby-Seinfeld encounter alone confirms the serious weight behind this superficially loose , larky documentary .', \"That ` Alabama ' manages to be pleasant in spite of its predictability and occasional slowness is due primarily to the perkiness of Witherspoon ( who is always a joy to watch , even when her material is not first-rate ) ...\", 'Mostly honest , this somber picture reveals itself slowly , intelligently , artfully .', \"An enigmatic film that 's too clever for its own good , it 's a conundrum not worth solving .\", 'Really dumb but occasionally really funny .', 'Though it was made with careful attention to detail and is well-acted by James Spader and Maggie Gyllenhaal , I felt disrespected .', 'Melodrama with a message .', 'Made for teens and reviewed as such , this is recommended only for those under 20 years of age ... and then only as a very mild rental .', 'A portrait of alienation so perfect , it will certainly succeed in alienating most viewers .', '... better described as a ghost story gone badly awry .', 'It would be churlish to begrudge anyone for receiving whatever consolation that can be found in Dragonfly , yet it is impossible to find the film anything but appalling , shamelessly manipulative and contrived , and totally lacking in conviction .', 'Whatever heartwarming scene the impressively discreet filmmakers may have expected to record with their mini DV , they show a remarkable ability to document both sides of this emotional car-wreck .', \"I 'm sure mainstream audiences will be baffled , but , for those with at least a minimal appreciation of Woolf and Clarissa Dalloway , The Hours represents two of those well spent .\", 'A lot smarter than your average Bond .', 'Frequent flurries of creative belly laughs and genuinely enthusiastic performances ... keep the movie slaloming through its hackneyed elements with enjoyable ease .', 'Ben Kingsley is truly funny , playing a kind of Ghandi gone bad .', 'Despite its flaws , Crazy as Hell marks an encouraging new direction for La Salle .', 'But then again , I hate myself most mornings .', \"If you can read the subtitles ( the opera is sung in Italian ) and you like ` Masterpiece Theatre ' type costumes , you 'll enjoy this movie .\", 'The last scenes of the film are anguished , bitter and truthful .', 'With very little to add beyond the dark visions already relayed by superb recent predecessors like Swimming With Sharks and The Player , this latest skewering ... may put off insiders and outsiders alike .', 'A disappointment for a movie that should have been the ultimate IMAX trip .', \"Matches neorealism 's impact by showing the humanity of a war-torn land filled with people who just want to live their lives .\", \"Last Orders nurtures the multi-layers of its characters , allowing us to remember that life 's ultimately a gamble and last orders are to be embraced .\", \"Seems content to dog-paddle in the mediocre end of the pool , and it 's a sad , sick sight .\", 'The metaphors are provocative , but too often , the viewer is left puzzled by the mechanics of the delivery .', \"A movie that harps on media-constructed ` issues ' like whether compromise is the death of self ... this Orgasm ( wo n't be an ) exceedingly memorable one for most people .\", \"imagine a scenario where Bergman approaches Swedish fatalism using Gary Larson 's Far Side humor\", 'In his determination to lighten the heavy subject matter , Silberling also , to a certain extent , trivializes the movie with too many nervous gags and pratfalls .', \"A bonanza of wacky sight gags , outlandish color schemes , and corny visual puns that can be appreciated equally as an abstract Frank Tashlin comedy and as a playful recapitulation of the artist 's career .\", \"Though this rude and crude film does deliver a few gut-busting laughs , its digs at modern society are all things we 've seen before .\", 'Just another generic drama that has nothing going for it other than its exploitive array of obligatory cheap thrills .', 'It has a dashing and resourceful hero ; a lisping , reptilian villain ; big fights ; big hair ; lavish period scenery ; and a story just complicated enough to let you bask in your own cleverness as you figure it out .', 'It seems impossible that an epic four-hour Indian musical about a cricket game could be this good , but it is .', 'But not without cheesy fun factor .', 'Some writer dude , I think his name was , uh , Michael Zaidan , was supposed to have like written the screenplay or something , but , dude , the only thing that I ever saw that was written down were the zeroes on my paycheck .', 'Duvall is strong as always .', 'One big blustery movie where nothing really happens .', 'A crude teen-oriented variation on a theme that the playwright Craig Lucas explored with infinitely more grace and eloquence in his Prelude to a Kiss .', \"Rubbo runs through a remarkable amount of material in the film 's short 90 minutes .\", 'A Frankenstein mishmash that careens from dark satire to cartoonish slapstick , Bartleby performs neither one very well .', 'Disney again ransacks its archives for a quick-buck sequel .', 'Suffers from its timid parsing of the barn-side target of sons trying to breach gaps in their relationships with their fathers .', \"Director Peter Kosminsky gives these women a forum to demonstrate their acting ` chops ' and they take full advantage .\", \"No amount of good acting is enough to save Oleander 's uninspired story .\", 'The film can depress you about life itself .', 'Rarely does a film so graceless and devoid of merit as this one come along .', 'The pacing is deadly , the narration helps little and Naipaul , a juicy writer , is negated .', \"Features what is surely the funniest and most accurate depiction of writer 's block ever .\", 'This mess of a movie is nothing short of a travesty of a transvestite comedy .', 'After the setup , the air leaks out of the movie , flattening its momentum with about an hour to go .', 'So verbally flatfooted and so emotionally predictable or bland that it plays like the standard made-for-TV movie .', \"It 's all pretty tame .\", 'Monte Cristo smartly emphasizes the well-wrought story and omits needless chase scenes and swordfights as the revenge unfolds .', 'Your stomach for Heaven depends largely on your appetite for canned corn .', \"With a completely predictable plot , you 'll swear that you 've seen it all before , even if you 've never come within a mile of The Longest Yard .\", \"... if you 're just in the mood for a fun -- but bad -- movie , you might want to catch Freaks as a matinee .\", 'A mechanical action-comedy whose seeming purpose is to market the charismatic Jackie Chan to even younger audiences .', 'But it has an ambition to say something about its subjects , but not a willingness .', \"Thanks to The Château 's balance of whimsicality , narrative discipline and serious improvisation , almost every relationship and personality in the film yields surprises .\", 'The emotion is impressively true for being so hot-blooded , and both leads are up to the task .', 'It appears to have been made by people to whom the idea of narrative logic or cohesion is an entirely foreign concept .', \"( Raimi 's ) matured quite a bit with Spider-Man , even though it 's one of the most plain white toast comic book films you 'll ever see .\", 'Neither the funniest film that Eddie Murphy nor Robert De Niro has ever made , Showtime is nevertheless efficiently amusing for a good while .', 'A gentle and engrossing character study .', \"Well , it 's not as pathetic as The Animal .\", \"( Less a movie than ) an appalling , odoriferous thing ... so rotten in almost every single facet of production that you 'll want to crawl up your own *** in embarrassment .\", 'The Rules of Attraction gets us too drunk on the party favors to sober us up with the transparent attempts at moralizing .', 'Greg Kinnear gives a mesmerizing performance as a full-fledged sex addict who is in complete denial about his obsessive behavior .', 'Cattaneo reworks the formula that made The Full Monty a smashing success ... but neglects to add the magic that made it all work .', 'Too bad .', 'Angela Gheorghiu as famous prima donna Floria Tosca , Roberto Alagna as her lover Mario Cavaradossi , and Ruggero as the villainous , lecherous police chief Scarpia , all sing beautifully and act adequately .', 'The Good Girl is a film in which the talent is undeniable but the results are underwhelming .', \"It 's just plain lurid when it is n't downright silly .\", \"In Death to Smoochy , we do n't get Williams ' usual tear and a smile , just sneers and bile , and the spectacle is nothing short of refreshing .\", \"13 Conversations may be a bit too enigmatic and overly ambitious to be fully successful , but Sprecher and her screenwriting partner and sister , Karen Sprecher , do n't seem ever to run out of ideas .\", \"A raunchy and frequently hilarious follow-up to the gifted Korean American stand-up 's I 'm the One That I Want .\", 'A perfectly acceptable , perfectly bland , competently acted but by no means scary horror movie .', 'Full Frontal had no effect and elicited no sympathies for any of the characters .', \"` Butterfingered ' is the word for the big-fisted direction of Jez Butterworth , who manages to blast even the smallest sensitivities from the romance with his clamorous approach .\", 'Reign of Fire just might go down as one of the all-time great apocalypse movies .', 'Peter Jackson has done the nearly impossible .', \"What makes this film special is Serry 's ability to take what is essentially a contained family conflict and put it into a much larger historical context .\", \"Triple X is a double agent , and he 's one bad dude .\", 'I could have used my two hours better watching Being John Malkovich again .', 'Instead , she sees it as a chance to revitalize what is and always has been remarkable about clung-to traditions .', '... very funny , very enjoyable ...', \"It 's mired in a shabby script that piles layer upon layer of Action Man cliché atop wooden dialogue and a shifting tone that falls far short of the peculiarly moral amorality of ( Woo 's ) best work .\", \"Frankly , it 's kind of insulting , both to men and women .\", 'On the Granger Movie Gauge of 1 to 10 , The Powerpuff Girls is a fast , frenetic , funny , even punny 6 -- aimed specifically at a grade-school audience .', 'An extraordinary dramatic experience .', 'Eastwood winces , clutches his chest and gasps for breath .', 'What a dumb , fun , curiously adolescent movie this is .', \"... Rogers 's mouth never stops shut about the war between the sexes and how to win the battle .\", \"Tian emphasizes the isolation of these characters by confining color to Liyan 's backyard .\", 'Despite its flaws ... Belinsky is still able to create an engaging story that keeps you guessing at almost every turn .', \"Check your brain and your secret agent decoder ring at the door because you do n't want to think too much about what 's going on .\", \"We 're left with a story that tries to grab us , only to keep letting go at all the wrong moments .\", \"A thoroughly awful movie -- dumb , narratively chaotic , visually sloppy ... a weird amalgam of ` The Thing ' and a geriatric ` Scream . '\", \"There 's ... an underlying Old World sexism to Monday Morning that undercuts its charm .\", \"The fact that the ` best part ' of the movie comes from a 60-second homage to one of Demme 's good films does n't bode well for the rest of it .\", 'The major problem with Windtalkers is that the bulk of the movie centers on the wrong character .', 'Enigma lacks it .', 'Overly long and worshipful bio-doc .', 'Uneven but a lot of fun .', 'More tiring than anything .', 'Slow , dry , poorly cast , but beautifully shot .', 'Director Douglas McGrath takes on Nickleby with all the halfhearted zeal of an 8th grade boy delving into required reading .', \"... although this idea is `` new '' the results are tired .\", 'Goofy , nutty , consistently funny .', 'When you resurrect a dead man , Hard Copy should come a-knocking , no ?', \"It 's a bad sign in a thriller when you instantly know whodunit .\", \"If cinema had been around to capture the chaos of France in the 1790 's , one imagines the result would look like something like this .\", 'likeable thanks to its cast , its cuisine and its quirky tunes .', 'It has the air of a surprisingly juvenile lark , a pop-influenced prank whose charms are immediately apparent and wear thin with repetition .', 'Ze movie starts out so funny , then she is nothing .', \"Although commentary on Nachtwey is provided ... it 's the image that really tells the tale .\", 'You can drive right by it without noticing anything special , save for a few comic turns , intended and otherwise .', 'If you can swallow its absurdities and crudities Lagaan really is enormously good fun .', 'He thinks the film is just as much a document about him as it is about the subject .', 'Everything in Maid in Manhattan is exceedingly pleasant , designed not to offend .', 'Wang Xiaoshuai directs this intricately structured and well-realized drama that presents a fascinating glimpse of urban life and the class warfare that embroils two young men .', 'Not only is it hokey , manipulative and as bland as Wonder Bread dipped in milk , but it also does the absolute last thing we need Hollywood doing to us : It preaches .', 'With a tighter editorial process and firmer direction this material could work , especially since the actresses in the lead roles are all more than competent , but as is , Personal Velocity seems to be idling in neutral .', \"It 's funny , touching , dramatically forceful , and beautifully shot .\", 'Family portrait of need , neurosis and nervy negativity is a rare treat that shows the promise of digital filmmaking .', 'But ticket-buyers with great expectations will wind up as glum as Mr. De Niro .', \"The Cat 's Meow marks a return to form for director Peter Bogdanovich ...\", \"It could have been something special , but two things drag it down to mediocrity -- director Clare Peploe 's misunderstanding of Marivaux 's rhythms , and Mira Sorvino 's limitations as a classical actress .\", 'Your nightmares , on the other hand , will be anything but .', 'To others , it will remind them that Hong Kong action cinema is still alive and kicking .', 'The whole mildly pleasant outing -- the R rating is for brief nudity and a grisly corpse -- remains aloft not on its own self-referential hot air , but on the inspired performance of Tim Allen .', \"We 've seen it all before in one form or another , but director Hoffman , with great help from Kevin Kline , makes us care about this latest reincarnation of the world 's greatest teacher .\", \"It 's sort of a 21st century morality play with a Latino hip hop beat .\", 'Nice piece of work .', \"Solondz may be convinced that he has something significant to say , but he is n't talking a talk that appeals to me .\", 'This toothless Dog , already on cable , loses all bite on the big screen .', 'In addition to gluing you to the edge of your seat , Changing Lanes is also a film of freshness , imagination and insight .', \"What 's the most positive thing that can be said about the new Rob Schneider vehicle ?\", 'For single digits kidlets Stuart Little 2 is still a no brainer .', \"Like a grinning Jack O ' Lantern , its apparent glee is derived from a lobotomy , having had all its vital essence scooped out and discarded .\", 'The directive to protect the code at all costs also begins to blur as the importance of the man and the code merge', \"( T ) his slop does n't even have potential as a cult film , as it 's too loud to shout insults at the screen .\", \"Zhuangzhuang creates delicate balance of style , text , and subtext that 's so simple and precise that anything discordant would topple the balance , but against all odds , nothing does .\", 'A great companion piece to other Napoleon films .', \"I 'd rather watch a rerun of The Powerpuff Girls\", '( Swimfan ) falls victim to sloppy plotting , an insultingly unbelievable final act and a villainess who is too crazy to be interesting .', \"So here it is : It 's about a family of sour immortals .\", \"It 's always enthralling .\", \"It 's loud and boring ; watching it is like being trapped at a bad rock concert .\", 'Steve Oedekerk is , alas , no Woody Allen .', 'Just about the best straight-up , old-school horror film of the last 15 years .', \"The Rock is destined to be the 21st Century 's new `` Conan '' and that he 's going to make a splash even greater than Arnold Schwarzenegger , Jean-Claud Van Damme or Steven Segal .\", 'Derailed by bad writing and possibly also by some of that extensive post-production reworking to aim the film at young males in the throes of their first full flush of testosterone .', 'It also shows how deeply felt emotions can draw people together across the walls that might otherwise separate them .', 'On a certain base level , Blue Crush delivers what it promises , just not well enough to recommend it .', \"He 's just a sad aristocrat in tattered finery , and the film seems as deflated as he does .\", 'Twist open the Ouzo !', 'Affirms the gifts of all involved , starting with Spielberg and going right through the ranks of the players -- on-camera and off -- that he brings together .', 'Rarely , a movie is more than a movie .', 'A subtle , poignant picture of goodness that is flawed , compromised and sad .', \"Fudges fact and fancy with such confidence that we feel as if we 're seeing something purer than the real thing .\", 'Nearly every attempt at humor here is DOA .', 'Steers has an unexpectedly adamant streak of warm-blooded empathy for all his disparate Manhattan denizens -- especially the a ** holes .', 'Its rawness and vitality give it considerable punch .', 'Astonishing ... ( frames ) profound ethical and philosophical questions in the form of dazzling pop entertainment .', 'K 19 stays afloat as decent drama/action flick', 'The best thing that can be said of the picture is that it does have a few cute moments .', 'Writer-director Randall Wallace has bitten off more than he or anyone else could chew , and his movie veers like a drunken driver through heavy traffic .', 'Serviceable at best , slightly less than serviceable at worst .', 'An oddity , to be sure , but one that you might wind up remembering with a degree of affection rather than revulsion .', 'Knows how to make our imagination wonder .', 'A captivating new film .', 'Fails to convince the audience that these brats will ever be anything more than losers .', 'Huppert and Girardot give performances of exceptional honesty .']\n",
            "[\"There 's something poignant about an artist of 90-plus years taking the effort to share his impressions of life and loss and time and art with us .\", 'The film proves unrelentingly grim -- and equally engrossing .', \"Chris Columbus ' sequel is faster , livelier and a good deal funnier than his original .\", \"It 's enough to watch Huppert scheming , with her small , intelligent eyes as steady as any noir villain , and to enjoy the perfectly pitched web of tension that Chabrol spins .\", 'The movie would seem less of a trifle if Ms. Sugarman followed through on her defiance of the saccharine .', 'Happy Times maintains an appealing veneer without becoming too cute about it .', 'This is a movie that refreshes the mind and spirit along with the body , so original is its content , look , and style .', \"Because Eight Legged Freaks is partly an homage to Them , Tarantula and other low - budget B-movie thrillers of the 1950s and '60s , the movie is a silly ( but not sophomoric ) romp through horror and hellish conditions .\", 'A living testament to the power of the eccentric and the strange .', \"Triple X is a double agent , and he 's one bad dude .\", \"Eddie Murphy and Owen Wilson have a cute partnership in I Spy , but the movie around them is so often nearly nothing that their charm does n't do a load of good .\", \"Releasing a film with the word ` dog ' in its title in January lends itself to easy jokes and insults , and Snow Dogs deserves every single one of them .\", \"` Would n't it be nice if all guys got a taste of what it 's like on the other side of the bra ? '\", \"The central character is n't complex enough to hold our interest .\", \"Does n't do more than expand a TV show to movie length .\", 'Blithely anachronistic and slyly achronological .', 'A small fortune in salaries and stunt cars might have been saved if the director , Tom Dey , had spliced together bits and pieces of Midnight Run and 48 Hours ( and , for that matter , Shrek ) .', \"An enormously entertaining movie , like nothing we 've ever seen before , and yet completely familiar .\", \"Astonishing is n't the word -- neither is incompetent , incoherent or just plain crap .\", 'Certain to be distasteful to children and adults alike , Eight Crazy Nights is a total misfire .', 'As Schmidt , Nicholson walks with a slow , deliberate gait , chooses his words carefully and subdues his natural exuberance .', 'Be prepared to cling to the edge of your seat , tense with suspense .', 'Like being invited to a classy dinner soiree and not knowing anyone .', 'Transcends its agenda to deliver awe-inspiring , at times sublime , visuals and offer a fascinating glimpse into the subculture of extreme athletes whose derring-do puts the X into the games .', 'Certainly .', \"Quitting delivers a sucker-punch , and its impact is all the greater beause director Zhang 's last film , the cuddly Shower , was a non-threatening multi-character piece centered around a public bath house .\", 'Certainly the performances are worthwhile .', \"The film affords us intriguing glimpses of the insights gleaned from a lifetime of spiritual inquiry , but Ram Dass : Fierce Grace does n't organize it with any particular insight .\", \"If you grew up on Scooby -- you 'll love this movie .\", \"Schneider 's mugging is relentless and his constant need to suddenly transpose himself into another character undermines the story 's continuity and progression .\", \"Only in its final surprising shots does Rabbit-Proof Fence find the authority it 's looking for .\", 'Everything was as superficial as the forced New Jersey lowbrow accent Uma had .', \"( Carvey 's ) characters are both overplayed and exaggerated , but then again , subtlety has never been his trademark .\", 'Becomes a fascinating study of isolation and frustration that successfully recreates both the physical setting and emotional tensions of the Papin sisters .', '( Creates ) the worst kind of mythologizing , the kind that sacrifices real heroism and abject suffering for melodrama .', \"It 's hard to imagine any recent film , independent or otherwise , that makes as much of a mess as this one .\", \"Nakata 's technique is to imply terror by suggestion , rather than the overuse of special effects .\", 'A comedy that swings and jostles to the rhythms of life .', 'Maybe not a classic , but a movie the kids will want to see over and over again .', \"Schrader examines Crane 's decline with unblinking candor .\", '... an eerily suspenseful , deeply absorbing piece that works as a treatise on spirituality as well as a solid sci-fi thriller .', 'Symbolically , Warm Water Under a Red Bridge is a celebration of feminine energy , a tribute to the power of women to heal .', 'Piercingly affecting ... while clearly a manipulative film , emerges as powerful rather than cloying .', 'Deadly dull , pointless meditation on losers in a gone-to-seed hotel .', '( Siegel ) and co-writers Lisa Bazadona and Grace Woodard have relied too much on convention in creating the characters who surround Frankie .', \"Chouraqui brings documentary-like credibility to the horrors of the killing field and the barbarism of ` ethnic cleansing . '\", 'A typically observant , carefully nuanced and intimate French coming-of-age film that is an encouraging debut feature but has a needlessly downbeat ending that is too heavy for all that has preceded it .', 'The filmmakers want nothing else than to show us a good time , and in their cheap , B movie way , they succeed .', \"You do n't want to call the cops .\", \"Would 've been nice if the screenwriters had trusted audiences to understand a complex story , and left off the film 's predictable denouement .\", 'The only camouflage Carvey should now be considering is a paper bag to wear over his head when he goes out into public , to avoid being recognized as the man who bilked unsuspecting moviegoers .', 'My Wife is an Actress has its moments in looking at the comic effects of jealousy .', 'It thankfully goes easy on the reel/real world dichotomy that ( Jaglom ) pursued with such enervating determination in Venice/Venice .', 'A mesmerizing cinematic poem from the first frame to the last .', \"An affectionately goofy satire that 's unafraid to throw elbows when necessary ...\", 'Some fine acting , but ultimately a movie with no reason for being .', \"Gaping plot holes sink this ` sub ' - standard thriller and drag audience enthusiasm to crush depth .\", 'Wallace directs with such patronising reverence , it turns the stomach .', 'Hard , endearing , caring , warm .', \"He gets his secretary to fax it . ''\", 'I had more fun watching Spy than I had with most of the big summer movies .', \"Parker can not sustain the buoyant energy level of the film 's city beginnings into its country conclusion '\", \"Dull , a road-trip movie that 's surprisingly short of both adventure and song .\", \"Glizty but formulaic and silly ... Cagney 's ` top of the world ' has been replaced by the bottom of the barrel .\", 'One of those films that seems tailor made to air on pay cable to offer some modest amusements when one has nothing else to watch .', 'Though her fans will assuredly have their funny bones tickled , others will find their humor-seeking dollars best spent elsewhere .', 'Somehow Ms. Griffiths and Mr. Pryce bring off this wild Welsh whimsy .', 'It is a popcorn film , not a must-own , or even a must-see .', \"It 's not a great monster movie .\", 'After you laugh once ( maybe twice ) , you will have completely forgotten the movie by the time you get back to your car in the parking lot .', \"It 's a testament to De Niro and director Michael Caton-Jones that by movie 's end , we accept the characters and the film , flaws and all .\", 'Halfway through the movie , the humor dwindles .', \"Schneidermeister ... Makin ' a fool of himself ... Losin ' his fan base ...\", 'If not a home run , then at least a solid base hit .', 'Philosophically , intellectually and logistically a mess .', \"It 's a glorious spectacle like those D.W. Griffith made in the early days of silent film .\", 'Even as the hero of the story rediscovers his passion in life , the mood remains oddly detached .', 'A moving and important film .', 'A good music documentary , probably one of the best since The Last Waltz .', 'Ah , yes , that would be me : fighting off the urge to doze .', 'Lurid and less than lucid work .', 'With very little to add beyond the dark visions already relayed by superb recent predecessors like Swimming With Sharks and The Player , this latest skewering ... may put off insiders and outsiders alike .', \"What should have been a cutting Hollywood satire is instead about as fresh as last week 's issue of Variety .\", 'The cumulative effect of the movie is repulsive and depressing .', \"The script 's snazzy dialogue establishes a realistic atmosphere that involves us in the unfolding crisis , but the lazy plotting ensures that little of our emotional investment pays off .\", 'An encouraging effort from McCrudden', 'The unexpected thing is that its dying , in this shower of black-and-white psychedelia , is quite beautiful .', \"You 'd be hard put to find a movie character more unattractive or odorous ( than Leon ) .\", 'An intimate contemplation of two marvelously messy lives .', \"Connoisseurs of Chinese film will be pleased to discover that Tian 's meticulous talent has not withered during his enforced hiatus .\", 'A beautifully observed character piece .', 'A perfect example of rancid , well-intentioned , but shamelessly manipulative movie making .', 'Needed a little less bling-bling and a lot more romance .', 'So could young romantics out on a date .', \"It 's rare that a movie can be as intelligent as this one is in every regard except its storyline ; everything that 's good is ultimately scuttled by a plot that 's just too boring and obvious .\", 'The fascination comes in the power of the Huston performance , which seems so larger than life and yet so fragile , and in the way the Ivan character accepts the news of his illness so quickly but still finds himself unable to react .', 'Wait for it to hit cable .', \"The truth about Charlie is that it 's a brazenly misguided project .\", 'A film that should be relegated to a dark video store corner is somehow making its way instead to theaters .', \"The video work is so grainy and rough , so dependent on being ` naturalistic ' rather than carefully lit and set up , that it 's exhausting to watch .\", 'Saved from being merely way-cool by a basic , credible compassion .', 'Gets the look and the period trappings right , but it otherwise drowns in a sea of visual and verbal clichés .', \"Nair 's cast is so large it 's Altman-esque , but she deftly spins the multiple stories in a vibrant and intoxicating fashion .\", 'There is only so much baked cardboard I need to chew .', 'A culture-clash comedy that , in addition to being very funny , captures some of the discomfort and embarrassment of being a bumbling American in Europe .', 'Millions of dollars heaped upon a project of such vast proportions need to reap more rewards than spiffy bluescreen technique and stylish weaponry .', \"He may have meant the Internet short Saving Ryan 's Privates .\", 'This often-hilarious farce manages to generate the belly laughs of lowbrow comedy without sacrificing its high-minded appeal .', \"Not kids , who do n't need the lesson in repugnance .\", 'But it is entertaining on an inferior level .', 'I guess it just goes to show that if you give a filmmaker an unlimited amount of phony blood , nothing good can happen .', \"But this time , the old MIB label stands for Milder Is n't Better .\", \"Too bad Maggio could n't come up with a better script .\", 'Whereas the extremely competent hitman films such as Pulp Fiction and Get Shorty resonate a sardonic verve to their caustic purpose for existing , Who Is Cletis Tout ?', 'It takes a really long , slow and dreary time to dope out what TUCK EVERLASTING is about .', 'A reminder that beyond all the hype and recent digital glitz , Spielberg knows how to tell us about people .', 'A very depressing movie of many missed opportunities .', \"It 's funny .\", 'No , I hate it .', 'This is a monumental achievement in practically every facet of inept filmmaking : joyless , idiotic , annoying , heavy-handed , visually atrocious , and often downright creepy .', 'The characters are never more than sketches ... which leaves any true emotional connection or identification frustratingly out of reach .', \"Carrying this wafer-thin movie on his nimble shoulders , Chan wades through putrid writing , direction and timing with a smile that says , ` If I stay positive , maybe I can channel one of my greatest pictures , Drunken Master . '\", 'Secret Ballot is a funny , puzzling movie ambiguous enough to be engaging and oddly moving .', 'Watching junk like this induces a kind of abstract guilt , as if you were paying dues for good books unread , fine music never heard .', \"With a tone as variable as the cinematography , Schaeffer 's film never settles into the light-footed enchantment the material needs , and the characters ' quirks and foibles never jell into charm .\", \"Parker should be commended for taking a fresh approach to familiar material , but his determination to remain true to the original text leads him to adopt a somewhat mannered tone ... that ultimately dulls the human tragedy at the story 's core .\", 'Not only a reminder of how they used to make movies , but also how they sometimes still can be made .', \"Where 's the movie here ?\", 'Astonishing ... ( frames ) profound ethical and philosophical questions in the form of dazzling pop entertainment .', \"One of the best of a growing strain of daring films ... that argue that any sexual relationship that does n't hurt anyone and works for its participants is a relationship that is worthy of our respect .\", \"Performances are potent , and the women 's stories are ably intercut and involving .\", \"What more can be expected from a college comedy that 's target audience has n't graduated from junior high school ?\", \"It 's hard to believe that something so short could be so flabby .\", \"Though uniformly well acted , especially by young Ballesta and Galan ( a first-time actor ) , writer/director Achero Manas 's film is schematic and obvious .\", \"Informative , intriguing , observant , often touching ... gives a human face to what 's often discussed in purely abstract terms .\", \"The nicest thing that can be said about Stealing Harvard ( which might have been called Freddy Gets Molested by a Dog ) is that it 's not as obnoxious as Tom Green 's Freddie Got Fingered .\", 'Bluer than the Atlantic and more biologically detailed than an autopsy , the movie ... is , also , frequently hilarious .', 'Easily the most thoughtful fictional examination of the root causes of anti-Semitism ever seen on screen .', 'Sometimes there are very , very good reasons for certain movies to be sealed in a jar and left on a remote shelf indefinitely .', 'Tom Green and an Ivy League college should never appear together on a marquee , especially when the payoff is an unschooled comedy like Stealing Harvard , which fails to keep 80 minutes from seeming like 800 .', 'Screenwriter Dan Schneider and director Shawn Levy substitute volume and primary colors for humor and bite .', 'Together , Miller , Kuras and the actresses make Personal Velocity into an intricate , intimate and intelligent journey .', \"You do n't know whether to admire the film 's stately nature and call it classicism or be exasperated by a noticeable lack of pace .\", 'Seems like someone going through the motions .', \"I have a new favorite musical -- and I 'm not even a fan of the genre\", \"Like Vardalos and Corbett , who play their roles with vibrant charm , the film , directed by Joel Zwick , is heartfelt and hilarious in ways you ca n't fake .\", '`` ... something appears to have been lost in the translation this time .', \"` Synthetic ' is the best description of this well-meaning , beautifully produced film that sacrifices its promise for a high-powered star pedigree .\", \"Impostor ca n't think of a thing to do with these characters except have them run through dark tunnels , fight off various anonymous attackers , and evade elaborate surveillance technologies .\", 'A pleasant and engaging enough sit , but in trying to have the best of both worlds it ends up falling short as a whole .', \"It 's like an all-star salute to Disney 's cheesy commercialism .\", 'unpretentious , charming , quirky , original', \"The engagingly primitive animated special effects contribute to a mood that 's sustained through the surprisingly somber conclusion .\", \"Like being able to hit on a 15-year old when you 're over 100 .\", 'Stale and clichéd to a fault .', 'The film is a confusing melange of tones and styles , one moment a romantic trifle and the next a turgid drama .', \"It 's horribly depressing and not very well done .\", 'Even a hardened voyeur would require the patience of Job to get through this interminable , shapeless documentary about the swinging subculture .', 'One of the most slyly exquisite anti-adult movies ever made .', 'It was only a matter of time before some savvy producer saw the potential success inherent in the mixture of Bullock Bubble and Hugh Goo .', 'A sub-formulaic slap in the face to seasonal cheer .', 'An unencouraging threefold expansion on the former MTV series , accompanying the stunt-hungry dimwits in a random series of collected gags , pranks , pratfalls , dares , injuries , etc. .', 'Starts promisingly but disintegrates into a dreary , humorless soap opera .', 'A mesmerizing cinematic poem from the first frame to the last .', 'A movie I loved on first sight and , even more important , love in remembrance .', \"A real audience-pleaser that will strike a chord with anyone who 's ever waited in a doctor 's office , emergency room , hospital bed or insurance company office .\", 'The riveting performances by the incredibly flexible cast make Love a joy to behold .', 'Gently humorous and touching .', 'Absorbing character study by André Turpin .', \"All the movie 's narrative gymnastics ca n't disguise the fact that it 's inauthentic at its core and that its story just is n't worth telling .\", \"There 's a lot of good material here , but there 's also a lot of redundancy and unsuccessful crudeness accompanying it .\", 'For this sort of thing to work , we need agile performers , but the proficient , dull Sorvino has no light touch , and Rodan is out of his league .', 'It has fun with the quirks of family life , but it also treats the subject with fondness and respect .', \"The dragons are the real stars of Reign of Fire and you wo n't be disappointed .\", 'Told just proficiently enough to trounce its overly comfortable trappings .', \"Davis ' candid , archly funny and deeply authentic take on intimate relationships comes to fruition in her sophomore effort .\", \"There must be an audience that enjoys the Friday series , but I would n't be interested in knowing any of them personally .\", \"This is one of Mr. Chabrol 's subtlest works , but also one of his most uncanny .\", 'Goldmember is funny enough to justify the embarrassment of bringing a barf bag to the moviehouse .', \"They 're just a couple of cops in Copmovieland , these two , but in Narc , they find new routes through a familiar neighborhood .\", 'A moving story of determination and the human spirit .', \"This English-language version ... does full honor to Miyazaki 's teeming and often unsettling landscape , and to the conflicted complexity of his characters .\", \"This is not one of the movies you 'd want to watch if you only had a week to live .\", \"It 's bright , pristine style and bold colors make it as much fun as reading an oversized picture book before bedtime .\", \"Like Kissing Jessica Stein , Amy 's Orgasm has a key strength in its willingness to explore its principal characters with honesty , insight and humor .\", \"Hawke 's film , a boring , pretentious waste of nearly two hours , does n't tell you anything except that the Chelsea Hotel today is populated by whiny , pathetic , starving and untalented artistes .\", \"Post 9/11 the philosophical message of `` Personal Freedom First '' might not be as palatable as intended .\", \"It might be ` easier ' to watch on video at home , but that should n't stop die-hard French film connoisseurs from going out and enjoying the big-screen experience .\", \"Matches neorealism 's impact by showing the humanity of a war-torn land filled with people who just want to live their lives .\", 'The leaping story line , shaped by director Peter Kosminsky into sharp slivers and cutting impressions , shows all the signs of rich detail condensed into a few evocative images and striking character traits .', 'I wanted more .', 'Comedian , like its subjects , delivers the goods and audiences will have a fun , no-frills ride .', 'An Inuit masterpiece that will give you goosebumps as its uncanny tale of love , communal discord , and justice unfolds .', 'Affectionately reminds us that , in any language , the huge stuff in life can usually be traced back to the little things .', '( Cuarón has ) created a substantive movie out of several cliched movie structures : the road movie , the coming-of-age movie , and the teenage sex comedy .', \"The sequel plays out like a flimsy excuse to give Blade fans another look at Wesley Snipes ' iconic hero doing battle with dozens of bad guys -- at once .\", \"It 's uninteresting .\", 'When the heroes were actually under 40 ?', \"A tired , unnecessary retread ... a stale copy of a picture that was n't all that great to begin with .\", \"Loosely speaking , we 're in All of Me territory again , and , strictly speaking , Schneider is no Steve Martin .\", \"The most amazing super-sized dosage of goofball stunts any `` Jackass '' fan could want .\", \"For a film about explosions and death and spies , `` Ballistic : Ecks vs. Sever '' seems as safe as a children 's film .\", 'They crush each other under cars , throw each other out windows , electrocute and dismember their victims in full consciousness .', 'I have not been this disappointed by a movie in a long time .', 'But it is entertaining on an inferior level .', \"Eisenstein lacks considerable brio for a film about one of cinema 's directorial giants .\", 'Superbly photographed and staged by Mendes with a series of riveting set pieces the likes of which mainstream audiences have rarely seen .', 'Sayles ... once again strands his superb performers in the same old story .', 'But I do .', 'Between them , De Niro and Murphy make Showtime the most savory and hilarious guilty pleasure of many a recent movie season .', 'Jackson shamefully strolls through this mess with a smug grin , inexplicably wearing a kilt and carrying a bag of golf clubs over one shoulder .', 'While kids will probably eat the whole thing up , most adults will be way ahead of the plot .', 'In gleefully , thumpingly hyperbolic terms , it covers just about every cliche in the compendium about crass , jaded movie types and the phony baloney movie biz .', \"Veterans of the dating wars will smirk uneasily at the film 's nightmare versions of everyday sex-in-the-city misadventures .\", \"Though few will argue that it ranks with the best of Herzog 's works , Invincible shows he 's back in form , with an astoundingly rich film .\", 'The large-format film is well suited to capture these musicians in full regalia and the incredible IMAX sound system lets you feel the beat down to your toes .', \"All in all , an interesting look at the life of the campaign-trail press , especially ones that do n't really care for the candidate they 're forced to follow .\", 'More than their unique residences , Home Movie is about the people who live in them , who have carved their own comfortable niche in the world and have been kind enough to share it .', 'This film is too busy hitting all of its assigned marks to take on any life of its own .', \"The Lady and the Duke is a smart , romantic drama that dares to depict the French Revolution from the aristocrats ' perspective .\", \"Try as you might to scrutinize the ethics of Kaufman 's approach , somehow it all comes together to create a very compelling , sensitive , intelligent and almost cohesive piece of film entertainment .\", 'As saccharine as it is disposable .', 'This is for the most part a useless movie , even with a great director at the helm .', \"If you 're really renting this you 're not interested in discretion in your entertainment choices , you 're interested in Anne Geddes , John Grisham , and Thomas Kincaid .\", \"Isabelle Huppert excels as the enigmatic Mika and Anna Mouglalis is a stunning new young talent in one of Chabrol 's most intense psychological mysteries .\", 'An ugly , revolting movie .', \"Open-ended and composed of layer upon layer , Talk to Her is a cinephile 's feast , an invitation to countless interpretations .\", \"Filmmakers David Weissman and Bill Weber benefit enormously from the Cockettes ' camera craziness -- not only did they film performances , but they did the same at home .\", 'A little melodramatic , but with enough hope to keep you engaged .', 'waydowntown may not be an important movie , or even a good one , but it provides a nice change of mindless pace in collision with the hot Oscar season currently underway .', \"Brosnan 's finest non-Bondish performance yet fails to overcome the film 's manipulative sentimentality and annoying stereotypes .\", 'The Transporter bombards the viewer with so many explosions and side snap kicks that it ends up being surprisingly dull .', \"A violent initiation rite for the audience , as much as it is for Angelique , the ( opening ) dance guarantees Karmen 's enthronement among the cinema 's memorable women .\", 'Mediocre fable from Burkina Faso .', \"Beautifully shot , delicately scored and powered by a set of heartfelt performances , it 's a lyrical endeavour .\", 'Each story is built on a potentially interesting idea , but the first two are ruined by amateurish writing and acting , while the third feels limited by its short running time .', \"The film 's stagecrafts are intimate and therefore bolder than the otherwise calculated artifice that defines and overwhelms the film 's production design .\", \"`` Feardotcom '' has the makings of an interesting meditation on the ethereal nature of the internet and the otherworldly energies it could channel , but it simply becomes a routine shocker .\", 'The story plays out slowly , but the characters are intriguing and realistic .', 'Another entertaining romp from Robert Rodriguez .', \"Watching this film , one is left with the inescapable conclusion that Hitchens ' obsession with Kissinger is , at bottom , a sophisticated flower child 's desire to purge the world of the tooth and claw of human power .\", 'It has the air of a surprisingly juvenile lark , a pop-influenced prank whose charms are immediately apparent and wear thin with repetition .', '... a hokey piece of nonsense that tries too hard to be emotional .', 'The writing is clever and the cast is appealing .', 'With not a lot of help from the screenplay ( proficient , but singularly cursory ) , ( Testud ) acts with the feral intensity of the young Bette Davis .', 'overburdened with complicated plotting and banal dialogue', 'Captures the raw comic energy of one of our most flamboyant female comics .', 'It is also beautifully acted .', \"tale will be all too familiar for anyone who 's seen George Roy Hill 's 1973 film , `` The Sting . ''\", \"This is an interesting movie ! ''\", \"Birthday Girl does n't try to surprise us with plot twists , but rather seems to enjoy its own transparency .\", 'Enigma lacks it .', \"LaBute ca n't avoid a fatal mistake in the modern era : He 's changed the male academic from a lower-class Brit to an American , a choice that upsets the novel 's exquisite balance and shreds the fabric of the film .\", \"Any film that does n't even in passing mention political prisoners , poverty and the boat loads of people who try to escape the country is less a documentary and more propaganda by way of a valentine sealed with a kiss .\", 'Most of the characters come off as pantomimesque sterotypes .', 'We assume he had a bad run in the market or a costly divorce , because there is no earthly reason other than money why this distinguished actor would stoop so low .', \"... you can be forgiven for realizing that you 've spent the past 20 minutes looking at your watch and waiting for Frida to just die already .\", \"From the opening strains of the Average White Band 's `` Pick up the Pieces '' , you can feel the love .\", 'To get at the root psychology of this film would require many sessions on the couch of Dr. Freud .', \"Its cast full of caffeinated comedy performances more than make up for its logical loopholes , which fly by so fast there 's no time to think about them anyway .\", \"It all looks and plays like a $ 40 million version of a game you 're more likely to enjoy on a computer .\", '... unlikable , uninteresting , unfunny , and completely , utterly inept .', 'No matter how much he runs around and acts like a doofus , accepting a 50-year-old in the role is creepy in a Michael Jackson sort of way .', 'Feels like a cold old man going through the motions .', 'With few respites , Marshall keeps the energy humming , and his edits , unlike those in Moulin Rouge , are crisp and purposeful without overdoing it .', 'Parents beware ; this is downright movie penance .', 'It is hard not to be especially grateful for freedom after a film like this .', \"No better or worse than ` Truth or Consequences , N.M. ' or any other interchangeable actioner with imbecilic Mafia toolbags botching a routine assignment in a Western backwater .\", 'A particularly joyless , and exceedingly dull , period coming-of-age tale .', 'The niftiest trick perpetrated by The Importance of Being Earnest is the alchemical transmogrification of Wilde into Austen -- and a Hollywood-ized Austen at that .', 'My Wife is an Actress has its moments in looking at the comic effects of jealousy .', 'An interesting psychological game of cat-and-mouse , three-dimensional characters and believable performances all add up to a satisfying crime drama .', 'Trailer park Magnolia : too long , too cutesy , too sure of its own importance , and possessed of that peculiar tension of being too dense & about nothing at all .', 'The more you think about the movie , the more you will probably like it .', \"In ( screenwriter ) Charlie Kaufman 's world , truth and fiction are equally strange , and his for the taking .\", 'is a question for philosophers , not filmmakers ; all the filmmakers need to do is engage an audience .', \"The things this movie tries to get the audience to buy just wo n't fly with most intelligent viewers .\", 'There is one surefire way to get a nomination for a best-foreign-film Oscar : Make a movie about whimsical folk who learn a nonchallenging , life-affirming lesson while walking around a foreign city with stunning architecture .', \"I do n't think most of the people who loved the 1989 Paradiso will prefer this new version .\", \"Putting the primitive murderer inside a high-tech space station unleashes a Pandora 's Box of special effects that run the gamut from cheesy to cheesier to cheesiest .\", \"Finally , the French-produced `` Read My Lips '' is a movie that understands characters must come first .\", \"It 's the unsettling images of a war-ravaged land that prove more potent and riveting than the unlikely story of Sarah and Harrison .\", \"A few nonbelievers may rethink their attitudes when they see the joy the characters take in this creed , but skeptics are n't likely to enter the theater .\", 'Monte Cristo smartly emphasizes the well-wrought story and omits needless chase scenes and swordfights as the revenge unfolds .', 'A cheap scam put together by some cynical creeps at Revolution Studios and Imagine Entertainment to make the suckers out there surrender $ 9 and 93 minutes of unrecoverable life .', \"Director-writer Bille August ... depicts this relationship with economical grace , letting his superb actors convey Martin 's deterioration and Barbara 's sadness -- and , occasionally , anger .\", 'And it is .', \"tale will be all too familiar for anyone who 's seen George Roy Hill 's 1973 film , `` The Sting . ''\", \"A raunchy and frequently hilarious follow-up to the gifted Korean American stand-up 's I 'm the One That I Want .\", 'Such a bad movie that its luckiest viewers will be seated next to one of those ignorant pinheads who talk throughout the show .', 'A delightful little film that revels in its own simplicity , Mostly Martha will leave you with a smile on your face and a grumble in your stomach .', \"That ` Alabama ' manages to be pleasant in spite of its predictability and occasional slowness is due primarily to the perkiness of Witherspoon ( who is always a joy to watch , even when her material is not first-rate ) ...\", 'A macabre and very stylized Swedish fillm about a modern city where all the religious and civic virtues that hold society in place are in tatters .', 'The film is predictable in the reassuring manner of a beautifully sung holiday carol .', \"( `` Safe Conduct '' ) is a long movie at 163 minutes but it fills the time with drama , romance , tragedy , bravery , political intrigue , partisans and sabotage .\", 'A close-to-solid espionage thriller with the misfortune of being released a few decades too late .', 'Instead , she sees it as a chance to revitalize what is and always has been remarkable about clung-to traditions .', 'In The New Guy , even the bull gets recycled .', '... begins with promise , but runs aground after being snared in its own tangled plot .', \"According to Wendigo , ` nature ' loves the members of the upper class almost as much as they love themselves .\", \"There are a couple of things that elevate `` Glory '' above most of its ilk , most notably the mere presence of Duvall .\", \"But it 's hard to imagine a more generic effort in the genre .\", \"The director 's many dodges and turns add up to little more than a screenful of gamesmanship that 's low on both suspense and payoff .\", 'An example of quiet , confident craftsmanship that tells a sweet , charming tale of intergalactic friendship .', \"All the small moments and flashbacks do n't add up to much more than trite observations on the human condition .\", 'Fails so fundamentally on every conventional level that it achieves some kind of goofy grandeur .', 'No film could possibly be more contemptuous of the single female population .', 'More sophisticated and literate than such pictures usually are ... an amusing little catch .', \"Here 's yet another cool crime movie that actually manages to bring something new into the mix .\", \"There 's an energy to Y Tu Mamá También .\", \"The Irwins ' scenes are fascinating ; the movie as a whole is cheap junk and an insult to their death-defying efforts .\", 'As giddy and whimsical and relevant today as it was 270 years ago .', 'But the actors make this worth a peek .', \"In the end , there is n't much to it .\", \"The film 's sense of imagery gives it a terrible strength , but it 's propelled by the acting .\", \"Despite its Hawaiian setting , the science-fiction trimmings and some moments of rowdy slapstick , the basic plot of `` Lilo '' could have been pulled from a tear-stained vintage Shirley Temple script .\", 'I love the opening scenes of a wintry New York City in 1899 .', \"There 's no getting around the fact that this is Revenge Of The Nerds Revisited -- again .\", 'A powerful performance from Mel Gibson and a brutal 90-minute battle sequence that does everything but issue you a dog-tag and an M-16 .', \"Henry Bean 's thoughtful screenplay provides no easy answers , but offers a compelling investigation of faith versus intellect\", 'About as enjoyable , I would imagine , as searching for a quarter in a giant pile of elephant feces ... positively dreadful .', \"Like The Rugrats movies , The Wild Thornberrys Movie does n't offer much more than the series , but its emphasis on caring for animals and respecting other cultures is particularly welcome .\", 'Knows how to make our imagination wonder .', 'Director Claude Chabrol has become the master of innuendo .', 'If you are into splatter movies , then you will probably have a reasonably good time with The Salton Sea .', 'This is a movie so insecure about its capacity to excite that it churns up not one but two flagrantly fake thunderstorms to underscore the action .', \"Clint Eastwood 's Blood Work is a lot like a well-made PB & J sandwich : familiar , fairly uneventful and boasting no real surprises -- but still quite tasty and inviting all the same .\", \"Cherish would 've worked a lot better had it been a short film .\", \"The search for redemption makes for a touching love story , mainly because Blanchett and Ribisi compellingly tap into a spiritual aspect of their characters ' suffering .\", 'He thinks the film is just as much a document about him as it is about the subject .', \"It 's a visual delight and a decent popcorn adventure , as long as you do n't try to look too deep into the story\", 'A dark-as-pitch comedy that frequently veers into corny sentimentality , probably would not improve much after a therapeutic zap of shock treatment .', 'A romance ?', \"We started to wonder if ... some unpaid intern had just typed ` Chris Rock , ' ` Anthony Hopkins ' and ` terrorists ' into some Univac-like script machine .\", 'The script is too mainstream and the psychology too textbook to intrigue .', 'For all of its insights into the dream world of teen life , and its electronic expression through cyber culture , the film gives no quarter to anyone seeking to pull a cohesive story out of its 2 1/2 - hour running time .', \"Another trumpet blast that there may be a New Mexican Cinema a-bornin ' . '\", \"Parris ' performance is credible and remarkably mature .\", 'The script is high on squaddie banter , low on shocks .', 'This is a gorgeous film - vivid with color , music and life .', 'Largely , this is a movie that also does it by the numbers .', \"One of the most original American productions this year , you 'll find yourself remembering this refreshing visit to a Sunshine State .\", \"About the best thing you could say about Narc is that it 's a rock-solid little genre picture .\", 'At once emotional and richly analytical , the Cosby-Seinfeld encounter alone confirms the serious weight behind this superficially loose , larky documentary .', \"That ` Alabama ' manages to be pleasant in spite of its predictability and occasional slowness is due primarily to the perkiness of Witherspoon ( who is always a joy to watch , even when her material is not first-rate ) ...\", 'Mostly honest , this somber picture reveals itself slowly , intelligently , artfully .', \"An enigmatic film that 's too clever for its own good , it 's a conundrum not worth solving .\", 'Really dumb but occasionally really funny .', 'Though it was made with careful attention to detail and is well-acted by James Spader and Maggie Gyllenhaal , I felt disrespected .', 'Melodrama with a message .', 'Made for teens and reviewed as such , this is recommended only for those under 20 years of age ... and then only as a very mild rental .', 'A portrait of alienation so perfect , it will certainly succeed in alienating most viewers .', '... better described as a ghost story gone badly awry .', 'It would be churlish to begrudge anyone for receiving whatever consolation that can be found in Dragonfly , yet it is impossible to find the film anything but appalling , shamelessly manipulative and contrived , and totally lacking in conviction .', 'Whatever heartwarming scene the impressively discreet filmmakers may have expected to record with their mini DV , they show a remarkable ability to document both sides of this emotional car-wreck .', \"I 'm sure mainstream audiences will be baffled , but , for those with at least a minimal appreciation of Woolf and Clarissa Dalloway , The Hours represents two of those well spent .\", 'A lot smarter than your average Bond .', 'Frequent flurries of creative belly laughs and genuinely enthusiastic performances ... keep the movie slaloming through its hackneyed elements with enjoyable ease .', 'Ben Kingsley is truly funny , playing a kind of Ghandi gone bad .', 'Despite its flaws , Crazy as Hell marks an encouraging new direction for La Salle .', 'But then again , I hate myself most mornings .', \"If you can read the subtitles ( the opera is sung in Italian ) and you like ` Masterpiece Theatre ' type costumes , you 'll enjoy this movie .\", 'The last scenes of the film are anguished , bitter and truthful .', 'With very little to add beyond the dark visions already relayed by superb recent predecessors like Swimming With Sharks and The Player , this latest skewering ... may put off insiders and outsiders alike .', 'A disappointment for a movie that should have been the ultimate IMAX trip .', \"Matches neorealism 's impact by showing the humanity of a war-torn land filled with people who just want to live their lives .\", \"Last Orders nurtures the multi-layers of its characters , allowing us to remember that life 's ultimately a gamble and last orders are to be embraced .\", \"Seems content to dog-paddle in the mediocre end of the pool , and it 's a sad , sick sight .\", 'The metaphors are provocative , but too often , the viewer is left puzzled by the mechanics of the delivery .', \"A movie that harps on media-constructed ` issues ' like whether compromise is the death of self ... this Orgasm ( wo n't be an ) exceedingly memorable one for most people .\", \"imagine a scenario where Bergman approaches Swedish fatalism using Gary Larson 's Far Side humor\", 'In his determination to lighten the heavy subject matter , Silberling also , to a certain extent , trivializes the movie with too many nervous gags and pratfalls .', \"A bonanza of wacky sight gags , outlandish color schemes , and corny visual puns that can be appreciated equally as an abstract Frank Tashlin comedy and as a playful recapitulation of the artist 's career .\", \"Though this rude and crude film does deliver a few gut-busting laughs , its digs at modern society are all things we 've seen before .\", 'Just another generic drama that has nothing going for it other than its exploitive array of obligatory cheap thrills .', 'It has a dashing and resourceful hero ; a lisping , reptilian villain ; big fights ; big hair ; lavish period scenery ; and a story just complicated enough to let you bask in your own cleverness as you figure it out .', 'It seems impossible that an epic four-hour Indian musical about a cricket game could be this good , but it is .', 'But not without cheesy fun factor .', 'Some writer dude , I think his name was , uh , Michael Zaidan , was supposed to have like written the screenplay or something , but , dude , the only thing that I ever saw that was written down were the zeroes on my paycheck .', 'Duvall is strong as always .', 'One big blustery movie where nothing really happens .', 'A crude teen-oriented variation on a theme that the playwright Craig Lucas explored with infinitely more grace and eloquence in his Prelude to a Kiss .', \"Rubbo runs through a remarkable amount of material in the film 's short 90 minutes .\", 'A Frankenstein mishmash that careens from dark satire to cartoonish slapstick , Bartleby performs neither one very well .', 'Disney again ransacks its archives for a quick-buck sequel .', 'Suffers from its timid parsing of the barn-side target of sons trying to breach gaps in their relationships with their fathers .', \"Director Peter Kosminsky gives these women a forum to demonstrate their acting ` chops ' and they take full advantage .\", \"No amount of good acting is enough to save Oleander 's uninspired story .\", 'The film can depress you about life itself .', 'Rarely does a film so graceless and devoid of merit as this one come along .', 'The pacing is deadly , the narration helps little and Naipaul , a juicy writer , is negated .', \"Features what is surely the funniest and most accurate depiction of writer 's block ever .\", 'This mess of a movie is nothing short of a travesty of a transvestite comedy .', 'After the setup , the air leaks out of the movie , flattening its momentum with about an hour to go .', 'So verbally flatfooted and so emotionally predictable or bland that it plays like the standard made-for-TV movie .', \"It 's all pretty tame .\", 'Monte Cristo smartly emphasizes the well-wrought story and omits needless chase scenes and swordfights as the revenge unfolds .', 'Your stomach for Heaven depends largely on your appetite for canned corn .', \"With a completely predictable plot , you 'll swear that you 've seen it all before , even if you 've never come within a mile of The Longest Yard .\", \"... if you 're just in the mood for a fun -- but bad -- movie , you might want to catch Freaks as a matinee .\", 'A mechanical action-comedy whose seeming purpose is to market the charismatic Jackie Chan to even younger audiences .', 'But it has an ambition to say something about its subjects , but not a willingness .', \"Thanks to The Château 's balance of whimsicality , narrative discipline and serious improvisation , almost every relationship and personality in the film yields surprises .\", 'The emotion is impressively true for being so hot-blooded , and both leads are up to the task .', 'It appears to have been made by people to whom the idea of narrative logic or cohesion is an entirely foreign concept .', \"( Raimi 's ) matured quite a bit with Spider-Man , even though it 's one of the most plain white toast comic book films you 'll ever see .\", 'Neither the funniest film that Eddie Murphy nor Robert De Niro has ever made , Showtime is nevertheless efficiently amusing for a good while .', 'A gentle and engrossing character study .', \"Well , it 's not as pathetic as The Animal .\", \"( Less a movie than ) an appalling , odoriferous thing ... so rotten in almost every single facet of production that you 'll want to crawl up your own *** in embarrassment .\", 'The Rules of Attraction gets us too drunk on the party favors to sober us up with the transparent attempts at moralizing .', 'Greg Kinnear gives a mesmerizing performance as a full-fledged sex addict who is in complete denial about his obsessive behavior .', 'Cattaneo reworks the formula that made The Full Monty a smashing success ... but neglects to add the magic that made it all work .', 'Too bad .', 'Angela Gheorghiu as famous prima donna Floria Tosca , Roberto Alagna as her lover Mario Cavaradossi , and Ruggero as the villainous , lecherous police chief Scarpia , all sing beautifully and act adequately .', 'The Good Girl is a film in which the talent is undeniable but the results are underwhelming .', \"It 's just plain lurid when it is n't downright silly .\", \"In Death to Smoochy , we do n't get Williams ' usual tear and a smile , just sneers and bile , and the spectacle is nothing short of refreshing .\", \"13 Conversations may be a bit too enigmatic and overly ambitious to be fully successful , but Sprecher and her screenwriting partner and sister , Karen Sprecher , do n't seem ever to run out of ideas .\", \"A raunchy and frequently hilarious follow-up to the gifted Korean American stand-up 's I 'm the One That I Want .\", 'A perfectly acceptable , perfectly bland , competently acted but by no means scary horror movie .', 'Full Frontal had no effect and elicited no sympathies for any of the characters .', \"` Butterfingered ' is the word for the big-fisted direction of Jez Butterworth , who manages to blast even the smallest sensitivities from the romance with his clamorous approach .\", 'Reign of Fire just might go down as one of the all-time great apocalypse movies .', 'Peter Jackson has done the nearly impossible .', \"What makes this film special is Serry 's ability to take what is essentially a contained family conflict and put it into a much larger historical context .\", \"Triple X is a double agent , and he 's one bad dude .\", 'I could have used my two hours better watching Being John Malkovich again .', 'Instead , she sees it as a chance to revitalize what is and always has been remarkable about clung-to traditions .', '... very funny , very enjoyable ...', \"It 's mired in a shabby script that piles layer upon layer of Action Man cliché atop wooden dialogue and a shifting tone that falls far short of the peculiarly moral amorality of ( Woo 's ) best work .\", \"Frankly , it 's kind of insulting , both to men and women .\", 'On the Granger Movie Gauge of 1 to 10 , The Powerpuff Girls is a fast , frenetic , funny , even punny 6 -- aimed specifically at a grade-school audience .', 'An extraordinary dramatic experience .', 'Eastwood winces , clutches his chest and gasps for breath .', 'What a dumb , fun , curiously adolescent movie this is .', \"... Rogers 's mouth never stops shut about the war between the sexes and how to win the battle .\", \"Tian emphasizes the isolation of these characters by confining color to Liyan 's backyard .\", 'Despite its flaws ... Belinsky is still able to create an engaging story that keeps you guessing at almost every turn .', \"Check your brain and your secret agent decoder ring at the door because you do n't want to think too much about what 's going on .\", \"We 're left with a story that tries to grab us , only to keep letting go at all the wrong moments .\", \"A thoroughly awful movie -- dumb , narratively chaotic , visually sloppy ... a weird amalgam of ` The Thing ' and a geriatric ` Scream . '\", \"There 's ... an underlying Old World sexism to Monday Morning that undercuts its charm .\", \"The fact that the ` best part ' of the movie comes from a 60-second homage to one of Demme 's good films does n't bode well for the rest of it .\", 'The major problem with Windtalkers is that the bulk of the movie centers on the wrong character .', 'Enigma lacks it .', 'Overly long and worshipful bio-doc .', 'Uneven but a lot of fun .', 'More tiring than anything .', 'Slow , dry , poorly cast , but beautifully shot .', 'Director Douglas McGrath takes on Nickleby with all the halfhearted zeal of an 8th grade boy delving into required reading .', \"... although this idea is `` new '' the results are tired .\", 'Goofy , nutty , consistently funny .', 'When you resurrect a dead man , Hard Copy should come a-knocking , no ?', \"It 's a bad sign in a thriller when you instantly know whodunit .\", \"If cinema had been around to capture the chaos of France in the 1790 's , one imagines the result would look like something like this .\", 'likeable thanks to its cast , its cuisine and its quirky tunes .', 'It has the air of a surprisingly juvenile lark , a pop-influenced prank whose charms are immediately apparent and wear thin with repetition .', 'Ze movie starts out so funny , then she is nothing .', \"Although commentary on Nachtwey is provided ... it 's the image that really tells the tale .\", 'You can drive right by it without noticing anything special , save for a few comic turns , intended and otherwise .', 'If you can swallow its absurdities and crudities Lagaan really is enormously good fun .', 'He thinks the film is just as much a document about him as it is about the subject .', 'Everything in Maid in Manhattan is exceedingly pleasant , designed not to offend .', 'Wang Xiaoshuai directs this intricately structured and well-realized drama that presents a fascinating glimpse of urban life and the class warfare that embroils two young men .', 'Not only is it hokey , manipulative and as bland as Wonder Bread dipped in milk , but it also does the absolute last thing we need Hollywood doing to us : It preaches .', 'With a tighter editorial process and firmer direction this material could work , especially since the actresses in the lead roles are all more than competent , but as is , Personal Velocity seems to be idling in neutral .', \"It 's funny , touching , dramatically forceful , and beautifully shot .\", 'Family portrait of need , neurosis and nervy negativity is a rare treat that shows the promise of digital filmmaking .', 'But ticket-buyers with great expectations will wind up as glum as Mr. De Niro .', \"The Cat 's Meow marks a return to form for director Peter Bogdanovich ...\", \"It could have been something special , but two things drag it down to mediocrity -- director Clare Peploe 's misunderstanding of Marivaux 's rhythms , and Mira Sorvino 's limitations as a classical actress .\", 'Your nightmares , on the other hand , will be anything but .', 'To others , it will remind them that Hong Kong action cinema is still alive and kicking .', 'The whole mildly pleasant outing -- the R rating is for brief nudity and a grisly corpse -- remains aloft not on its own self-referential hot air , but on the inspired performance of Tim Allen .', \"We 've seen it all before in one form or another , but director Hoffman , with great help from Kevin Kline , makes us care about this latest reincarnation of the world 's greatest teacher .\", \"It 's sort of a 21st century morality play with a Latino hip hop beat .\", 'Nice piece of work .', \"Solondz may be convinced that he has something significant to say , but he is n't talking a talk that appeals to me .\", 'This toothless Dog , already on cable , loses all bite on the big screen .', 'In addition to gluing you to the edge of your seat , Changing Lanes is also a film of freshness , imagination and insight .', \"What 's the most positive thing that can be said about the new Rob Schneider vehicle ?\", 'For single digits kidlets Stuart Little 2 is still a no brainer .', \"Like a grinning Jack O ' Lantern , its apparent glee is derived from a lobotomy , having had all its vital essence scooped out and discarded .\", 'The directive to protect the code at all costs also begins to blur as the importance of the man and the code merge', \"( T ) his slop does n't even have potential as a cult film , as it 's too loud to shout insults at the screen .\", \"Zhuangzhuang creates delicate balance of style , text , and subtext that 's so simple and precise that anything discordant would topple the balance , but against all odds , nothing does .\", 'A great companion piece to other Napoleon films .', \"I 'd rather watch a rerun of The Powerpuff Girls\", '( Swimfan ) falls victim to sloppy plotting , an insultingly unbelievable final act and a villainess who is too crazy to be interesting .', \"So here it is : It 's about a family of sour immortals .\", \"It 's always enthralling .\", \"It 's loud and boring ; watching it is like being trapped at a bad rock concert .\", 'Steve Oedekerk is , alas , no Woody Allen .', 'Just about the best straight-up , old-school horror film of the last 15 years .', \"The Rock is destined to be the 21st Century 's new `` Conan '' and that he 's going to make a splash even greater than Arnold Schwarzenegger , Jean-Claud Van Damme or Steven Segal .\", 'Derailed by bad writing and possibly also by some of that extensive post-production reworking to aim the film at young males in the throes of their first full flush of testosterone .', 'It also shows how deeply felt emotions can draw people together across the walls that might otherwise separate them .', 'On a certain base level , Blue Crush delivers what it promises , just not well enough to recommend it .', \"He 's just a sad aristocrat in tattered finery , and the film seems as deflated as he does .\", 'Twist open the Ouzo !', 'Affirms the gifts of all involved , starting with Spielberg and going right through the ranks of the players -- on-camera and off -- that he brings together .', 'Rarely , a movie is more than a movie .', 'A subtle , poignant picture of goodness that is flawed , compromised and sad .', \"Fudges fact and fancy with such confidence that we feel as if we 're seeing something purer than the real thing .\", 'Nearly every attempt at humor here is DOA .', 'Steers has an unexpectedly adamant streak of warm-blooded empathy for all his disparate Manhattan denizens -- especially the a ** holes .', 'Its rawness and vitality give it considerable punch .', 'Astonishing ... ( frames ) profound ethical and philosophical questions in the form of dazzling pop entertainment .', 'K 19 stays afloat as decent drama/action flick', 'The best thing that can be said of the picture is that it does have a few cute moments .', 'Writer-director Randall Wallace has bitten off more than he or anyone else could chew , and his movie veers like a drunken driver through heavy traffic .', 'Serviceable at best , slightly less than serviceable at worst .', 'An oddity , to be sure , but one that you might wind up remembering with a degree of affection rather than revulsion .', 'Knows how to make our imagination wonder .', 'A captivating new film .', 'Fails to convince the audience that these brats will ever be anything more than losers .', 'Huppert and Girardot give performances of exceptional honesty .']\n"
          ],
          "name": "stdout"
        }
      ]
    },
    {
      "cell_type": "code",
      "metadata": {
        "id": "5SKL5uRxB-1B"
      },
      "source": [
        "backtranslated_dict={'sentence':[], 'labels':[]}\n",
        "backtranslated_dict['sentence'] = [sentence for sentence in en_text]\n",
        "backtranslated_dict['labels'] = [df_train['labels'][i] for i in indexes]"
      ],
      "execution_count": 36,
      "outputs": []
    },
    {
      "cell_type": "code",
      "metadata": {
        "colab": {
          "base_uri": "https://localhost:8080/"
        },
        "id": "jukMYQlXXupD",
        "outputId": "19a8d6ec-ce10-4e6d-bb48-db9cb2812f6a"
      },
      "source": [
        "indexes[-1]"
      ],
      "execution_count": 41,
      "outputs": [
        {
          "output_type": "execute_result",
          "data": {
            "text/plain": [
              "1905"
            ]
          },
          "metadata": {
            "tags": []
          },
          "execution_count": 41
        }
      ]
    },
    {
      "cell_type": "code",
      "metadata": {
        "colab": {
          "base_uri": "https://localhost:8080/"
        },
        "id": "SFByEKhVXxJ3",
        "outputId": "7134eb83-4ea0-4178-cb14-820c18fdd6bf"
      },
      "source": [
        "df_train.loc[1905]"
      ],
      "execution_count": 42,
      "outputs": [
        {
          "output_type": "execute_result",
          "data": {
            "text/plain": [
              "sentence    Huppert and Girardot give performances of exce...\n",
              "labels                                                      4\n",
              "Name: 1905, dtype: object"
            ]
          },
          "metadata": {
            "tags": []
          },
          "execution_count": 42
        }
      ]
    },
    {
      "cell_type": "code",
      "metadata": {
        "colab": {
          "base_uri": "https://localhost:8080/"
        },
        "id": "GfWWnfGdXgQh",
        "outputId": "a7267d49-6833-47a7-8c4f-700e7eb40e8f"
      },
      "source": [
        "backtranslated_dict"
      ],
      "execution_count": 39,
      "outputs": [
        {
          "output_type": "execute_result",
          "data": {
            "text/plain": [
              "{'labels': [3,\n",
              "  3,\n",
              "  3,\n",
              "  3,\n",
              "  1,\n",
              "  3,\n",
              "  4,\n",
              "  2,\n",
              "  3,\n",
              "  3,\n",
              "  1,\n",
              "  1,\n",
              "  2,\n",
              "  2,\n",
              "  1,\n",
              "  2,\n",
              "  1,\n",
              "  4,\n",
              "  0,\n",
              "  0,\n",
              "  2,\n",
              "  4,\n",
              "  2,\n",
              "  4,\n",
              "  2,\n",
              "  2,\n",
              "  3,\n",
              "  2,\n",
              "  3,\n",
              "  2,\n",
              "  2,\n",
              "  0,\n",
              "  0,\n",
              "  3,\n",
              "  0,\n",
              "  0,\n",
              "  3,\n",
              "  3,\n",
              "  4,\n",
              "  3,\n",
              "  4,\n",
              "  3,\n",
              "  3,\n",
              "  1,\n",
              "  1,\n",
              "  3,\n",
              "  2,\n",
              "  3,\n",
              "  2,\n",
              "  0,\n",
              "  0,\n",
              "  4,\n",
              "  3,\n",
              "  4,\n",
              "  3,\n",
              "  1,\n",
              "  0,\n",
              "  2,\n",
              "  4,\n",
              "  2,\n",
              "  4,\n",
              "  1,\n",
              "  0,\n",
              "  1,\n",
              "  1,\n",
              "  1,\n",
              "  3,\n",
              "  1,\n",
              "  1,\n",
              "  0,\n",
              "  3,\n",
              "  1,\n",
              "  1,\n",
              "  3,\n",
              "  0,\n",
              "  4,\n",
              "  1,\n",
              "  4,\n",
              "  4,\n",
              "  0,\n",
              "  1,\n",
              "  1,\n",
              "  0,\n",
              "  0,\n",
              "  2,\n",
              "  3,\n",
              "  3,\n",
              "  1,\n",
              "  3,\n",
              "  3,\n",
              "  4,\n",
              "  1,\n",
              "  1,\n",
              "  3,\n",
              "  1,\n",
              "  3,\n",
              "  2,\n",
              "  1,\n",
              "  0,\n",
              "  2,\n",
              "  2,\n",
              "  1,\n",
              "  4,\n",
              "  1,\n",
              "  3,\n",
              "  1,\n",
              "  2,\n",
              "  4,\n",
              "  2,\n",
              "  3,\n",
              "  0,\n",
              "  1,\n",
              "  1,\n",
              "  2,\n",
              "  1,\n",
              "  4,\n",
              "  0,\n",
              "  3,\n",
              "  0,\n",
              "  1,\n",
              "  0,\n",
              "  1,\n",
              "  4,\n",
              "  1,\n",
              "  1,\n",
              "  2,\n",
              "  3,\n",
              "  0,\n",
              "  4,\n",
              "  3,\n",
              "  2,\n",
              "  0,\n",
              "  1,\n",
              "  2,\n",
              "  4,\n",
              "  1,\n",
              "  4,\n",
              "  4,\n",
              "  1,\n",
              "  2,\n",
              "  3,\n",
              "  3,\n",
              "  1,\n",
              "  1,\n",
              "  3,\n",
              "  4,\n",
              "  0,\n",
              "  1,\n",
              "  1,\n",
              "  1,\n",
              "  1,\n",
              "  4,\n",
              "  3,\n",
              "  1,\n",
              "  0,\n",
              "  1,\n",
              "  0,\n",
              "  0,\n",
              "  4,\n",
              "  3,\n",
              "  1,\n",
              "  1,\n",
              "  1,\n",
              "  4,\n",
              "  4,\n",
              "  3,\n",
              "  4,\n",
              "  3,\n",
              "  4,\n",
              "  0,\n",
              "  2,\n",
              "  1,\n",
              "  4,\n",
              "  3,\n",
              "  3,\n",
              "  3,\n",
              "  0,\n",
              "  3,\n",
              "  2,\n",
              "  3,\n",
              "  4,\n",
              "  2,\n",
              "  0,\n",
              "  3,\n",
              "  3,\n",
              "  1,\n",
              "  2,\n",
              "  3,\n",
              "  2,\n",
              "  3,\n",
              "  1,\n",
              "  3,\n",
              "  4,\n",
              "  3,\n",
              "  4,\n",
              "  1,\n",
              "  0,\n",
              "  2,\n",
              "  0,\n",
              "  0,\n",
              "  4,\n",
              "  1,\n",
              "  1,\n",
              "  0,\n",
              "  3,\n",
              "  1,\n",
              "  4,\n",
              "  1,\n",
              "  2,\n",
              "  4,\n",
              "  1,\n",
              "  2,\n",
              "  2,\n",
              "  2,\n",
              "  4,\n",
              "  4,\n",
              "  3,\n",
              "  4,\n",
              "  1,\n",
              "  3,\n",
              "  4,\n",
              "  1,\n",
              "  1,\n",
              "  2,\n",
              "  4,\n",
              "  1,\n",
              "  2,\n",
              "  3,\n",
              "  3,\n",
              "  3,\n",
              "  1,\n",
              "  1,\n",
              "  2,\n",
              "  1,\n",
              "  4,\n",
              "  1,\n",
              "  2,\n",
              "  2,\n",
              "  3,\n",
              "  3,\n",
              "  3,\n",
              "  1,\n",
              "  0,\n",
              "  4,\n",
              "  2,\n",
              "  1,\n",
              "  4,\n",
              "  4,\n",
              "  1,\n",
              "  4,\n",
              "  3,\n",
              "  1,\n",
              "  2,\n",
              "  1,\n",
              "  2,\n",
              "  0,\n",
              "  0,\n",
              "  3,\n",
              "  1,\n",
              "  3,\n",
              "  1,\n",
              "  0,\n",
              "  1,\n",
              "  1,\n",
              "  4,\n",
              "  1,\n",
              "  3,\n",
              "  1,\n",
              "  0,\n",
              "  2,\n",
              "  4,\n",
              "  4,\n",
              "  2,\n",
              "  3,\n",
              "  2,\n",
              "  1,\n",
              "  1,\n",
              "  2,\n",
              "  1,\n",
              "  1,\n",
              "  3,\n",
              "  2,\n",
              "  3,\n",
              "  4,\n",
              "  0,\n",
              "  2,\n",
              "  3,\n",
              "  1,\n",
              "  3,\n",
              "  0,\n",
              "  3,\n",
              "  3,\n",
              "  3,\n",
              "  3,\n",
              "  3,\n",
              "  2,\n",
              "  3,\n",
              "  1,\n",
              "  1,\n",
              "  3,\n",
              "  3,\n",
              "  0,\n",
              "  1,\n",
              "  4,\n",
              "  1,\n",
              "  1,\n",
              "  0,\n",
              "  3,\n",
              "  3,\n",
              "  3,\n",
              "  0,\n",
              "  4,\n",
              "  3,\n",
              "  0,\n",
              "  3,\n",
              "  1,\n",
              "  3,\n",
              "  2,\n",
              "  4,\n",
              "  3,\n",
              "  0,\n",
              "  3,\n",
              "  4,\n",
              "  3,\n",
              "  3,\n",
              "  1,\n",
              "  3,\n",
              "  1,\n",
              "  4,\n",
              "  1,\n",
              "  3,\n",
              "  1,\n",
              "  2,\n",
              "  0,\n",
              "  1,\n",
              "  0,\n",
              "  3,\n",
              "  3,\n",
              "  3,\n",
              "  4,\n",
              "  2,\n",
              "  4,\n",
              "  3,\n",
              "  2,\n",
              "  3,\n",
              "  4,\n",
              "  2,\n",
              "  2,\n",
              "  2,\n",
              "  2,\n",
              "  2,\n",
              "  1,\n",
              "  1,\n",
              "  0,\n",
              "  4,\n",
              "  3,\n",
              "  3,\n",
              "  3,\n",
              "  4,\n",
              "  3,\n",
              "  1,\n",
              "  3,\n",
              "  3,\n",
              "  1,\n",
              "  1,\n",
              "  2,\n",
              "  4,\n",
              "  1,\n",
              "  1,\n",
              "  1,\n",
              "  3,\n",
              "  2,\n",
              "  2,\n",
              "  1,\n",
              "  1,\n",
              "  3,\n",
              "  3,\n",
              "  3,\n",
              "  0,\n",
              "  4,\n",
              "  1,\n",
              "  2,\n",
              "  3,\n",
              "  2,\n",
              "  1,\n",
              "  1,\n",
              "  3,\n",
              "  1,\n",
              "  1,\n",
              "  0,\n",
              "  0,\n",
              "  4,\n",
              "  0,\n",
              "  2,\n",
              "  2,\n",
              "  2,\n",
              "  4,\n",
              "  2,\n",
              "  0,\n",
              "  2,\n",
              "  0,\n",
              "  1,\n",
              "  3,\n",
              "  4,\n",
              "  0,\n",
              "  2,\n",
              "  3,\n",
              "  3,\n",
              "  2,\n",
              "  0,\n",
              "  1,\n",
              "  4,\n",
              "  1,\n",
              "  1,\n",
              "  3,\n",
              "  1,\n",
              "  1,\n",
              "  3,\n",
              "  2,\n",
              "  3,\n",
              "  2,\n",
              "  1,\n",
              "  1,\n",
              "  3,\n",
              "  3,\n",
              "  4,\n",
              "  3,\n",
              "  1,\n",
              "  3,\n",
              "  4,\n",
              "  0,\n",
              "  0,\n",
              "  3,\n",
              "  4,\n",
              "  2,\n",
              "  3,\n",
              "  3,\n",
              "  2,\n",
              "  3,\n",
              "  1,\n",
              "  1,\n",
              "  0,\n",
              "  1,\n",
              "  1,\n",
              "  1,\n",
              "  1,\n",
              "  1,\n",
              "  3,\n",
              "  1,\n",
              "  2,\n",
              "  0,\n",
              "  1,\n",
              "  4,\n",
              "  2,\n",
              "  1,\n",
              "  3,\n",
              "  4,\n",
              "  1,\n",
              "  2,\n",
              "  3,\n",
              "  1,\n",
              "  3,\n",
              "  1,\n",
              "  3,\n",
              "  3,\n",
              "  1,\n",
              "  1,\n",
              "  4,\n",
              "  3,\n",
              "  0,\n",
              "  3,\n",
              "  0,\n",
              "  2,\n",
              "  3,\n",
              "  2,\n",
              "  3,\n",
              "  3,\n",
              "  3,\n",
              "  1,\n",
              "  1,\n",
              "  4,\n",
              "  2,\n",
              "  2,\n",
              "  1,\n",
              "  2,\n",
              "  0,\n",
              "  3,\n",
              "  3,\n",
              "  0,\n",
              "  0,\n",
              "  2,\n",
              "  4,\n",
              "  1,\n",
              "  1,\n",
              "  4,\n",
              "  3,\n",
              "  0,\n",
              "  3,\n",
              "  2,\n",
              "  1,\n",
              "  2,\n",
              "  3,\n",
              "  3,\n",
              "  2,\n",
              "  4,\n",
              "  0,\n",
              "  2,\n",
              "  3,\n",
              "  4,\n",
              "  3,\n",
              "  2,\n",
              "  1,\n",
              "  2,\n",
              "  3,\n",
              "  4,\n",
              "  4,\n",
              "  1,\n",
              "  4],\n",
              " 'sentence': [\"There 's something poignant about an artist of 90-plus years taking the effort to share his impressions of life and loss and time and art with us .\",\n",
              "  'The film proves unrelentingly grim -- and equally engrossing .',\n",
              "  \"Chris Columbus ' sequel is faster , livelier and a good deal funnier than his original .\",\n",
              "  \"It 's enough to watch Huppert scheming , with her small , intelligent eyes as steady as any noir villain , and to enjoy the perfectly pitched web of tension that Chabrol spins .\",\n",
              "  'The movie would seem less of a trifle if Ms. Sugarman followed through on her defiance of the saccharine .',\n",
              "  'Happy Times maintains an appealing veneer without becoming too cute about it .',\n",
              "  'This is a movie that refreshes the mind and spirit along with the body , so original is its content , look , and style .',\n",
              "  \"Because Eight Legged Freaks is partly an homage to Them , Tarantula and other low - budget B-movie thrillers of the 1950s and '60s , the movie is a silly ( but not sophomoric ) romp through horror and hellish conditions .\",\n",
              "  'A living testament to the power of the eccentric and the strange .',\n",
              "  \"Triple X is a double agent , and he 's one bad dude .\",\n",
              "  \"Eddie Murphy and Owen Wilson have a cute partnership in I Spy , but the movie around them is so often nearly nothing that their charm does n't do a load of good .\",\n",
              "  \"Releasing a film with the word ` dog ' in its title in January lends itself to easy jokes and insults , and Snow Dogs deserves every single one of them .\",\n",
              "  \"` Would n't it be nice if all guys got a taste of what it 's like on the other side of the bra ? '\",\n",
              "  \"The central character is n't complex enough to hold our interest .\",\n",
              "  \"Does n't do more than expand a TV show to movie length .\",\n",
              "  'Blithely anachronistic and slyly achronological .',\n",
              "  'A small fortune in salaries and stunt cars might have been saved if the director , Tom Dey , had spliced together bits and pieces of Midnight Run and 48 Hours ( and , for that matter , Shrek ) .',\n",
              "  \"An enormously entertaining movie , like nothing we 've ever seen before , and yet completely familiar .\",\n",
              "  \"Astonishing is n't the word -- neither is incompetent , incoherent or just plain crap .\",\n",
              "  'Certain to be distasteful to children and adults alike , Eight Crazy Nights is a total misfire .',\n",
              "  'As Schmidt , Nicholson walks with a slow , deliberate gait , chooses his words carefully and subdues his natural exuberance .',\n",
              "  'Be prepared to cling to the edge of your seat , tense with suspense .',\n",
              "  'Like being invited to a classy dinner soiree and not knowing anyone .',\n",
              "  'Transcends its agenda to deliver awe-inspiring , at times sublime , visuals and offer a fascinating glimpse into the subculture of extreme athletes whose derring-do puts the X into the games .',\n",
              "  'Certainly .',\n",
              "  \"Quitting delivers a sucker-punch , and its impact is all the greater beause director Zhang 's last film , the cuddly Shower , was a non-threatening multi-character piece centered around a public bath house .\",\n",
              "  'Certainly the performances are worthwhile .',\n",
              "  \"The film affords us intriguing glimpses of the insights gleaned from a lifetime of spiritual inquiry , but Ram Dass : Fierce Grace does n't organize it with any particular insight .\",\n",
              "  \"If you grew up on Scooby -- you 'll love this movie .\",\n",
              "  \"Schneider 's mugging is relentless and his constant need to suddenly transpose himself into another character undermines the story 's continuity and progression .\",\n",
              "  \"Only in its final surprising shots does Rabbit-Proof Fence find the authority it 's looking for .\",\n",
              "  'Everything was as superficial as the forced New Jersey lowbrow accent Uma had .',\n",
              "  \"( Carvey 's ) characters are both overplayed and exaggerated , but then again , subtlety has never been his trademark .\",\n",
              "  'Becomes a fascinating study of isolation and frustration that successfully recreates both the physical setting and emotional tensions of the Papin sisters .',\n",
              "  '( Creates ) the worst kind of mythologizing , the kind that sacrifices real heroism and abject suffering for melodrama .',\n",
              "  \"It 's hard to imagine any recent film , independent or otherwise , that makes as much of a mess as this one .\",\n",
              "  \"Nakata 's technique is to imply terror by suggestion , rather than the overuse of special effects .\",\n",
              "  'A comedy that swings and jostles to the rhythms of life .',\n",
              "  'Maybe not a classic , but a movie the kids will want to see over and over again .',\n",
              "  \"Schrader examines Crane 's decline with unblinking candor .\",\n",
              "  '... an eerily suspenseful , deeply absorbing piece that works as a treatise on spirituality as well as a solid sci-fi thriller .',\n",
              "  'Symbolically , Warm Water Under a Red Bridge is a celebration of feminine energy , a tribute to the power of women to heal .',\n",
              "  'Piercingly affecting ... while clearly a manipulative film , emerges as powerful rather than cloying .',\n",
              "  'Deadly dull , pointless meditation on losers in a gone-to-seed hotel .',\n",
              "  '( Siegel ) and co-writers Lisa Bazadona and Grace Woodard have relied too much on convention in creating the characters who surround Frankie .',\n",
              "  \"Chouraqui brings documentary-like credibility to the horrors of the killing field and the barbarism of ` ethnic cleansing . '\",\n",
              "  'A typically observant , carefully nuanced and intimate French coming-of-age film that is an encouraging debut feature but has a needlessly downbeat ending that is too heavy for all that has preceded it .',\n",
              "  'The filmmakers want nothing else than to show us a good time , and in their cheap , B movie way , they succeed .',\n",
              "  \"You do n't want to call the cops .\",\n",
              "  \"Would 've been nice if the screenwriters had trusted audiences to understand a complex story , and left off the film 's predictable denouement .\",\n",
              "  'The only camouflage Carvey should now be considering is a paper bag to wear over his head when he goes out into public , to avoid being recognized as the man who bilked unsuspecting moviegoers .',\n",
              "  'My Wife is an Actress has its moments in looking at the comic effects of jealousy .',\n",
              "  'It thankfully goes easy on the reel/real world dichotomy that ( Jaglom ) pursued with such enervating determination in Venice/Venice .',\n",
              "  'A mesmerizing cinematic poem from the first frame to the last .',\n",
              "  \"An affectionately goofy satire that 's unafraid to throw elbows when necessary ...\",\n",
              "  'Some fine acting , but ultimately a movie with no reason for being .',\n",
              "  \"Gaping plot holes sink this ` sub ' - standard thriller and drag audience enthusiasm to crush depth .\",\n",
              "  'Wallace directs with such patronising reverence , it turns the stomach .',\n",
              "  'Hard , endearing , caring , warm .',\n",
              "  \"He gets his secretary to fax it . ''\",\n",
              "  'I had more fun watching Spy than I had with most of the big summer movies .',\n",
              "  \"Parker can not sustain the buoyant energy level of the film 's city beginnings into its country conclusion '\",\n",
              "  \"Dull , a road-trip movie that 's surprisingly short of both adventure and song .\",\n",
              "  \"Glizty but formulaic and silly ... Cagney 's ` top of the world ' has been replaced by the bottom of the barrel .\",\n",
              "  'One of those films that seems tailor made to air on pay cable to offer some modest amusements when one has nothing else to watch .',\n",
              "  'Though her fans will assuredly have their funny bones tickled , others will find their humor-seeking dollars best spent elsewhere .',\n",
              "  'Somehow Ms. Griffiths and Mr. Pryce bring off this wild Welsh whimsy .',\n",
              "  'It is a popcorn film , not a must-own , or even a must-see .',\n",
              "  \"It 's not a great monster movie .\",\n",
              "  'After you laugh once ( maybe twice ) , you will have completely forgotten the movie by the time you get back to your car in the parking lot .',\n",
              "  \"It 's a testament to De Niro and director Michael Caton-Jones that by movie 's end , we accept the characters and the film , flaws and all .\",\n",
              "  'Halfway through the movie , the humor dwindles .',\n",
              "  \"Schneidermeister ... Makin ' a fool of himself ... Losin ' his fan base ...\",\n",
              "  'If not a home run , then at least a solid base hit .',\n",
              "  'Philosophically , intellectually and logistically a mess .',\n",
              "  \"It 's a glorious spectacle like those D.W. Griffith made in the early days of silent film .\",\n",
              "  'Even as the hero of the story rediscovers his passion in life , the mood remains oddly detached .',\n",
              "  'A moving and important film .',\n",
              "  'A good music documentary , probably one of the best since The Last Waltz .',\n",
              "  'Ah , yes , that would be me : fighting off the urge to doze .',\n",
              "  'Lurid and less than lucid work .',\n",
              "  'With very little to add beyond the dark visions already relayed by superb recent predecessors like Swimming With Sharks and The Player , this latest skewering ... may put off insiders and outsiders alike .',\n",
              "  \"What should have been a cutting Hollywood satire is instead about as fresh as last week 's issue of Variety .\",\n",
              "  'The cumulative effect of the movie is repulsive and depressing .',\n",
              "  \"The script 's snazzy dialogue establishes a realistic atmosphere that involves us in the unfolding crisis , but the lazy plotting ensures that little of our emotional investment pays off .\",\n",
              "  'An encouraging effort from McCrudden',\n",
              "  'The unexpected thing is that its dying , in this shower of black-and-white psychedelia , is quite beautiful .',\n",
              "  \"You 'd be hard put to find a movie character more unattractive or odorous ( than Leon ) .\",\n",
              "  'An intimate contemplation of two marvelously messy lives .',\n",
              "  \"Connoisseurs of Chinese film will be pleased to discover that Tian 's meticulous talent has not withered during his enforced hiatus .\",\n",
              "  'A beautifully observed character piece .',\n",
              "  'A perfect example of rancid , well-intentioned , but shamelessly manipulative movie making .',\n",
              "  'Needed a little less bling-bling and a lot more romance .',\n",
              "  'So could young romantics out on a date .',\n",
              "  \"It 's rare that a movie can be as intelligent as this one is in every regard except its storyline ; everything that 's good is ultimately scuttled by a plot that 's just too boring and obvious .\",\n",
              "  'The fascination comes in the power of the Huston performance , which seems so larger than life and yet so fragile , and in the way the Ivan character accepts the news of his illness so quickly but still finds himself unable to react .',\n",
              "  'Wait for it to hit cable .',\n",
              "  \"The truth about Charlie is that it 's a brazenly misguided project .\",\n",
              "  'A film that should be relegated to a dark video store corner is somehow making its way instead to theaters .',\n",
              "  \"The video work is so grainy and rough , so dependent on being ` naturalistic ' rather than carefully lit and set up , that it 's exhausting to watch .\",\n",
              "  'Saved from being merely way-cool by a basic , credible compassion .',\n",
              "  'Gets the look and the period trappings right , but it otherwise drowns in a sea of visual and verbal clichés .',\n",
              "  \"Nair 's cast is so large it 's Altman-esque , but she deftly spins the multiple stories in a vibrant and intoxicating fashion .\",\n",
              "  'There is only so much baked cardboard I need to chew .',\n",
              "  'A culture-clash comedy that , in addition to being very funny , captures some of the discomfort and embarrassment of being a bumbling American in Europe .',\n",
              "  'Millions of dollars heaped upon a project of such vast proportions need to reap more rewards than spiffy bluescreen technique and stylish weaponry .',\n",
              "  \"He may have meant the Internet short Saving Ryan 's Privates .\",\n",
              "  'This often-hilarious farce manages to generate the belly laughs of lowbrow comedy without sacrificing its high-minded appeal .',\n",
              "  \"Not kids , who do n't need the lesson in repugnance .\",\n",
              "  'But it is entertaining on an inferior level .',\n",
              "  'I guess it just goes to show that if you give a filmmaker an unlimited amount of phony blood , nothing good can happen .',\n",
              "  \"But this time , the old MIB label stands for Milder Is n't Better .\",\n",
              "  \"Too bad Maggio could n't come up with a better script .\",\n",
              "  'Whereas the extremely competent hitman films such as Pulp Fiction and Get Shorty resonate a sardonic verve to their caustic purpose for existing , Who Is Cletis Tout ?',\n",
              "  'It takes a really long , slow and dreary time to dope out what TUCK EVERLASTING is about .',\n",
              "  'A reminder that beyond all the hype and recent digital glitz , Spielberg knows how to tell us about people .',\n",
              "  'A very depressing movie of many missed opportunities .',\n",
              "  \"It 's funny .\",\n",
              "  'No , I hate it .',\n",
              "  'This is a monumental achievement in practically every facet of inept filmmaking : joyless , idiotic , annoying , heavy-handed , visually atrocious , and often downright creepy .',\n",
              "  'The characters are never more than sketches ... which leaves any true emotional connection or identification frustratingly out of reach .',\n",
              "  \"Carrying this wafer-thin movie on his nimble shoulders , Chan wades through putrid writing , direction and timing with a smile that says , ` If I stay positive , maybe I can channel one of my greatest pictures , Drunken Master . '\",\n",
              "  'Secret Ballot is a funny , puzzling movie ambiguous enough to be engaging and oddly moving .',\n",
              "  'Watching junk like this induces a kind of abstract guilt , as if you were paying dues for good books unread , fine music never heard .',\n",
              "  \"With a tone as variable as the cinematography , Schaeffer 's film never settles into the light-footed enchantment the material needs , and the characters ' quirks and foibles never jell into charm .\",\n",
              "  \"Parker should be commended for taking a fresh approach to familiar material , but his determination to remain true to the original text leads him to adopt a somewhat mannered tone ... that ultimately dulls the human tragedy at the story 's core .\",\n",
              "  'Not only a reminder of how they used to make movies , but also how they sometimes still can be made .',\n",
              "  \"Where 's the movie here ?\",\n",
              "  'Astonishing ... ( frames ) profound ethical and philosophical questions in the form of dazzling pop entertainment .',\n",
              "  \"One of the best of a growing strain of daring films ... that argue that any sexual relationship that does n't hurt anyone and works for its participants is a relationship that is worthy of our respect .\",\n",
              "  \"Performances are potent , and the women 's stories are ably intercut and involving .\",\n",
              "  \"What more can be expected from a college comedy that 's target audience has n't graduated from junior high school ?\",\n",
              "  \"It 's hard to believe that something so short could be so flabby .\",\n",
              "  \"Though uniformly well acted , especially by young Ballesta and Galan ( a first-time actor ) , writer/director Achero Manas 's film is schematic and obvious .\",\n",
              "  \"Informative , intriguing , observant , often touching ... gives a human face to what 's often discussed in purely abstract terms .\",\n",
              "  \"The nicest thing that can be said about Stealing Harvard ( which might have been called Freddy Gets Molested by a Dog ) is that it 's not as obnoxious as Tom Green 's Freddie Got Fingered .\",\n",
              "  'Bluer than the Atlantic and more biologically detailed than an autopsy , the movie ... is , also , frequently hilarious .',\n",
              "  'Easily the most thoughtful fictional examination of the root causes of anti-Semitism ever seen on screen .',\n",
              "  'Sometimes there are very , very good reasons for certain movies to be sealed in a jar and left on a remote shelf indefinitely .',\n",
              "  'Tom Green and an Ivy League college should never appear together on a marquee , especially when the payoff is an unschooled comedy like Stealing Harvard , which fails to keep 80 minutes from seeming like 800 .',\n",
              "  'Screenwriter Dan Schneider and director Shawn Levy substitute volume and primary colors for humor and bite .',\n",
              "  'Together , Miller , Kuras and the actresses make Personal Velocity into an intricate , intimate and intelligent journey .',\n",
              "  \"You do n't know whether to admire the film 's stately nature and call it classicism or be exasperated by a noticeable lack of pace .\",\n",
              "  'Seems like someone going through the motions .',\n",
              "  \"I have a new favorite musical -- and I 'm not even a fan of the genre\",\n",
              "  \"Like Vardalos and Corbett , who play their roles with vibrant charm , the film , directed by Joel Zwick , is heartfelt and hilarious in ways you ca n't fake .\",\n",
              "  '`` ... something appears to have been lost in the translation this time .',\n",
              "  \"` Synthetic ' is the best description of this well-meaning , beautifully produced film that sacrifices its promise for a high-powered star pedigree .\",\n",
              "  \"Impostor ca n't think of a thing to do with these characters except have them run through dark tunnels , fight off various anonymous attackers , and evade elaborate surveillance technologies .\",\n",
              "  'A pleasant and engaging enough sit , but in trying to have the best of both worlds it ends up falling short as a whole .',\n",
              "  \"It 's like an all-star salute to Disney 's cheesy commercialism .\",\n",
              "  'unpretentious , charming , quirky , original',\n",
              "  \"The engagingly primitive animated special effects contribute to a mood that 's sustained through the surprisingly somber conclusion .\",\n",
              "  \"Like being able to hit on a 15-year old when you 're over 100 .\",\n",
              "  'Stale and clichéd to a fault .',\n",
              "  'The film is a confusing melange of tones and styles , one moment a romantic trifle and the next a turgid drama .',\n",
              "  \"It 's horribly depressing and not very well done .\",\n",
              "  'Even a hardened voyeur would require the patience of Job to get through this interminable , shapeless documentary about the swinging subculture .',\n",
              "  'One of the most slyly exquisite anti-adult movies ever made .',\n",
              "  'It was only a matter of time before some savvy producer saw the potential success inherent in the mixture of Bullock Bubble and Hugh Goo .',\n",
              "  'A sub-formulaic slap in the face to seasonal cheer .',\n",
              "  'An unencouraging threefold expansion on the former MTV series , accompanying the stunt-hungry dimwits in a random series of collected gags , pranks , pratfalls , dares , injuries , etc. .',\n",
              "  'Starts promisingly but disintegrates into a dreary , humorless soap opera .',\n",
              "  'A mesmerizing cinematic poem from the first frame to the last .',\n",
              "  'A movie I loved on first sight and , even more important , love in remembrance .',\n",
              "  \"A real audience-pleaser that will strike a chord with anyone who 's ever waited in a doctor 's office , emergency room , hospital bed or insurance company office .\",\n",
              "  'The riveting performances by the incredibly flexible cast make Love a joy to behold .',\n",
              "  'Gently humorous and touching .',\n",
              "  'Absorbing character study by André Turpin .',\n",
              "  \"All the movie 's narrative gymnastics ca n't disguise the fact that it 's inauthentic at its core and that its story just is n't worth telling .\",\n",
              "  \"There 's a lot of good material here , but there 's also a lot of redundancy and unsuccessful crudeness accompanying it .\",\n",
              "  'For this sort of thing to work , we need agile performers , but the proficient , dull Sorvino has no light touch , and Rodan is out of his league .',\n",
              "  'It has fun with the quirks of family life , but it also treats the subject with fondness and respect .',\n",
              "  \"The dragons are the real stars of Reign of Fire and you wo n't be disappointed .\",\n",
              "  'Told just proficiently enough to trounce its overly comfortable trappings .',\n",
              "  \"Davis ' candid , archly funny and deeply authentic take on intimate relationships comes to fruition in her sophomore effort .\",\n",
              "  \"There must be an audience that enjoys the Friday series , but I would n't be interested in knowing any of them personally .\",\n",
              "  \"This is one of Mr. Chabrol 's subtlest works , but also one of his most uncanny .\",\n",
              "  'Goldmember is funny enough to justify the embarrassment of bringing a barf bag to the moviehouse .',\n",
              "  \"They 're just a couple of cops in Copmovieland , these two , but in Narc , they find new routes through a familiar neighborhood .\",\n",
              "  'A moving story of determination and the human spirit .',\n",
              "  \"This English-language version ... does full honor to Miyazaki 's teeming and often unsettling landscape , and to the conflicted complexity of his characters .\",\n",
              "  \"This is not one of the movies you 'd want to watch if you only had a week to live .\",\n",
              "  \"It 's bright , pristine style and bold colors make it as much fun as reading an oversized picture book before bedtime .\",\n",
              "  \"Like Kissing Jessica Stein , Amy 's Orgasm has a key strength in its willingness to explore its principal characters with honesty , insight and humor .\",\n",
              "  \"Hawke 's film , a boring , pretentious waste of nearly two hours , does n't tell you anything except that the Chelsea Hotel today is populated by whiny , pathetic , starving and untalented artistes .\",\n",
              "  \"Post 9/11 the philosophical message of `` Personal Freedom First '' might not be as palatable as intended .\",\n",
              "  \"It might be ` easier ' to watch on video at home , but that should n't stop die-hard French film connoisseurs from going out and enjoying the big-screen experience .\",\n",
              "  \"Matches neorealism 's impact by showing the humanity of a war-torn land filled with people who just want to live their lives .\",\n",
              "  'The leaping story line , shaped by director Peter Kosminsky into sharp slivers and cutting impressions , shows all the signs of rich detail condensed into a few evocative images and striking character traits .',\n",
              "  'I wanted more .',\n",
              "  'Comedian , like its subjects , delivers the goods and audiences will have a fun , no-frills ride .',\n",
              "  'An Inuit masterpiece that will give you goosebumps as its uncanny tale of love , communal discord , and justice unfolds .',\n",
              "  'Affectionately reminds us that , in any language , the huge stuff in life can usually be traced back to the little things .',\n",
              "  '( Cuarón has ) created a substantive movie out of several cliched movie structures : the road movie , the coming-of-age movie , and the teenage sex comedy .',\n",
              "  \"The sequel plays out like a flimsy excuse to give Blade fans another look at Wesley Snipes ' iconic hero doing battle with dozens of bad guys -- at once .\",\n",
              "  \"It 's uninteresting .\",\n",
              "  'When the heroes were actually under 40 ?',\n",
              "  \"A tired , unnecessary retread ... a stale copy of a picture that was n't all that great to begin with .\",\n",
              "  \"Loosely speaking , we 're in All of Me territory again , and , strictly speaking , Schneider is no Steve Martin .\",\n",
              "  \"The most amazing super-sized dosage of goofball stunts any `` Jackass '' fan could want .\",\n",
              "  \"For a film about explosions and death and spies , `` Ballistic : Ecks vs. Sever '' seems as safe as a children 's film .\",\n",
              "  'They crush each other under cars , throw each other out windows , electrocute and dismember their victims in full consciousness .',\n",
              "  'I have not been this disappointed by a movie in a long time .',\n",
              "  'But it is entertaining on an inferior level .',\n",
              "  \"Eisenstein lacks considerable brio for a film about one of cinema 's directorial giants .\",\n",
              "  'Superbly photographed and staged by Mendes with a series of riveting set pieces the likes of which mainstream audiences have rarely seen .',\n",
              "  'Sayles ... once again strands his superb performers in the same old story .',\n",
              "  'But I do .',\n",
              "  'Between them , De Niro and Murphy make Showtime the most savory and hilarious guilty pleasure of many a recent movie season .',\n",
              "  'Jackson shamefully strolls through this mess with a smug grin , inexplicably wearing a kilt and carrying a bag of golf clubs over one shoulder .',\n",
              "  'While kids will probably eat the whole thing up , most adults will be way ahead of the plot .',\n",
              "  'In gleefully , thumpingly hyperbolic terms , it covers just about every cliche in the compendium about crass , jaded movie types and the phony baloney movie biz .',\n",
              "  \"Veterans of the dating wars will smirk uneasily at the film 's nightmare versions of everyday sex-in-the-city misadventures .\",\n",
              "  \"Though few will argue that it ranks with the best of Herzog 's works , Invincible shows he 's back in form , with an astoundingly rich film .\",\n",
              "  'The large-format film is well suited to capture these musicians in full regalia and the incredible IMAX sound system lets you feel the beat down to your toes .',\n",
              "  \"All in all , an interesting look at the life of the campaign-trail press , especially ones that do n't really care for the candidate they 're forced to follow .\",\n",
              "  'More than their unique residences , Home Movie is about the people who live in them , who have carved their own comfortable niche in the world and have been kind enough to share it .',\n",
              "  'This film is too busy hitting all of its assigned marks to take on any life of its own .',\n",
              "  \"The Lady and the Duke is a smart , romantic drama that dares to depict the French Revolution from the aristocrats ' perspective .\",\n",
              "  \"Try as you might to scrutinize the ethics of Kaufman 's approach , somehow it all comes together to create a very compelling , sensitive , intelligent and almost cohesive piece of film entertainment .\",\n",
              "  'As saccharine as it is disposable .',\n",
              "  'This is for the most part a useless movie , even with a great director at the helm .',\n",
              "  \"If you 're really renting this you 're not interested in discretion in your entertainment choices , you 're interested in Anne Geddes , John Grisham , and Thomas Kincaid .\",\n",
              "  \"Isabelle Huppert excels as the enigmatic Mika and Anna Mouglalis is a stunning new young talent in one of Chabrol 's most intense psychological mysteries .\",\n",
              "  'An ugly , revolting movie .',\n",
              "  \"Open-ended and composed of layer upon layer , Talk to Her is a cinephile 's feast , an invitation to countless interpretations .\",\n",
              "  \"Filmmakers David Weissman and Bill Weber benefit enormously from the Cockettes ' camera craziness -- not only did they film performances , but they did the same at home .\",\n",
              "  'A little melodramatic , but with enough hope to keep you engaged .',\n",
              "  'waydowntown may not be an important movie , or even a good one , but it provides a nice change of mindless pace in collision with the hot Oscar season currently underway .',\n",
              "  \"Brosnan 's finest non-Bondish performance yet fails to overcome the film 's manipulative sentimentality and annoying stereotypes .\",\n",
              "  'The Transporter bombards the viewer with so many explosions and side snap kicks that it ends up being surprisingly dull .',\n",
              "  \"A violent initiation rite for the audience , as much as it is for Angelique , the ( opening ) dance guarantees Karmen 's enthronement among the cinema 's memorable women .\",\n",
              "  'Mediocre fable from Burkina Faso .',\n",
              "  \"Beautifully shot , delicately scored and powered by a set of heartfelt performances , it 's a lyrical endeavour .\",\n",
              "  'Each story is built on a potentially interesting idea , but the first two are ruined by amateurish writing and acting , while the third feels limited by its short running time .',\n",
              "  \"The film 's stagecrafts are intimate and therefore bolder than the otherwise calculated artifice that defines and overwhelms the film 's production design .\",\n",
              "  \"`` Feardotcom '' has the makings of an interesting meditation on the ethereal nature of the internet and the otherworldly energies it could channel , but it simply becomes a routine shocker .\",\n",
              "  'The story plays out slowly , but the characters are intriguing and realistic .',\n",
              "  'Another entertaining romp from Robert Rodriguez .',\n",
              "  \"Watching this film , one is left with the inescapable conclusion that Hitchens ' obsession with Kissinger is , at bottom , a sophisticated flower child 's desire to purge the world of the tooth and claw of human power .\",\n",
              "  'It has the air of a surprisingly juvenile lark , a pop-influenced prank whose charms are immediately apparent and wear thin with repetition .',\n",
              "  '... a hokey piece of nonsense that tries too hard to be emotional .',\n",
              "  'The writing is clever and the cast is appealing .',\n",
              "  'With not a lot of help from the screenplay ( proficient , but singularly cursory ) , ( Testud ) acts with the feral intensity of the young Bette Davis .',\n",
              "  'overburdened with complicated plotting and banal dialogue',\n",
              "  'Captures the raw comic energy of one of our most flamboyant female comics .',\n",
              "  'It is also beautifully acted .',\n",
              "  \"tale will be all too familiar for anyone who 's seen George Roy Hill 's 1973 film , `` The Sting . ''\",\n",
              "  \"This is an interesting movie ! ''\",\n",
              "  \"Birthday Girl does n't try to surprise us with plot twists , but rather seems to enjoy its own transparency .\",\n",
              "  'Enigma lacks it .',\n",
              "  \"LaBute ca n't avoid a fatal mistake in the modern era : He 's changed the male academic from a lower-class Brit to an American , a choice that upsets the novel 's exquisite balance and shreds the fabric of the film .\",\n",
              "  \"Any film that does n't even in passing mention political prisoners , poverty and the boat loads of people who try to escape the country is less a documentary and more propaganda by way of a valentine sealed with a kiss .\",\n",
              "  'Most of the characters come off as pantomimesque sterotypes .',\n",
              "  'We assume he had a bad run in the market or a costly divorce , because there is no earthly reason other than money why this distinguished actor would stoop so low .',\n",
              "  \"... you can be forgiven for realizing that you 've spent the past 20 minutes looking at your watch and waiting for Frida to just die already .\",\n",
              "  \"From the opening strains of the Average White Band 's `` Pick up the Pieces '' , you can feel the love .\",\n",
              "  'To get at the root psychology of this film would require many sessions on the couch of Dr. Freud .',\n",
              "  \"Its cast full of caffeinated comedy performances more than make up for its logical loopholes , which fly by so fast there 's no time to think about them anyway .\",\n",
              "  \"It all looks and plays like a $ 40 million version of a game you 're more likely to enjoy on a computer .\",\n",
              "  '... unlikable , uninteresting , unfunny , and completely , utterly inept .',\n",
              "  'No matter how much he runs around and acts like a doofus , accepting a 50-year-old in the role is creepy in a Michael Jackson sort of way .',\n",
              "  'Feels like a cold old man going through the motions .',\n",
              "  'With few respites , Marshall keeps the energy humming , and his edits , unlike those in Moulin Rouge , are crisp and purposeful without overdoing it .',\n",
              "  'Parents beware ; this is downright movie penance .',\n",
              "  'It is hard not to be especially grateful for freedom after a film like this .',\n",
              "  \"No better or worse than ` Truth or Consequences , N.M. ' or any other interchangeable actioner with imbecilic Mafia toolbags botching a routine assignment in a Western backwater .\",\n",
              "  'A particularly joyless , and exceedingly dull , period coming-of-age tale .',\n",
              "  'The niftiest trick perpetrated by The Importance of Being Earnest is the alchemical transmogrification of Wilde into Austen -- and a Hollywood-ized Austen at that .',\n",
              "  'My Wife is an Actress has its moments in looking at the comic effects of jealousy .',\n",
              "  'An interesting psychological game of cat-and-mouse , three-dimensional characters and believable performances all add up to a satisfying crime drama .',\n",
              "  'Trailer park Magnolia : too long , too cutesy , too sure of its own importance , and possessed of that peculiar tension of being too dense & about nothing at all .',\n",
              "  'The more you think about the movie , the more you will probably like it .',\n",
              "  \"In ( screenwriter ) Charlie Kaufman 's world , truth and fiction are equally strange , and his for the taking .\",\n",
              "  'is a question for philosophers , not filmmakers ; all the filmmakers need to do is engage an audience .',\n",
              "  \"The things this movie tries to get the audience to buy just wo n't fly with most intelligent viewers .\",\n",
              "  'There is one surefire way to get a nomination for a best-foreign-film Oscar : Make a movie about whimsical folk who learn a nonchallenging , life-affirming lesson while walking around a foreign city with stunning architecture .',\n",
              "  \"I do n't think most of the people who loved the 1989 Paradiso will prefer this new version .\",\n",
              "  \"Putting the primitive murderer inside a high-tech space station unleashes a Pandora 's Box of special effects that run the gamut from cheesy to cheesier to cheesiest .\",\n",
              "  \"Finally , the French-produced `` Read My Lips '' is a movie that understands characters must come first .\",\n",
              "  \"It 's the unsettling images of a war-ravaged land that prove more potent and riveting than the unlikely story of Sarah and Harrison .\",\n",
              "  \"A few nonbelievers may rethink their attitudes when they see the joy the characters take in this creed , but skeptics are n't likely to enter the theater .\",\n",
              "  'Monte Cristo smartly emphasizes the well-wrought story and omits needless chase scenes and swordfights as the revenge unfolds .',\n",
              "  'A cheap scam put together by some cynical creeps at Revolution Studios and Imagine Entertainment to make the suckers out there surrender $ 9 and 93 minutes of unrecoverable life .',\n",
              "  \"Director-writer Bille August ... depicts this relationship with economical grace , letting his superb actors convey Martin 's deterioration and Barbara 's sadness -- and , occasionally , anger .\",\n",
              "  'And it is .',\n",
              "  \"tale will be all too familiar for anyone who 's seen George Roy Hill 's 1973 film , `` The Sting . ''\",\n",
              "  \"A raunchy and frequently hilarious follow-up to the gifted Korean American stand-up 's I 'm the One That I Want .\",\n",
              "  'Such a bad movie that its luckiest viewers will be seated next to one of those ignorant pinheads who talk throughout the show .',\n",
              "  'A delightful little film that revels in its own simplicity , Mostly Martha will leave you with a smile on your face and a grumble in your stomach .',\n",
              "  \"That ` Alabama ' manages to be pleasant in spite of its predictability and occasional slowness is due primarily to the perkiness of Witherspoon ( who is always a joy to watch , even when her material is not first-rate ) ...\",\n",
              "  'A macabre and very stylized Swedish fillm about a modern city where all the religious and civic virtues that hold society in place are in tatters .',\n",
              "  'The film is predictable in the reassuring manner of a beautifully sung holiday carol .',\n",
              "  \"( `` Safe Conduct '' ) is a long movie at 163 minutes but it fills the time with drama , romance , tragedy , bravery , political intrigue , partisans and sabotage .\",\n",
              "  'A close-to-solid espionage thriller with the misfortune of being released a few decades too late .',\n",
              "  'Instead , she sees it as a chance to revitalize what is and always has been remarkable about clung-to traditions .',\n",
              "  'In The New Guy , even the bull gets recycled .',\n",
              "  '... begins with promise , but runs aground after being snared in its own tangled plot .',\n",
              "  \"According to Wendigo , ` nature ' loves the members of the upper class almost as much as they love themselves .\",\n",
              "  \"There are a couple of things that elevate `` Glory '' above most of its ilk , most notably the mere presence of Duvall .\",\n",
              "  \"But it 's hard to imagine a more generic effort in the genre .\",\n",
              "  \"The director 's many dodges and turns add up to little more than a screenful of gamesmanship that 's low on both suspense and payoff .\",\n",
              "  'An example of quiet , confident craftsmanship that tells a sweet , charming tale of intergalactic friendship .',\n",
              "  \"All the small moments and flashbacks do n't add up to much more than trite observations on the human condition .\",\n",
              "  'Fails so fundamentally on every conventional level that it achieves some kind of goofy grandeur .',\n",
              "  'No film could possibly be more contemptuous of the single female population .',\n",
              "  'More sophisticated and literate than such pictures usually are ... an amusing little catch .',\n",
              "  \"Here 's yet another cool crime movie that actually manages to bring something new into the mix .\",\n",
              "  \"There 's an energy to Y Tu Mamá También .\",\n",
              "  \"The Irwins ' scenes are fascinating ; the movie as a whole is cheap junk and an insult to their death-defying efforts .\",\n",
              "  'As giddy and whimsical and relevant today as it was 270 years ago .',\n",
              "  'But the actors make this worth a peek .',\n",
              "  \"In the end , there is n't much to it .\",\n",
              "  \"The film 's sense of imagery gives it a terrible strength , but it 's propelled by the acting .\",\n",
              "  \"Despite its Hawaiian setting , the science-fiction trimmings and some moments of rowdy slapstick , the basic plot of `` Lilo '' could have been pulled from a tear-stained vintage Shirley Temple script .\",\n",
              "  'I love the opening scenes of a wintry New York City in 1899 .',\n",
              "  \"There 's no getting around the fact that this is Revenge Of The Nerds Revisited -- again .\",\n",
              "  'A powerful performance from Mel Gibson and a brutal 90-minute battle sequence that does everything but issue you a dog-tag and an M-16 .',\n",
              "  \"Henry Bean 's thoughtful screenplay provides no easy answers , but offers a compelling investigation of faith versus intellect\",\n",
              "  'About as enjoyable , I would imagine , as searching for a quarter in a giant pile of elephant feces ... positively dreadful .',\n",
              "  \"Like The Rugrats movies , The Wild Thornberrys Movie does n't offer much more than the series , but its emphasis on caring for animals and respecting other cultures is particularly welcome .\",\n",
              "  'Knows how to make our imagination wonder .',\n",
              "  'Director Claude Chabrol has become the master of innuendo .',\n",
              "  'If you are into splatter movies , then you will probably have a reasonably good time with The Salton Sea .',\n",
              "  'This is a movie so insecure about its capacity to excite that it churns up not one but two flagrantly fake thunderstorms to underscore the action .',\n",
              "  \"Clint Eastwood 's Blood Work is a lot like a well-made PB & J sandwich : familiar , fairly uneventful and boasting no real surprises -- but still quite tasty and inviting all the same .\",\n",
              "  \"Cherish would 've worked a lot better had it been a short film .\",\n",
              "  \"The search for redemption makes for a touching love story , mainly because Blanchett and Ribisi compellingly tap into a spiritual aspect of their characters ' suffering .\",\n",
              "  'He thinks the film is just as much a document about him as it is about the subject .',\n",
              "  \"It 's a visual delight and a decent popcorn adventure , as long as you do n't try to look too deep into the story\",\n",
              "  'A dark-as-pitch comedy that frequently veers into corny sentimentality , probably would not improve much after a therapeutic zap of shock treatment .',\n",
              "  'A romance ?',\n",
              "  \"We started to wonder if ... some unpaid intern had just typed ` Chris Rock , ' ` Anthony Hopkins ' and ` terrorists ' into some Univac-like script machine .\",\n",
              "  'The script is too mainstream and the psychology too textbook to intrigue .',\n",
              "  'For all of its insights into the dream world of teen life , and its electronic expression through cyber culture , the film gives no quarter to anyone seeking to pull a cohesive story out of its 2 1/2 - hour running time .',\n",
              "  \"Another trumpet blast that there may be a New Mexican Cinema a-bornin ' . '\",\n",
              "  \"Parris ' performance is credible and remarkably mature .\",\n",
              "  'The script is high on squaddie banter , low on shocks .',\n",
              "  'This is a gorgeous film - vivid with color , music and life .',\n",
              "  'Largely , this is a movie that also does it by the numbers .',\n",
              "  \"One of the most original American productions this year , you 'll find yourself remembering this refreshing visit to a Sunshine State .\",\n",
              "  \"About the best thing you could say about Narc is that it 's a rock-solid little genre picture .\",\n",
              "  'At once emotional and richly analytical , the Cosby-Seinfeld encounter alone confirms the serious weight behind this superficially loose , larky documentary .',\n",
              "  \"That ` Alabama ' manages to be pleasant in spite of its predictability and occasional slowness is due primarily to the perkiness of Witherspoon ( who is always a joy to watch , even when her material is not first-rate ) ...\",\n",
              "  'Mostly honest , this somber picture reveals itself slowly , intelligently , artfully .',\n",
              "  \"An enigmatic film that 's too clever for its own good , it 's a conundrum not worth solving .\",\n",
              "  'Really dumb but occasionally really funny .',\n",
              "  'Though it was made with careful attention to detail and is well-acted by James Spader and Maggie Gyllenhaal , I felt disrespected .',\n",
              "  'Melodrama with a message .',\n",
              "  'Made for teens and reviewed as such , this is recommended only for those under 20 years of age ... and then only as a very mild rental .',\n",
              "  'A portrait of alienation so perfect , it will certainly succeed in alienating most viewers .',\n",
              "  '... better described as a ghost story gone badly awry .',\n",
              "  'It would be churlish to begrudge anyone for receiving whatever consolation that can be found in Dragonfly , yet it is impossible to find the film anything but appalling , shamelessly manipulative and contrived , and totally lacking in conviction .',\n",
              "  'Whatever heartwarming scene the impressively discreet filmmakers may have expected to record with their mini DV , they show a remarkable ability to document both sides of this emotional car-wreck .',\n",
              "  \"I 'm sure mainstream audiences will be baffled , but , for those with at least a minimal appreciation of Woolf and Clarissa Dalloway , The Hours represents two of those well spent .\",\n",
              "  'A lot smarter than your average Bond .',\n",
              "  'Frequent flurries of creative belly laughs and genuinely enthusiastic performances ... keep the movie slaloming through its hackneyed elements with enjoyable ease .',\n",
              "  'Ben Kingsley is truly funny , playing a kind of Ghandi gone bad .',\n",
              "  'Despite its flaws , Crazy as Hell marks an encouraging new direction for La Salle .',\n",
              "  'But then again , I hate myself most mornings .',\n",
              "  \"If you can read the subtitles ( the opera is sung in Italian ) and you like ` Masterpiece Theatre ' type costumes , you 'll enjoy this movie .\",\n",
              "  'The last scenes of the film are anguished , bitter and truthful .',\n",
              "  'With very little to add beyond the dark visions already relayed by superb recent predecessors like Swimming With Sharks and The Player , this latest skewering ... may put off insiders and outsiders alike .',\n",
              "  'A disappointment for a movie that should have been the ultimate IMAX trip .',\n",
              "  \"Matches neorealism 's impact by showing the humanity of a war-torn land filled with people who just want to live their lives .\",\n",
              "  \"Last Orders nurtures the multi-layers of its characters , allowing us to remember that life 's ultimately a gamble and last orders are to be embraced .\",\n",
              "  \"Seems content to dog-paddle in the mediocre end of the pool , and it 's a sad , sick sight .\",\n",
              "  'The metaphors are provocative , but too often , the viewer is left puzzled by the mechanics of the delivery .',\n",
              "  \"A movie that harps on media-constructed ` issues ' like whether compromise is the death of self ... this Orgasm ( wo n't be an ) exceedingly memorable one for most people .\",\n",
              "  \"imagine a scenario where Bergman approaches Swedish fatalism using Gary Larson 's Far Side humor\",\n",
              "  'In his determination to lighten the heavy subject matter , Silberling also , to a certain extent , trivializes the movie with too many nervous gags and pratfalls .',\n",
              "  \"A bonanza of wacky sight gags , outlandish color schemes , and corny visual puns that can be appreciated equally as an abstract Frank Tashlin comedy and as a playful recapitulation of the artist 's career .\",\n",
              "  \"Though this rude and crude film does deliver a few gut-busting laughs , its digs at modern society are all things we 've seen before .\",\n",
              "  'Just another generic drama that has nothing going for it other than its exploitive array of obligatory cheap thrills .',\n",
              "  'It has a dashing and resourceful hero ; a lisping , reptilian villain ; big fights ; big hair ; lavish period scenery ; and a story just complicated enough to let you bask in your own cleverness as you figure it out .',\n",
              "  'It seems impossible that an epic four-hour Indian musical about a cricket game could be this good , but it is .',\n",
              "  'But not without cheesy fun factor .',\n",
              "  'Some writer dude , I think his name was , uh , Michael Zaidan , was supposed to have like written the screenplay or something , but , dude , the only thing that I ever saw that was written down were the zeroes on my paycheck .',\n",
              "  'Duvall is strong as always .',\n",
              "  'One big blustery movie where nothing really happens .',\n",
              "  'A crude teen-oriented variation on a theme that the playwright Craig Lucas explored with infinitely more grace and eloquence in his Prelude to a Kiss .',\n",
              "  \"Rubbo runs through a remarkable amount of material in the film 's short 90 minutes .\",\n",
              "  'A Frankenstein mishmash that careens from dark satire to cartoonish slapstick , Bartleby performs neither one very well .',\n",
              "  'Disney again ransacks its archives for a quick-buck sequel .',\n",
              "  'Suffers from its timid parsing of the barn-side target of sons trying to breach gaps in their relationships with their fathers .',\n",
              "  \"Director Peter Kosminsky gives these women a forum to demonstrate their acting ` chops ' and they take full advantage .\",\n",
              "  \"No amount of good acting is enough to save Oleander 's uninspired story .\",\n",
              "  'The film can depress you about life itself .',\n",
              "  'Rarely does a film so graceless and devoid of merit as this one come along .',\n",
              "  'The pacing is deadly , the narration helps little and Naipaul , a juicy writer , is negated .',\n",
              "  \"Features what is surely the funniest and most accurate depiction of writer 's block ever .\",\n",
              "  'This mess of a movie is nothing short of a travesty of a transvestite comedy .',\n",
              "  'After the setup , the air leaks out of the movie , flattening its momentum with about an hour to go .',\n",
              "  'So verbally flatfooted and so emotionally predictable or bland that it plays like the standard made-for-TV movie .',\n",
              "  \"It 's all pretty tame .\",\n",
              "  'Monte Cristo smartly emphasizes the well-wrought story and omits needless chase scenes and swordfights as the revenge unfolds .',\n",
              "  'Your stomach for Heaven depends largely on your appetite for canned corn .',\n",
              "  \"With a completely predictable plot , you 'll swear that you 've seen it all before , even if you 've never come within a mile of The Longest Yard .\",\n",
              "  \"... if you 're just in the mood for a fun -- but bad -- movie , you might want to catch Freaks as a matinee .\",\n",
              "  'A mechanical action-comedy whose seeming purpose is to market the charismatic Jackie Chan to even younger audiences .',\n",
              "  'But it has an ambition to say something about its subjects , but not a willingness .',\n",
              "  \"Thanks to The Château 's balance of whimsicality , narrative discipline and serious improvisation , almost every relationship and personality in the film yields surprises .\",\n",
              "  'The emotion is impressively true for being so hot-blooded , and both leads are up to the task .',\n",
              "  'It appears to have been made by people to whom the idea of narrative logic or cohesion is an entirely foreign concept .',\n",
              "  \"( Raimi 's ) matured quite a bit with Spider-Man , even though it 's one of the most plain white toast comic book films you 'll ever see .\",\n",
              "  'Neither the funniest film that Eddie Murphy nor Robert De Niro has ever made , Showtime is nevertheless efficiently amusing for a good while .',\n",
              "  'A gentle and engrossing character study .',\n",
              "  \"Well , it 's not as pathetic as The Animal .\",\n",
              "  \"( Less a movie than ) an appalling , odoriferous thing ... so rotten in almost every single facet of production that you 'll want to crawl up your own *** in embarrassment .\",\n",
              "  'The Rules of Attraction gets us too drunk on the party favors to sober us up with the transparent attempts at moralizing .',\n",
              "  'Greg Kinnear gives a mesmerizing performance as a full-fledged sex addict who is in complete denial about his obsessive behavior .',\n",
              "  'Cattaneo reworks the formula that made The Full Monty a smashing success ... but neglects to add the magic that made it all work .',\n",
              "  'Too bad .',\n",
              "  'Angela Gheorghiu as famous prima donna Floria Tosca , Roberto Alagna as her lover Mario Cavaradossi , and Ruggero as the villainous , lecherous police chief Scarpia , all sing beautifully and act adequately .',\n",
              "  'The Good Girl is a film in which the talent is undeniable but the results are underwhelming .',\n",
              "  \"It 's just plain lurid when it is n't downright silly .\",\n",
              "  \"In Death to Smoochy , we do n't get Williams ' usual tear and a smile , just sneers and bile , and the spectacle is nothing short of refreshing .\",\n",
              "  \"13 Conversations may be a bit too enigmatic and overly ambitious to be fully successful , but Sprecher and her screenwriting partner and sister , Karen Sprecher , do n't seem ever to run out of ideas .\",\n",
              "  \"A raunchy and frequently hilarious follow-up to the gifted Korean American stand-up 's I 'm the One That I Want .\",\n",
              "  'A perfectly acceptable , perfectly bland , competently acted but by no means scary horror movie .',\n",
              "  'Full Frontal had no effect and elicited no sympathies for any of the characters .',\n",
              "  \"` Butterfingered ' is the word for the big-fisted direction of Jez Butterworth , who manages to blast even the smallest sensitivities from the romance with his clamorous approach .\",\n",
              "  'Reign of Fire just might go down as one of the all-time great apocalypse movies .',\n",
              "  'Peter Jackson has done the nearly impossible .',\n",
              "  \"What makes this film special is Serry 's ability to take what is essentially a contained family conflict and put it into a much larger historical context .\",\n",
              "  \"Triple X is a double agent , and he 's one bad dude .\",\n",
              "  'I could have used my two hours better watching Being John Malkovich again .',\n",
              "  'Instead , she sees it as a chance to revitalize what is and always has been remarkable about clung-to traditions .',\n",
              "  '... very funny , very enjoyable ...',\n",
              "  \"It 's mired in a shabby script that piles layer upon layer of Action Man cliché atop wooden dialogue and a shifting tone that falls far short of the peculiarly moral amorality of ( Woo 's ) best work .\",\n",
              "  \"Frankly , it 's kind of insulting , both to men and women .\",\n",
              "  'On the Granger Movie Gauge of 1 to 10 , The Powerpuff Girls is a fast , frenetic , funny , even punny 6 -- aimed specifically at a grade-school audience .',\n",
              "  'An extraordinary dramatic experience .',\n",
              "  'Eastwood winces , clutches his chest and gasps for breath .',\n",
              "  'What a dumb , fun , curiously adolescent movie this is .',\n",
              "  \"... Rogers 's mouth never stops shut about the war between the sexes and how to win the battle .\",\n",
              "  \"Tian emphasizes the isolation of these characters by confining color to Liyan 's backyard .\",\n",
              "  'Despite its flaws ... Belinsky is still able to create an engaging story that keeps you guessing at almost every turn .',\n",
              "  \"Check your brain and your secret agent decoder ring at the door because you do n't want to think too much about what 's going on .\",\n",
              "  \"We 're left with a story that tries to grab us , only to keep letting go at all the wrong moments .\",\n",
              "  \"A thoroughly awful movie -- dumb , narratively chaotic , visually sloppy ... a weird amalgam of ` The Thing ' and a geriatric ` Scream . '\",\n",
              "  \"There 's ... an underlying Old World sexism to Monday Morning that undercuts its charm .\",\n",
              "  \"The fact that the ` best part ' of the movie comes from a 60-second homage to one of Demme 's good films does n't bode well for the rest of it .\",\n",
              "  'The major problem with Windtalkers is that the bulk of the movie centers on the wrong character .',\n",
              "  'Enigma lacks it .',\n",
              "  'Overly long and worshipful bio-doc .',\n",
              "  'Uneven but a lot of fun .',\n",
              "  'More tiring than anything .',\n",
              "  'Slow , dry , poorly cast , but beautifully shot .',\n",
              "  'Director Douglas McGrath takes on Nickleby with all the halfhearted zeal of an 8th grade boy delving into required reading .',\n",
              "  \"... although this idea is `` new '' the results are tired .\",\n",
              "  'Goofy , nutty , consistently funny .',\n",
              "  'When you resurrect a dead man , Hard Copy should come a-knocking , no ?',\n",
              "  \"It 's a bad sign in a thriller when you instantly know whodunit .\",\n",
              "  \"If cinema had been around to capture the chaos of France in the 1790 's , one imagines the result would look like something like this .\",\n",
              "  'likeable thanks to its cast , its cuisine and its quirky tunes .',\n",
              "  'It has the air of a surprisingly juvenile lark , a pop-influenced prank whose charms are immediately apparent and wear thin with repetition .',\n",
              "  'Ze movie starts out so funny , then she is nothing .',\n",
              "  \"Although commentary on Nachtwey is provided ... it 's the image that really tells the tale .\",\n",
              "  'You can drive right by it without noticing anything special , save for a few comic turns , intended and otherwise .',\n",
              "  'If you can swallow its absurdities and crudities Lagaan really is enormously good fun .',\n",
              "  'He thinks the film is just as much a document about him as it is about the subject .',\n",
              "  'Everything in Maid in Manhattan is exceedingly pleasant , designed not to offend .',\n",
              "  'Wang Xiaoshuai directs this intricately structured and well-realized drama that presents a fascinating glimpse of urban life and the class warfare that embroils two young men .',\n",
              "  'Not only is it hokey , manipulative and as bland as Wonder Bread dipped in milk , but it also does the absolute last thing we need Hollywood doing to us : It preaches .',\n",
              "  'With a tighter editorial process and firmer direction this material could work , especially since the actresses in the lead roles are all more than competent , but as is , Personal Velocity seems to be idling in neutral .',\n",
              "  \"It 's funny , touching , dramatically forceful , and beautifully shot .\",\n",
              "  'Family portrait of need , neurosis and nervy negativity is a rare treat that shows the promise of digital filmmaking .',\n",
              "  'But ticket-buyers with great expectations will wind up as glum as Mr. De Niro .',\n",
              "  \"The Cat 's Meow marks a return to form for director Peter Bogdanovich ...\",\n",
              "  \"It could have been something special , but two things drag it down to mediocrity -- director Clare Peploe 's misunderstanding of Marivaux 's rhythms , and Mira Sorvino 's limitations as a classical actress .\",\n",
              "  'Your nightmares , on the other hand , will be anything but .',\n",
              "  'To others , it will remind them that Hong Kong action cinema is still alive and kicking .',\n",
              "  'The whole mildly pleasant outing -- the R rating is for brief nudity and a grisly corpse -- remains aloft not on its own self-referential hot air , but on the inspired performance of Tim Allen .',\n",
              "  \"We 've seen it all before in one form or another , but director Hoffman , with great help from Kevin Kline , makes us care about this latest reincarnation of the world 's greatest teacher .\",\n",
              "  \"It 's sort of a 21st century morality play with a Latino hip hop beat .\",\n",
              "  'Nice piece of work .',\n",
              "  \"Solondz may be convinced that he has something significant to say , but he is n't talking a talk that appeals to me .\",\n",
              "  'This toothless Dog , already on cable , loses all bite on the big screen .',\n",
              "  'In addition to gluing you to the edge of your seat , Changing Lanes is also a film of freshness , imagination and insight .',\n",
              "  \"What 's the most positive thing that can be said about the new Rob Schneider vehicle ?\",\n",
              "  'For single digits kidlets Stuart Little 2 is still a no brainer .',\n",
              "  \"Like a grinning Jack O ' Lantern , its apparent glee is derived from a lobotomy , having had all its vital essence scooped out and discarded .\",\n",
              "  'The directive to protect the code at all costs also begins to blur as the importance of the man and the code merge',\n",
              "  \"( T ) his slop does n't even have potential as a cult film , as it 's too loud to shout insults at the screen .\",\n",
              "  \"Zhuangzhuang creates delicate balance of style , text , and subtext that 's so simple and precise that anything discordant would topple the balance , but against all odds , nothing does .\",\n",
              "  'A great companion piece to other Napoleon films .',\n",
              "  \"I 'd rather watch a rerun of The Powerpuff Girls\",\n",
              "  '( Swimfan ) falls victim to sloppy plotting , an insultingly unbelievable final act and a villainess who is too crazy to be interesting .',\n",
              "  \"So here it is : It 's about a family of sour immortals .\",\n",
              "  \"It 's always enthralling .\",\n",
              "  \"It 's loud and boring ; watching it is like being trapped at a bad rock concert .\",\n",
              "  'Steve Oedekerk is , alas , no Woody Allen .',\n",
              "  'Just about the best straight-up , old-school horror film of the last 15 years .',\n",
              "  \"The Rock is destined to be the 21st Century 's new `` Conan '' and that he 's going to make a splash even greater than Arnold Schwarzenegger , Jean-Claud Van Damme or Steven Segal .\",\n",
              "  'Derailed by bad writing and possibly also by some of that extensive post-production reworking to aim the film at young males in the throes of their first full flush of testosterone .',\n",
              "  'It also shows how deeply felt emotions can draw people together across the walls that might otherwise separate them .',\n",
              "  'On a certain base level , Blue Crush delivers what it promises , just not well enough to recommend it .',\n",
              "  \"He 's just a sad aristocrat in tattered finery , and the film seems as deflated as he does .\",\n",
              "  'Twist open the Ouzo !',\n",
              "  'Affirms the gifts of all involved , starting with Spielberg and going right through the ranks of the players -- on-camera and off -- that he brings together .',\n",
              "  'Rarely , a movie is more than a movie .',\n",
              "  'A subtle , poignant picture of goodness that is flawed , compromised and sad .',\n",
              "  \"Fudges fact and fancy with such confidence that we feel as if we 're seeing something purer than the real thing .\",\n",
              "  'Nearly every attempt at humor here is DOA .',\n",
              "  'Steers has an unexpectedly adamant streak of warm-blooded empathy for all his disparate Manhattan denizens -- especially the a ** holes .',\n",
              "  'Its rawness and vitality give it considerable punch .',\n",
              "  'Astonishing ... ( frames ) profound ethical and philosophical questions in the form of dazzling pop entertainment .',\n",
              "  'K 19 stays afloat as decent drama/action flick',\n",
              "  'The best thing that can be said of the picture is that it does have a few cute moments .',\n",
              "  'Writer-director Randall Wallace has bitten off more than he or anyone else could chew , and his movie veers like a drunken driver through heavy traffic .',\n",
              "  'Serviceable at best , slightly less than serviceable at worst .',\n",
              "  'An oddity , to be sure , but one that you might wind up remembering with a degree of affection rather than revulsion .',\n",
              "  'Knows how to make our imagination wonder .',\n",
              "  'A captivating new film .',\n",
              "  'Fails to convince the audience that these brats will ever be anything more than losers .',\n",
              "  'Huppert and Girardot give performances of exceptional honesty .']}"
            ]
          },
          "metadata": {
            "tags": []
          },
          "execution_count": 39
        }
      ]
    },
    {
      "cell_type": "code",
      "metadata": {
        "id": "T_LI0eupU35v"
      },
      "source": [
        "df_aug = pd.DataFrame(backtranslated_dict)\n",
        "df_train_aug = pd.concat([df_train, df_aug]).reset_index()\n",
        "df_train_aug.drop('index', axis=1, inplace=True)"
      ],
      "execution_count": 43,
      "outputs": []
    },
    {
      "cell_type": "code",
      "metadata": {
        "colab": {
          "base_uri": "https://localhost:8080/"
        },
        "id": "gOKUC-zbaXsd",
        "outputId": "d7fd1911-1cac-4978-a4b3-a0eefcda8d8e"
      },
      "source": [
        "len(df_train_aug)"
      ],
      "execution_count": 47,
      "outputs": [
        {
          "output_type": "execute_result",
          "data": {
            "text/plain": [
              "8816"
            ]
          },
          "metadata": {
            "tags": []
          },
          "execution_count": 47
        }
      ]
    },
    {
      "cell_type": "code",
      "metadata": {
        "colab": {
          "base_uri": "https://localhost:8080/"
        },
        "id": "sTbsCQZJbbMK",
        "outputId": "9d4adc09-31e5-4e85-d391-4ccb57008716"
      },
      "source": [
        "df_train_aug['labels'][0]"
      ],
      "execution_count": 48,
      "outputs": [
        {
          "output_type": "execute_result",
          "data": {
            "text/plain": [
              "3"
            ]
          },
          "metadata": {
            "tags": []
          },
          "execution_count": 48
        }
      ]
    },
    {
      "cell_type": "code",
      "metadata": {
        "id": "1KRIrpmkawWF"
      },
      "source": [
        "with open('augmented_dataset.txt','w') as f:\n",
        "  for i in range(len(df_train_aug)):\n",
        "    f.write(f\"{df_train_aug['labels'][i]}\\t{df_train_aug['sentence'][i]}\\n\")"
      ],
      "execution_count": 50,
      "outputs": []
    },
    {
      "cell_type": "code",
      "metadata": {
        "colab": {
          "base_uri": "https://localhost:8080/"
        },
        "id": "ngk1b8QvFW4n",
        "outputId": "8e705f57-3607-48da-91f0-e4caef087833"
      },
      "source": [
        "#for i in backtranslated_dict:\n",
        " # df_train['sentence'][i] = backtranslated_dict[i]"
      ],
      "execution_count": 67,
      "outputs": [
        {
          "output_type": "stream",
          "text": [
            "/usr/local/lib/python3.7/dist-packages/ipykernel_launcher.py:2: SettingWithCopyWarning: \n",
            "A value is trying to be set on a copy of a slice from a DataFrame\n",
            "\n",
            "See the caveats in the documentation: https://pandas.pydata.org/pandas-docs/stable/user_guide/indexing.html#returning-a-view-versus-a-copy\n",
            "  \n",
            "/usr/local/lib/python3.7/dist-packages/IPython/core/interactiveshell.py:2882: SettingWithCopyWarning: \n",
            "A value is trying to be set on a copy of a slice from a DataFrame\n",
            "\n",
            "See the caveats in the documentation: https://pandas.pydata.org/pandas-docs/stable/user_guide/indexing.html#returning-a-view-versus-a-copy\n",
            "  exec(code_obj, self.user_global_ns, self.user_ns)\n"
          ],
          "name": "stderr"
        }
      ]
    },
    {
      "cell_type": "code",
      "metadata": {
        "colab": {
          "base_uri": "https://localhost:8080/"
        },
        "id": "ht2695MUqOdL",
        "outputId": "f3f4d2ae-336b-44f4-9465-313735af14c9"
      },
      "source": [
        "!git clone \"https://github.com/jasonwei20/eda_nlp\""
      ],
      "execution_count": 52,
      "outputs": [
        {
          "output_type": "stream",
          "text": [
            "Cloning into 'eda_nlp'...\n",
            "remote: Enumerating objects: 396, done.\u001b[K\n",
            "remote: Counting objects: 100% (17/17), done.\u001b[K\n",
            "remote: Compressing objects: 100% (13/13), done.\u001b[K\n",
            "remote: Total 396 (delta 6), reused 8 (delta 4), pack-reused 379\u001b[K\n",
            "Receiving objects: 100% (396/396), 20.42 MiB | 21.35 MiB/s, done.\n",
            "Resolving deltas: 100% (189/189), done.\n"
          ],
          "name": "stdout"
        }
      ]
    },
    {
      "cell_type": "code",
      "metadata": {
        "colab": {
          "base_uri": "https://localhost:8080/"
        },
        "id": "DP1b-TTcqZpx",
        "outputId": "37b0b397-6b29-42de-b6ff-c88cc8965c74"
      },
      "source": [
        "!pip install -U nltk"
      ],
      "execution_count": 53,
      "outputs": [
        {
          "output_type": "stream",
          "text": [
            "Collecting nltk\n",
            "\u001b[?25l  Downloading https://files.pythonhosted.org/packages/5e/37/9532ddd4b1bbb619333d5708aaad9bf1742f051a664c3c6fa6632a105fd8/nltk-3.6.2-py3-none-any.whl (1.5MB)\n",
            "\u001b[K     |████████████████████████████████| 1.5MB 6.5MB/s \n",
            "\u001b[?25hRequirement already satisfied, skipping upgrade: joblib in /usr/local/lib/python3.7/dist-packages (from nltk) (1.0.1)\n",
            "Requirement already satisfied, skipping upgrade: click in /usr/local/lib/python3.7/dist-packages (from nltk) (7.1.2)\n",
            "Requirement already satisfied, skipping upgrade: tqdm in /usr/local/lib/python3.7/dist-packages (from nltk) (4.41.1)\n",
            "Requirement already satisfied, skipping upgrade: regex in /usr/local/lib/python3.7/dist-packages (from nltk) (2019.12.20)\n",
            "Installing collected packages: nltk\n",
            "  Found existing installation: nltk 3.2.5\n",
            "    Uninstalling nltk-3.2.5:\n",
            "      Successfully uninstalled nltk-3.2.5\n",
            "Successfully installed nltk-3.6.2\n"
          ],
          "name": "stdout"
        }
      ]
    },
    {
      "cell_type": "code",
      "metadata": {
        "colab": {
          "base_uri": "https://localhost:8080/"
        },
        "id": "1D7-FmaQqqLp",
        "outputId": "0e77525c-a0e3-4ab0-8b12-3440ad0f86a7"
      },
      "source": [
        "import nltk\n",
        "nltk.download('wordnet')"
      ],
      "execution_count": 54,
      "outputs": [
        {
          "output_type": "stream",
          "text": [
            "[nltk_data] Downloading package wordnet to /root/nltk_data...\n",
            "[nltk_data]   Unzipping corpora/wordnet.zip.\n"
          ],
          "name": "stderr"
        },
        {
          "output_type": "execute_result",
          "data": {
            "text/plain": [
              "True"
            ]
          },
          "metadata": {
            "tags": []
          },
          "execution_count": 54
        }
      ]
    },
    {
      "cell_type": "code",
      "metadata": {
        "colab": {
          "base_uri": "https://localhost:8080/"
        },
        "id": "hMlS4Yw_rWPj",
        "outputId": "a28e2ab0-d014-4bc7-8d13-cb4bd9defba1"
      },
      "source": [
        "%cd 'eda_nlp'"
      ],
      "execution_count": 58,
      "outputs": [
        {
          "output_type": "stream",
          "text": [
            "/content/eda_nlp\n"
          ],
          "name": "stdout"
        }
      ]
    },
    {
      "cell_type": "code",
      "metadata": {
        "colab": {
          "base_uri": "https://localhost:8080/"
        },
        "id": "nNwzT1fRq4xV",
        "outputId": "128c2e15-5d02-4d68-c33c-0b8b10cfac5c"
      },
      "source": [
        "!python code/augment.py --input='/content/eda_nlp/data/augmented_dataset.txt'"
      ],
      "execution_count": 59,
      "outputs": [
        {
          "output_type": "stream",
          "text": [
            "generated augmented sentences with eda for /content/eda_nlp/data/augmented_dataset.txt to /content/eda_nlp/data/eda_augmented_dataset.txt with num_aug=9\n"
          ],
          "name": "stdout"
        }
      ]
    },
    {
      "cell_type": "markdown",
      "metadata": {
        "id": "4Q3UIsHNtO7o"
      },
      "source": [
        "# Train Prep"
      ]
    },
    {
      "cell_type": "code",
      "metadata": {
        "id": "JDIyapAa6Pjr"
      },
      "source": [
        "import random\n",
        "import torch, torchtext\n",
        "from torchtext import data"
      ],
      "execution_count": 13,
      "outputs": []
    },
    {
      "cell_type": "code",
      "metadata": {
        "id": "4kqZx2hG6e4Q"
      },
      "source": [
        "# Manual Seed\n",
        "SEED = 43\n",
        "torch.manual_seed(SEED)\n",
        "CUDA_LAUNCH_BLOCKING=1"
      ],
      "execution_count": 14,
      "outputs": []
    },
    {
      "cell_type": "code",
      "metadata": {
        "id": "wofFldA_tdYH"
      },
      "source": [
        "df_train = pd.read_csv('eda_augmented_dataset.txt', sep='\\t')\n",
        "df_val = df_val"
      ],
      "execution_count": 31,
      "outputs": []
    },
    {
      "cell_type": "code",
      "metadata": {
        "colab": {
          "base_uri": "https://localhost:8080/",
          "height": 203
        },
        "id": "zsvG97j3ud0c",
        "outputId": "d6a11f74-7eb1-4f21-e57e-35772284160c"
      },
      "source": [
        "df_train.head()"
      ],
      "execution_count": 32,
      "outputs": [
        {
          "output_type": "execute_result",
          "data": {
            "text/html": [
              "<div>\n",
              "<style scoped>\n",
              "    .dataframe tbody tr th:only-of-type {\n",
              "        vertical-align: middle;\n",
              "    }\n",
              "\n",
              "    .dataframe tbody tr th {\n",
              "        vertical-align: top;\n",
              "    }\n",
              "\n",
              "    .dataframe thead th {\n",
              "        text-align: right;\n",
              "    }\n",
              "</style>\n",
              "<table border=\"1\" class=\"dataframe\">\n",
              "  <thead>\n",
              "    <tr style=\"text-align: right;\">\n",
              "      <th></th>\n",
              "      <th>labels</th>\n",
              "      <th>sentence</th>\n",
              "    </tr>\n",
              "  </thead>\n",
              "  <tbody>\n",
              "    <tr>\n",
              "      <th>0</th>\n",
              "      <td>3</td>\n",
              "      <td>he rock is destined to be the st century s seg...</td>\n",
              "    </tr>\n",
              "    <tr>\n",
              "      <th>1</th>\n",
              "      <td>3</td>\n",
              "      <td>the rock is destined to be the st century s ne...</td>\n",
              "    </tr>\n",
              "    <tr>\n",
              "      <th>2</th>\n",
              "      <td>3</td>\n",
              "      <td>the rock is destined to be the st c s new cona...</td>\n",
              "    </tr>\n",
              "    <tr>\n",
              "      <th>3</th>\n",
              "      <td>3</td>\n",
              "      <td>the rock is destined to be the st century s no...</td>\n",
              "    </tr>\n",
              "    <tr>\n",
              "      <th>4</th>\n",
              "      <td>3</td>\n",
              "      <td>to rock is destined to be the st century s new...</td>\n",
              "    </tr>\n",
              "  </tbody>\n",
              "</table>\n",
              "</div>"
            ],
            "text/plain": [
              "   labels                                           sentence\n",
              "0       3  he rock is destined to be the st century s seg...\n",
              "1       3  the rock is destined to be the st century s ne...\n",
              "2       3  the rock is destined to be the st c s new cona...\n",
              "3       3  the rock is destined to be the st century s no...\n",
              "4       3  to rock is destined to be the st century s new..."
            ]
          },
          "metadata": {
            "tags": []
          },
          "execution_count": 32
        }
      ]
    },
    {
      "cell_type": "code",
      "metadata": {
        "id": "aDBbe8Ad6yhE"
      },
      "source": [
        "df_val = df_val.reset_index()\n",
        "df_val.drop('index', axis=1, inplace=True)"
      ],
      "execution_count": 43,
      "outputs": []
    },
    {
      "cell_type": "code",
      "metadata": {
        "id": "db3eiDVx6mKf"
      },
      "source": [
        "Sentence = torchtext.legacy.data.Field(sequential = True, tokenize = 'spacy', batch_first =True, include_lengths=True)\n",
        "Label = torchtext.legacy.data.LabelField(tokenize ='spacy', is_target=True, batch_first =True, sequential =False)"
      ],
      "execution_count": 16,
      "outputs": []
    },
    {
      "cell_type": "code",
      "metadata": {
        "id": "-by1zHIV7LPI"
      },
      "source": [
        "fields = [('sentence', Sentence), ('label', Label)]"
      ],
      "execution_count": 33,
      "outputs": []
    },
    {
      "cell_type": "code",
      "metadata": {
        "id": "GxmCFTgk797i",
        "colab": {
          "base_uri": "https://localhost:8080/",
          "height": 421
        },
        "outputId": "56826366-d343-469c-9b99-a52941e98618"
      },
      "source": [
        "example_train = [torchtext.legacy.data.Example.fromlist([df_train.sentence[i],df_train.labels[i]], fields) for i in range(df_train.shape[0])] \n",
        "\n",
        "\n"
      ],
      "execution_count": 34,
      "outputs": [
        {
          "output_type": "error",
          "ename": "KeyError",
          "evalue": "ignored",
          "traceback": [
            "\u001b[0;31m---------------------------------------------------------------------------\u001b[0m",
            "\u001b[0;31mValueError\u001b[0m                                Traceback (most recent call last)",
            "\u001b[0;32m/usr/local/lib/python3.7/dist-packages/pandas/core/indexes/range.py\u001b[0m in \u001b[0;36mget_loc\u001b[0;34m(self, key, method, tolerance)\u001b[0m\n\u001b[1;32m    354\u001b[0m                 \u001b[0;32mtry\u001b[0m\u001b[0;34m:\u001b[0m\u001b[0;34m\u001b[0m\u001b[0;34m\u001b[0m\u001b[0m\n\u001b[0;32m--> 355\u001b[0;31m                     \u001b[0;32mreturn\u001b[0m \u001b[0mself\u001b[0m\u001b[0;34m.\u001b[0m\u001b[0m_range\u001b[0m\u001b[0;34m.\u001b[0m\u001b[0mindex\u001b[0m\u001b[0;34m(\u001b[0m\u001b[0mnew_key\u001b[0m\u001b[0;34m)\u001b[0m\u001b[0;34m\u001b[0m\u001b[0;34m\u001b[0m\u001b[0m\n\u001b[0m\u001b[1;32m    356\u001b[0m                 \u001b[0;32mexcept\u001b[0m \u001b[0mValueError\u001b[0m \u001b[0;32mas\u001b[0m \u001b[0merr\u001b[0m\u001b[0;34m:\u001b[0m\u001b[0;34m\u001b[0m\u001b[0;34m\u001b[0m\u001b[0m\n",
            "\u001b[0;31mValueError\u001b[0m: 0 is not in range",
            "\nThe above exception was the direct cause of the following exception:\n",
            "\u001b[0;31mKeyError\u001b[0m                                  Traceback (most recent call last)",
            "\u001b[0;32m<ipython-input-34-64ebb6255415>\u001b[0m in \u001b[0;36m<module>\u001b[0;34m()\u001b[0m\n\u001b[1;32m      1\u001b[0m \u001b[0mexample_train\u001b[0m \u001b[0;34m=\u001b[0m \u001b[0;34m[\u001b[0m\u001b[0mtorchtext\u001b[0m\u001b[0;34m.\u001b[0m\u001b[0mlegacy\u001b[0m\u001b[0;34m.\u001b[0m\u001b[0mdata\u001b[0m\u001b[0;34m.\u001b[0m\u001b[0mExample\u001b[0m\u001b[0;34m.\u001b[0m\u001b[0mfromlist\u001b[0m\u001b[0;34m(\u001b[0m\u001b[0;34m[\u001b[0m\u001b[0mdf_train\u001b[0m\u001b[0;34m.\u001b[0m\u001b[0msentence\u001b[0m\u001b[0;34m[\u001b[0m\u001b[0mi\u001b[0m\u001b[0;34m]\u001b[0m\u001b[0;34m,\u001b[0m\u001b[0mdf_train\u001b[0m\u001b[0;34m.\u001b[0m\u001b[0mlabels\u001b[0m\u001b[0;34m[\u001b[0m\u001b[0mi\u001b[0m\u001b[0;34m]\u001b[0m\u001b[0;34m]\u001b[0m\u001b[0;34m,\u001b[0m \u001b[0mfields\u001b[0m\u001b[0;34m)\u001b[0m \u001b[0;32mfor\u001b[0m \u001b[0mi\u001b[0m \u001b[0;32min\u001b[0m \u001b[0mrange\u001b[0m\u001b[0;34m(\u001b[0m\u001b[0mdf_train\u001b[0m\u001b[0;34m.\u001b[0m\u001b[0mshape\u001b[0m\u001b[0;34m[\u001b[0m\u001b[0;36m0\u001b[0m\u001b[0;34m]\u001b[0m\u001b[0;34m)\u001b[0m\u001b[0;34m]\u001b[0m\u001b[0;34m\u001b[0m\u001b[0;34m\u001b[0m\u001b[0m\n\u001b[0;32m----> 2\u001b[0;31m \u001b[0mexample_val\u001b[0m \u001b[0;34m=\u001b[0m \u001b[0;34m[\u001b[0m\u001b[0mtorchtext\u001b[0m\u001b[0;34m.\u001b[0m\u001b[0mlegacy\u001b[0m\u001b[0;34m.\u001b[0m\u001b[0mdata\u001b[0m\u001b[0;34m.\u001b[0m\u001b[0mExample\u001b[0m\u001b[0;34m.\u001b[0m\u001b[0mfromlist\u001b[0m\u001b[0;34m(\u001b[0m\u001b[0;34m[\u001b[0m\u001b[0mdf_val\u001b[0m\u001b[0;34m.\u001b[0m\u001b[0msentence\u001b[0m\u001b[0;34m[\u001b[0m\u001b[0mi\u001b[0m\u001b[0;34m]\u001b[0m\u001b[0;34m,\u001b[0m\u001b[0mdf_val\u001b[0m\u001b[0;34m.\u001b[0m\u001b[0mlabels\u001b[0m\u001b[0;34m[\u001b[0m\u001b[0mi\u001b[0m\u001b[0;34m]\u001b[0m\u001b[0;34m]\u001b[0m\u001b[0;34m,\u001b[0m \u001b[0mfields\u001b[0m\u001b[0;34m)\u001b[0m \u001b[0;32mfor\u001b[0m \u001b[0mi\u001b[0m \u001b[0;32min\u001b[0m \u001b[0mrange\u001b[0m\u001b[0;34m(\u001b[0m\u001b[0mdf_val\u001b[0m\u001b[0;34m.\u001b[0m\u001b[0mshape\u001b[0m\u001b[0;34m[\u001b[0m\u001b[0;36m0\u001b[0m\u001b[0;34m]\u001b[0m\u001b[0;34m)\u001b[0m\u001b[0;34m]\u001b[0m\u001b[0;34m\u001b[0m\u001b[0;34m\u001b[0m\u001b[0m\n\u001b[0m\u001b[1;32m      3\u001b[0m \u001b[0;34m\u001b[0m\u001b[0m\n",
            "\u001b[0;32m<ipython-input-34-64ebb6255415>\u001b[0m in \u001b[0;36m<listcomp>\u001b[0;34m(.0)\u001b[0m\n\u001b[1;32m      1\u001b[0m \u001b[0mexample_train\u001b[0m \u001b[0;34m=\u001b[0m \u001b[0;34m[\u001b[0m\u001b[0mtorchtext\u001b[0m\u001b[0;34m.\u001b[0m\u001b[0mlegacy\u001b[0m\u001b[0;34m.\u001b[0m\u001b[0mdata\u001b[0m\u001b[0;34m.\u001b[0m\u001b[0mExample\u001b[0m\u001b[0;34m.\u001b[0m\u001b[0mfromlist\u001b[0m\u001b[0;34m(\u001b[0m\u001b[0;34m[\u001b[0m\u001b[0mdf_train\u001b[0m\u001b[0;34m.\u001b[0m\u001b[0msentence\u001b[0m\u001b[0;34m[\u001b[0m\u001b[0mi\u001b[0m\u001b[0;34m]\u001b[0m\u001b[0;34m,\u001b[0m\u001b[0mdf_train\u001b[0m\u001b[0;34m.\u001b[0m\u001b[0mlabels\u001b[0m\u001b[0;34m[\u001b[0m\u001b[0mi\u001b[0m\u001b[0;34m]\u001b[0m\u001b[0;34m]\u001b[0m\u001b[0;34m,\u001b[0m \u001b[0mfields\u001b[0m\u001b[0;34m)\u001b[0m \u001b[0;32mfor\u001b[0m \u001b[0mi\u001b[0m \u001b[0;32min\u001b[0m \u001b[0mrange\u001b[0m\u001b[0;34m(\u001b[0m\u001b[0mdf_train\u001b[0m\u001b[0;34m.\u001b[0m\u001b[0mshape\u001b[0m\u001b[0;34m[\u001b[0m\u001b[0;36m0\u001b[0m\u001b[0;34m]\u001b[0m\u001b[0;34m)\u001b[0m\u001b[0;34m]\u001b[0m\u001b[0;34m\u001b[0m\u001b[0;34m\u001b[0m\u001b[0m\n\u001b[0;32m----> 2\u001b[0;31m \u001b[0mexample_val\u001b[0m \u001b[0;34m=\u001b[0m \u001b[0;34m[\u001b[0m\u001b[0mtorchtext\u001b[0m\u001b[0;34m.\u001b[0m\u001b[0mlegacy\u001b[0m\u001b[0;34m.\u001b[0m\u001b[0mdata\u001b[0m\u001b[0;34m.\u001b[0m\u001b[0mExample\u001b[0m\u001b[0;34m.\u001b[0m\u001b[0mfromlist\u001b[0m\u001b[0;34m(\u001b[0m\u001b[0;34m[\u001b[0m\u001b[0mdf_val\u001b[0m\u001b[0;34m.\u001b[0m\u001b[0msentence\u001b[0m\u001b[0;34m[\u001b[0m\u001b[0mi\u001b[0m\u001b[0;34m]\u001b[0m\u001b[0;34m,\u001b[0m\u001b[0mdf_val\u001b[0m\u001b[0;34m.\u001b[0m\u001b[0mlabels\u001b[0m\u001b[0;34m[\u001b[0m\u001b[0mi\u001b[0m\u001b[0;34m]\u001b[0m\u001b[0;34m]\u001b[0m\u001b[0;34m,\u001b[0m \u001b[0mfields\u001b[0m\u001b[0;34m)\u001b[0m \u001b[0;32mfor\u001b[0m \u001b[0mi\u001b[0m \u001b[0;32min\u001b[0m \u001b[0mrange\u001b[0m\u001b[0;34m(\u001b[0m\u001b[0mdf_val\u001b[0m\u001b[0;34m.\u001b[0m\u001b[0mshape\u001b[0m\u001b[0;34m[\u001b[0m\u001b[0;36m0\u001b[0m\u001b[0;34m]\u001b[0m\u001b[0;34m)\u001b[0m\u001b[0;34m]\u001b[0m\u001b[0;34m\u001b[0m\u001b[0;34m\u001b[0m\u001b[0m\n\u001b[0m\u001b[1;32m      3\u001b[0m \u001b[0;34m\u001b[0m\u001b[0m\n",
            "\u001b[0;32m/usr/local/lib/python3.7/dist-packages/pandas/core/series.py\u001b[0m in \u001b[0;36m__getitem__\u001b[0;34m(self, key)\u001b[0m\n\u001b[1;32m    880\u001b[0m \u001b[0;34m\u001b[0m\u001b[0m\n\u001b[1;32m    881\u001b[0m         \u001b[0;32melif\u001b[0m \u001b[0mkey_is_scalar\u001b[0m\u001b[0;34m:\u001b[0m\u001b[0;34m\u001b[0m\u001b[0;34m\u001b[0m\u001b[0m\n\u001b[0;32m--> 882\u001b[0;31m             \u001b[0;32mreturn\u001b[0m \u001b[0mself\u001b[0m\u001b[0;34m.\u001b[0m\u001b[0m_get_value\u001b[0m\u001b[0;34m(\u001b[0m\u001b[0mkey\u001b[0m\u001b[0;34m)\u001b[0m\u001b[0;34m\u001b[0m\u001b[0;34m\u001b[0m\u001b[0m\n\u001b[0m\u001b[1;32m    883\u001b[0m \u001b[0;34m\u001b[0m\u001b[0m\n\u001b[1;32m    884\u001b[0m         \u001b[0;32mif\u001b[0m \u001b[0mis_hashable\u001b[0m\u001b[0;34m(\u001b[0m\u001b[0mkey\u001b[0m\u001b[0;34m)\u001b[0m\u001b[0;34m:\u001b[0m\u001b[0;34m\u001b[0m\u001b[0;34m\u001b[0m\u001b[0m\n",
            "\u001b[0;32m/usr/local/lib/python3.7/dist-packages/pandas/core/series.py\u001b[0m in \u001b[0;36m_get_value\u001b[0;34m(self, label, takeable)\u001b[0m\n\u001b[1;32m    988\u001b[0m \u001b[0;34m\u001b[0m\u001b[0m\n\u001b[1;32m    989\u001b[0m         \u001b[0;31m# Similar to Index.get_value, but we do not fall back to positional\u001b[0m\u001b[0;34m\u001b[0m\u001b[0;34m\u001b[0m\u001b[0;34m\u001b[0m\u001b[0m\n\u001b[0;32m--> 990\u001b[0;31m         \u001b[0mloc\u001b[0m \u001b[0;34m=\u001b[0m \u001b[0mself\u001b[0m\u001b[0;34m.\u001b[0m\u001b[0mindex\u001b[0m\u001b[0;34m.\u001b[0m\u001b[0mget_loc\u001b[0m\u001b[0;34m(\u001b[0m\u001b[0mlabel\u001b[0m\u001b[0;34m)\u001b[0m\u001b[0;34m\u001b[0m\u001b[0;34m\u001b[0m\u001b[0m\n\u001b[0m\u001b[1;32m    991\u001b[0m         \u001b[0;32mreturn\u001b[0m \u001b[0mself\u001b[0m\u001b[0;34m.\u001b[0m\u001b[0mindex\u001b[0m\u001b[0;34m.\u001b[0m\u001b[0m_get_values_for_loc\u001b[0m\u001b[0;34m(\u001b[0m\u001b[0mself\u001b[0m\u001b[0;34m,\u001b[0m \u001b[0mloc\u001b[0m\u001b[0;34m,\u001b[0m \u001b[0mlabel\u001b[0m\u001b[0;34m)\u001b[0m\u001b[0;34m\u001b[0m\u001b[0;34m\u001b[0m\u001b[0m\n\u001b[1;32m    992\u001b[0m \u001b[0;34m\u001b[0m\u001b[0m\n",
            "\u001b[0;32m/usr/local/lib/python3.7/dist-packages/pandas/core/indexes/range.py\u001b[0m in \u001b[0;36mget_loc\u001b[0;34m(self, key, method, tolerance)\u001b[0m\n\u001b[1;32m    355\u001b[0m                     \u001b[0;32mreturn\u001b[0m \u001b[0mself\u001b[0m\u001b[0;34m.\u001b[0m\u001b[0m_range\u001b[0m\u001b[0;34m.\u001b[0m\u001b[0mindex\u001b[0m\u001b[0;34m(\u001b[0m\u001b[0mnew_key\u001b[0m\u001b[0;34m)\u001b[0m\u001b[0;34m\u001b[0m\u001b[0;34m\u001b[0m\u001b[0m\n\u001b[1;32m    356\u001b[0m                 \u001b[0;32mexcept\u001b[0m \u001b[0mValueError\u001b[0m \u001b[0;32mas\u001b[0m \u001b[0merr\u001b[0m\u001b[0;34m:\u001b[0m\u001b[0;34m\u001b[0m\u001b[0;34m\u001b[0m\u001b[0m\n\u001b[0;32m--> 357\u001b[0;31m                     \u001b[0;32mraise\u001b[0m \u001b[0mKeyError\u001b[0m\u001b[0;34m(\u001b[0m\u001b[0mkey\u001b[0m\u001b[0;34m)\u001b[0m \u001b[0;32mfrom\u001b[0m \u001b[0merr\u001b[0m\u001b[0;34m\u001b[0m\u001b[0;34m\u001b[0m\u001b[0m\n\u001b[0m\u001b[1;32m    358\u001b[0m             \u001b[0;32mraise\u001b[0m \u001b[0mKeyError\u001b[0m\u001b[0;34m(\u001b[0m\u001b[0mkey\u001b[0m\u001b[0;34m)\u001b[0m\u001b[0;34m\u001b[0m\u001b[0;34m\u001b[0m\u001b[0m\n\u001b[1;32m    359\u001b[0m         \u001b[0;32mreturn\u001b[0m \u001b[0msuper\u001b[0m\u001b[0;34m(\u001b[0m\u001b[0;34m)\u001b[0m\u001b[0;34m.\u001b[0m\u001b[0mget_loc\u001b[0m\u001b[0;34m(\u001b[0m\u001b[0mkey\u001b[0m\u001b[0;34m,\u001b[0m \u001b[0mmethod\u001b[0m\u001b[0;34m=\u001b[0m\u001b[0mmethod\u001b[0m\u001b[0;34m,\u001b[0m \u001b[0mtolerance\u001b[0m\u001b[0;34m=\u001b[0m\u001b[0mtolerance\u001b[0m\u001b[0;34m)\u001b[0m\u001b[0;34m\u001b[0m\u001b[0;34m\u001b[0m\u001b[0m\n",
            "\u001b[0;31mKeyError\u001b[0m: 0"
          ]
        }
      ]
    },
    {
      "cell_type": "code",
      "metadata": {
        "id": "YPZQbQnJ6uu_"
      },
      "source": [
        "example_val = [torchtext.legacy.data.Example.fromlist([df_val.sentence[i],df_val.labels[i]], fields) for i in range(df_val.shape[0])] "
      ],
      "execution_count": 44,
      "outputs": []
    },
    {
      "cell_type": "code",
      "metadata": {
        "id": "-Lj9XCy38OqE"
      },
      "source": [
        "train = torchtext.legacy.data.Dataset(example_train, fields)\n",
        "valid = torchtext.legacy.data.Dataset(example_val, fields)"
      ],
      "execution_count": 45,
      "outputs": []
    },
    {
      "cell_type": "code",
      "metadata": {
        "id": "4PIA3n0l8m2x"
      },
      "source": [
        "#(train, valid) = dataset.split(split_ratio=[70, 30], random_state = random.seed(SEED))\n"
      ],
      "execution_count": null,
      "outputs": []
    },
    {
      "cell_type": "code",
      "metadata": {
        "colab": {
          "base_uri": "https://localhost:8080/"
        },
        "id": "tsToO_PEu6zJ",
        "outputId": "4078d6d4-1d63-4882-e5c7-56f30e6797b6"
      },
      "source": [
        "len(train), len(valid)"
      ],
      "execution_count": 46,
      "outputs": [
        {
          "output_type": "execute_result",
          "data": {
            "text/plain": [
              "(88160, 3557)"
            ]
          },
          "metadata": {
            "tags": []
          },
          "execution_count": 46
        }
      ]
    },
    {
      "cell_type": "code",
      "metadata": {
        "id": "JX5_chR-FvqX"
      },
      "source": [
        "df_train.head()"
      ],
      "execution_count": null,
      "outputs": []
    },
    {
      "cell_type": "code",
      "metadata": {
        "id": "b_K23gxx84-K"
      },
      "source": [
        "Sentence.build_vocab(train)\n",
        "Label.build_vocab(train)"
      ],
      "execution_count": 47,
      "outputs": []
    },
    {
      "cell_type": "code",
      "metadata": {
        "colab": {
          "base_uri": "https://localhost:8080/"
        },
        "id": "zCPG8VrE9MKq",
        "outputId": "2257025d-b6b7-408f-835a-2c435b19379e"
      },
      "source": [
        "print('Size of input vocab : ', len(Sentence.vocab))\n",
        "print('Size of label vocab : ', len(Label.vocab))\n",
        "print('Top 10 words appreared repeatedly :', list(Sentence.vocab.freqs.most_common(10)))\n",
        "print('Labels : ', Label.vocab.stoi)"
      ],
      "execution_count": 48,
      "outputs": [
        {
          "output_type": "stream",
          "text": [
            "Size of input vocab :  21348\n",
            "Size of label vocab :  5\n",
            "Top 10 words appreared repeatedly : [('the', 76582), ('a', 56433), ('and', 46729), ('of', 46418), ('to', 32101), ('s', 26994), ('is', 26571), ('it', 24998), ('that', 20477), ('in', 20454)]\n",
            "Labels :  defaultdict(None, {3: 0, 1: 1, 2: 2, 4: 3, 0: 4})\n"
          ],
          "name": "stdout"
        }
      ]
    },
    {
      "cell_type": "code",
      "metadata": {
        "colab": {
          "base_uri": "https://localhost:8080/"
        },
        "id": "gBmMQQcX9SZk",
        "outputId": "0bcdb5b6-0cdb-42f2-87bd-03e9c1bb4931"
      },
      "source": [
        "device = torch.device(\"cuda\" if torch.cuda.is_available() else \"cpu\")\n",
        "device"
      ],
      "execution_count": 49,
      "outputs": [
        {
          "output_type": "execute_result",
          "data": {
            "text/plain": [
              "device(type='cuda')"
            ]
          },
          "metadata": {
            "tags": []
          },
          "execution_count": 49
        }
      ]
    },
    {
      "cell_type": "code",
      "metadata": {
        "id": "fIJyulXA9sEr"
      },
      "source": [
        "train_iterator, valid_iterator = torchtext.legacy.data.BucketIterator.splits((train, valid), batch_size = 16, \n",
        "                                                            sort_key = lambda x: len(x.sentence),\n",
        "                                                            sort_within_batch=True, device = device)"
      ],
      "execution_count": 50,
      "outputs": []
    },
    {
      "cell_type": "code",
      "metadata": {
        "colab": {
          "base_uri": "https://localhost:8080/"
        },
        "id": "0kgqqK75FLEV",
        "outputId": "66e530a6-8123-4b5f-8c6f-ccf010f5a780"
      },
      "source": [
        "next(iter(train_iterator))\n",
        "#len(train.examples[11].tweet)"
      ],
      "execution_count": 51,
      "outputs": [
        {
          "output_type": "execute_result",
          "data": {
            "text/plain": [
              "\n",
              "[torchtext.legacy.data.batch.Batch of size 16]\n",
              "\t[.sentence]:('[torch.cuda.LongTensor of size 16x17 (GPU 0)]', '[torch.cuda.LongTensor of size 16 (GPU 0)]')\n",
              "\t[.label]:[torch.cuda.LongTensor of size 16 (GPU 0)]"
            ]
          },
          "metadata": {
            "tags": []
          },
          "execution_count": 51
        }
      ]
    },
    {
      "cell_type": "code",
      "metadata": {
        "id": "l_NVSpoV-Uaj"
      },
      "source": [
        "import os, pickle\n",
        "with open('tokenizer.pkl', 'wb') as tokens: \n",
        "    pickle.dump(Sentence.vocab.stoi, tokens)"
      ],
      "execution_count": 52,
      "outputs": []
    },
    {
      "cell_type": "code",
      "metadata": {
        "id": "fNQnNcH6-oZZ"
      },
      "source": [
        "import torch.nn as nn\n",
        "import torch.nn.functional as F\n",
        "\n",
        "class classifier(nn.Module):\n",
        "    \n",
        "    # Define all the layers used in model\n",
        "    def __init__(self, vocab_size, embedding_dim, hidden_dim, output_dim, n_layers, dropout):\n",
        "        \n",
        "        super().__init__()          \n",
        "        \n",
        "        # Embedding layer\n",
        "        self.embedding = nn.Embedding(vocab_size, embedding_dim)\n",
        "        \n",
        "        # LSTM layer\n",
        "        self.encoder = nn.LSTM(embedding_dim, \n",
        "                           hidden_dim, \n",
        "                           num_layers=n_layers, \n",
        "                           dropout=dropout,\n",
        "                           batch_first=True)\n",
        "        # try using nn.GRU or nn.RNN here and compare their performances\n",
        "        # try bidirectional and compare their performances\n",
        "        \n",
        "        # Dense layer\n",
        "        self.fc = nn.Linear(hidden_dim, output_dim)\n",
        "        \n",
        "    def forward(self, text, text_lengths):\n",
        "        \n",
        "        # text = [batch size, sent_length]\n",
        "        embedded = self.embedding(text)\n",
        "        # embedded = [batch size, sent_len, emb dim]\n",
        "      \n",
        "        # packed sequence\n",
        "        packed_embedded = nn.utils.rnn.pack_padded_sequence(embedded, text_lengths.cpu(), batch_first=True)\n",
        "        \n",
        "        packed_output, (hidden, cell) = self.encoder(packed_embedded)\n",
        "        #hidden = [batch size, num layers * num directions,hid dim]\n",
        "        #cell = [batch size, num layers * num directions,hid dim]\n",
        "    \n",
        "        # Hidden = [batch size, hid dim * num directions]\n",
        "        dense_outputs = self.fc(hidden)   \n",
        "        \n",
        "        # Final activation function softmax\n",
        "        output = F.softmax(dense_outputs[0], dim=1)\n",
        "            \n",
        "        return output"
      ],
      "execution_count": 53,
      "outputs": []
    },
    {
      "cell_type": "code",
      "metadata": {
        "id": "TFNWimMMAKya"
      },
      "source": [
        "# Define hyperparameters\n",
        "size_of_vocab = len(Sentence.vocab)\n",
        "embedding_dim = 300\n",
        "num_hidden_nodes = 100\n",
        "num_output_nodes = 5\n",
        "num_layers = 2\n",
        "dropout = 0.2\n",
        "\n",
        "# Instantiate the model\n",
        "model = classifier(size_of_vocab, embedding_dim, num_hidden_nodes, num_output_nodes, num_layers, dropout = dropout)"
      ],
      "execution_count": 54,
      "outputs": []
    },
    {
      "cell_type": "code",
      "metadata": {
        "colab": {
          "base_uri": "https://localhost:8080/"
        },
        "id": "IRextCcAASGO",
        "outputId": "3fd776a4-6028-42f9-e7f7-7ac981cb26cf"
      },
      "source": [
        "print(model)\n",
        "\n",
        "#No. of trianable parameters\n",
        "def count_parameters(model):\n",
        "    return sum(p.numel() for p in model.parameters() if p.requires_grad)\n",
        "    \n",
        "print(f'The model has {count_parameters(model):,} trainable parameters')"
      ],
      "execution_count": 55,
      "outputs": [
        {
          "output_type": "stream",
          "text": [
            "classifier(\n",
            "  (embedding): Embedding(21348, 300)\n",
            "  (encoder): LSTM(300, 100, num_layers=2, batch_first=True, dropout=0.2)\n",
            "  (fc): Linear(in_features=100, out_features=5, bias=True)\n",
            ")\n",
            "The model has 6,646,505 trainable parameters\n"
          ],
          "name": "stdout"
        }
      ]
    },
    {
      "cell_type": "code",
      "metadata": {
        "id": "EPK6b19HATLm"
      },
      "source": [
        "import torch.optim as optim\n",
        "\n",
        "# define optimizer and loss\n",
        "optimizer = optim.Adam(model.parameters(), lr=2e-4)\n",
        "criterion = nn.CrossEntropyLoss()\n",
        "\n",
        "# define metric\n",
        "def binary_accuracy(preds, y):\n",
        "    #round predictions to the closest integer\n",
        "    _, predictions = torch.max(preds, 1)\n",
        "    \n",
        "    correct = (predictions == y).float() \n",
        "    acc = correct.sum() / len(correct)\n",
        "    return acc\n",
        "    \n",
        "# push to cuda if available\n",
        "model = model.to(device)\n",
        "criterion = criterion.to(device)"
      ],
      "execution_count": 56,
      "outputs": []
    },
    {
      "cell_type": "code",
      "metadata": {
        "id": "A8t9iWwqAify"
      },
      "source": [
        "def train(model, iterator, optimizer, criterion):\n",
        "    \n",
        "    # initialize every epoch \n",
        "    \n",
        "    epoch_loss = 0\n",
        "    epoch_acc = 0\n",
        "    \n",
        "    # set the model in training phase\n",
        "    model.train()  \n",
        "    \n",
        "    for batch in iterator:\n",
        "        # resets the gradients after every batch\n",
        "        optimizer.zero_grad() \n",
        "        \n",
        "        \n",
        "        # retrieve text and no. of words\n",
        "        sentence, sentence_lengths = batch.sentence  \n",
        "        \n",
        "        # convert to 1D tensor\n",
        "        predictions = model(sentence, sentence_lengths).squeeze()  \n",
        "        #print(predictions, batch.label)\n",
        "        # compute the loss\n",
        "        loss = criterion(predictions, batch.label)        \n",
        "        \n",
        "        # compute the binary accuracy\n",
        "        acc = binary_accuracy(predictions, batch.label)   \n",
        "        \n",
        "        # backpropage the loss and compute the gradients\n",
        "        loss.backward()       \n",
        "        \n",
        "        # update the weights\n",
        "        optimizer.step()      \n",
        "        \n",
        "        # loss and accuracy\n",
        "        epoch_loss += loss.item()  \n",
        "        epoch_acc += acc.item()    \n",
        "        \n",
        "    return epoch_loss / len(iterator), epoch_acc / len(iterator)"
      ],
      "execution_count": 57,
      "outputs": []
    },
    {
      "cell_type": "code",
      "metadata": {
        "id": "LMBXHd5JAuX-"
      },
      "source": [
        "def evaluate(model, iterator, criterion):\n",
        "    \n",
        "    # initialize every epoch\n",
        "    epoch_loss = 0\n",
        "    epoch_acc = 0\n",
        "\n",
        "    # deactivating dropout layers\n",
        "    model.eval()\n",
        "    \n",
        "    # deactivates autograd\n",
        "    with torch.no_grad():\n",
        "    \n",
        "        for batch in iterator:\n",
        "        \n",
        "            # retrieve text and no. of words\n",
        "            sentence, sentence_lengths = batch.sentence\n",
        "            \n",
        "            # convert to 1d tensor\n",
        "            predictions = model(sentence, sentence_lengths).squeeze() \n",
        "            \n",
        "            # compute loss and accuracy\n",
        "            loss = criterion(predictions, batch.label)\n",
        "            acc = binary_accuracy(predictions, batch.label)\n",
        "            \n",
        "            # keep track of loss and accuracy\n",
        "            epoch_loss += loss.item()\n",
        "            epoch_acc += acc.item()\n",
        "        \n",
        "    return epoch_loss / len(iterator), epoch_acc / len(iterator)"
      ],
      "execution_count": 58,
      "outputs": []
    },
    {
      "cell_type": "code",
      "metadata": {
        "colab": {
          "base_uri": "https://localhost:8080/"
        },
        "id": "q7UPwN0KAvVq",
        "outputId": "4663d3d5-65aa-4e40-a98d-47fd8b2a6886"
      },
      "source": [
        "N_EPOCHS = 10\n",
        "best_valid_loss = float('inf')\n",
        "\n",
        "for epoch in range(N_EPOCHS):\n",
        "     \n",
        "    # train the model\n",
        "    train_loss, train_acc = train(model, train_iterator, optimizer, criterion)\n",
        "    \n",
        "    # evaluate the model\n",
        "    valid_loss, valid_acc = evaluate(model, valid_iterator, criterion)\n",
        "    \n",
        "    # save the best model\n",
        "    if valid_loss < best_valid_loss:\n",
        "        best_valid_loss = valid_loss\n",
        "        torch.save(model.state_dict(), 'saved_weights.pt')\n",
        "    \n",
        "    print(f'\\tTrain Loss: {train_loss:.3f} | Train Acc: {train_acc*100:.2f}%')\n",
        "    print(f'\\t Val. Loss: {valid_loss:.3f} |  Val. Acc: {valid_acc*100:.2f}% \\n')"
      ],
      "execution_count": 59,
      "outputs": [
        {
          "output_type": "stream",
          "text": [
            "\tTrain Loss: 1.423 | Train Acc: 48.30%\n",
            "\t Val. Loss: 1.564 |  Val. Acc: 31.09% \n",
            "\n",
            "\tTrain Loss: 1.175 | Train Acc: 74.46%\n",
            "\t Val. Loss: 1.569 |  Val. Acc: 30.92% \n",
            "\n",
            "\tTrain Loss: 1.069 | Train Acc: 84.86%\n",
            "\t Val. Loss: 1.585 |  Val. Acc: 28.59% \n",
            "\n",
            "\tTrain Loss: 0.995 | Train Acc: 91.89%\n",
            "\t Val. Loss: 1.607 |  Val. Acc: 26.83% \n",
            "\n",
            "\tTrain Loss: 0.965 | Train Acc: 94.49%\n",
            "\t Val. Loss: 1.601 |  Val. Acc: 27.92% \n",
            "\n",
            "\tTrain Loss: 0.951 | Train Acc: 95.64%\n",
            "\t Val. Loss: 1.589 |  Val. Acc: 29.27% \n",
            "\n",
            "\tTrain Loss: 0.943 | Train Acc: 96.40%\n",
            "\t Val. Loss: 1.608 |  Val. Acc: 27.30% \n",
            "\n",
            "\tTrain Loss: 0.937 | Train Acc: 96.89%\n",
            "\t Val. Loss: 1.610 |  Val. Acc: 27.05% \n",
            "\n",
            "\tTrain Loss: 0.933 | Train Acc: 97.32%\n",
            "\t Val. Loss: 1.589 |  Val. Acc: 29.61% \n",
            "\n",
            "\tTrain Loss: 0.930 | Train Acc: 97.55%\n",
            "\t Val. Loss: 1.613 |  Val. Acc: 27.30% \n",
            "\n"
          ],
          "name": "stdout"
        }
      ]
    },
    {
      "cell_type": "code",
      "metadata": {
        "id": "BXCGxks4AxT3"
      },
      "source": [
        "#load weights and tokenizer\n",
        "\n",
        "path='./saved_weights.pt'\n",
        "model.load_state_dict(torch.load(path));\n",
        "model.eval();\n",
        "tokenizer_file = open('./tokenizer.pkl', 'rb')\n",
        "tokenizer = pickle.load(tokenizer_file)\n",
        "\n",
        "#inference \n",
        "\n",
        "import spacy\n",
        "nlp = spacy.load('en')\n",
        "\n",
        "def classify_sentence(sentence):\n",
        "    \n",
        "    categories = {0: \"Very Negative\", 1:\"Negative\", 2:\"Neutral\", 3:\"Positive\", 4:\"Very Positive\"}\n",
        "    \n",
        "    # tokenize the tweet \n",
        "    tokenized = [tok.text for tok in nlp.tokenizer(sentence)] \n",
        "    # convert to integer sequence using predefined tokenizer dictionary\n",
        "    indexed = [tokenizer[t] for t in tokenized]        \n",
        "    # compute no. of words        \n",
        "    length = [len(indexed)]\n",
        "    # convert to tensor                                    \n",
        "    tensor = torch.LongTensor(indexed).to(device)   \n",
        "    # reshape in form of batch, no. of words           \n",
        "    tensor = tensor.unsqueeze(1).T  \n",
        "    # convert to tensor                          \n",
        "    length_tensor = torch.LongTensor(length)\n",
        "    # Get the model prediction                  \n",
        "    prediction = model(tensor, length_tensor)\n",
        "\n",
        "    _, pred = torch.max(prediction, 1) \n",
        "    \n",
        "    return categories[pred.item()]"
      ],
      "execution_count": 60,
      "outputs": []
    },
    {
      "cell_type": "code",
      "metadata": {
        "id": "C1mmb9YiHWOv",
        "colab": {
          "base_uri": "https://localhost:8080/",
          "height": 35
        },
        "outputId": "427dc493-3f05-401d-b768-6ac7cdafe3c4"
      },
      "source": [
        "classify_sentence(\"Jason X has cheesy effects and a hoary plot , but its macabre , self-deprecating sense of humor makes up for a lot .\")"
      ],
      "execution_count": 61,
      "outputs": [
        {
          "output_type": "execute_result",
          "data": {
            "application/vnd.google.colaboratory.intrinsic+json": {
              "type": "string"
            },
            "text/plain": [
              "'Negative'"
            ]
          },
          "metadata": {
            "tags": []
          },
          "execution_count": 61
        }
      ]
    }
  ]
}